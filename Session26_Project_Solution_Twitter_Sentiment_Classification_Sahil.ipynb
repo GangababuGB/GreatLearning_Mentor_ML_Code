{
  "nbformat": 4,
  "nbformat_minor": 0,
  "metadata": {
    "colab": {
      "name": "Project_Solution_Twitter_Sentiment_Classification_Sahil.ipynb",
      "provenance": [],
      "collapsed_sections": []
    },
    "kernelspec": {
      "name": "python3",
      "display_name": "Python 3"
    }
  },
  "cells": [
    {
      "cell_type": "markdown",
      "metadata": {
        "id": "NdN-_t0YBO8H"
      },
      "source": [
        "# Project Description:Twitter US Airline Sentiment\n",
        "\n",
        "# Data Description:\n",
        "\n",
        "- A sentiment analysis job about the problems of each major U.S. airline.\n",
        "- Twitter data was scraped from February of 2015 and contributors were asked to first classify positive, negative, and neutral tweets, followed by categorizing negative reasons (such as \"late flight\" or \"rude service\").\n",
        "\n",
        "# Dataset:\n",
        "\n",
        "- The project is from a dataset from Kaggle.\n",
        "- Link to the Kaggle project site:https://www.kaggle.com/crowdflower/twitter-airline-sentiment\n",
        "- The dataset has to be downloaded from the above Kagglewebsite.\n",
        "\n",
        "# Objective:\n",
        "\n",
        "- To implement the techniques learnt as a part of the course.\n",
        "\n",
        "# Learning Outcomes:\n",
        "- Basic understanding of text pre-processing.\n",
        "- What to do after text pre-processing:\n",
        "    - Bag of words\n",
        "    - Tf-idf\n",
        "- Build the classification model.\n",
        "- Evaluate the Model performance."
      ]
    },
    {
      "cell_type": "code",
      "metadata": {
        "id": "12uFIt9NAVES",
        "colab": {
          "base_uri": "https://localhost:8080/"
        },
        "outputId": "43a110ce-823c-4573-9085-a01b611663a3"
      },
      "source": [
        "# install and import necessary libraries.\n",
        "\n",
        "!pip install contractions\n",
        "\n",
        "import re, string, unicodedata                          # Import Regex, string and unicodedata.\n",
        "import contractions                                     # Import contractions library.\n",
        "from bs4 import BeautifulSoup                           # Import BeautifulSoup.\n",
        "\n",
        "import numpy as np                                      # Import numpy.\n",
        "import pandas as pd                                     # Import pandas.\n",
        "import nltk                                             # Import Natural Language Tool-Kit.\n",
        "\n",
        "nltk.download('stopwords')                              # Download Stopwords.\n",
        "nltk.download('punkt')\n",
        "nltk.download('wordnet')\n",
        "\n",
        "from nltk.corpus import stopwords                       # Import stopwords.\n",
        "from nltk.tokenize import word_tokenize, sent_tokenize  # Import Tokenizer.\n",
        "from nltk.stem.wordnet import WordNetLemmatizer         # Import Lemmatizer."
      ],
      "execution_count": 1,
      "outputs": [
        {
          "output_type": "stream",
          "text": [
            "Collecting contractions\n",
            "  Downloading https://files.pythonhosted.org/packages/0a/04/d5e0bb9f2cef5d15616ebf68087a725c5dbdd71bd422bcfb35d709f98ce7/contractions-0.0.48-py2.py3-none-any.whl\n",
            "Collecting textsearch>=0.0.21\n",
            "  Downloading https://files.pythonhosted.org/packages/d3/fe/021d7d76961b5ceb9f8d022c4138461d83beff36c3938dc424586085e559/textsearch-0.0.21-py2.py3-none-any.whl\n",
            "Collecting pyahocorasick\n",
            "\u001b[?25l  Downloading https://files.pythonhosted.org/packages/7f/c2/eae730037ae1cbbfaa229d27030d1d5e34a1e41114b21447d1202ae9c220/pyahocorasick-1.4.2.tar.gz (321kB)\n",
            "\u001b[K     |████████████████████████████████| 327kB 5.3MB/s \n",
            "\u001b[?25hCollecting anyascii\n",
            "\u001b[?25l  Downloading https://files.pythonhosted.org/packages/09/c7/61370d9e3c349478e89a5554c1e5d9658e1e3116cc4f2528f568909ebdf1/anyascii-0.1.7-py3-none-any.whl (260kB)\n",
            "\u001b[K     |████████████████████████████████| 266kB 9.3MB/s \n",
            "\u001b[?25hBuilding wheels for collected packages: pyahocorasick\n",
            "  Building wheel for pyahocorasick (setup.py) ... \u001b[?25l\u001b[?25hdone\n",
            "  Created wheel for pyahocorasick: filename=pyahocorasick-1.4.2-cp37-cp37m-linux_x86_64.whl size=85399 sha256=fe17ffa5385aa6b4369e9b322c09869c6832b8319c9025872b07c9dcd5131b2b\n",
            "  Stored in directory: /root/.cache/pip/wheels/3a/03/34/77e3ece0bba8b86bfac88a79f923b36d805cad63caeba38842\n",
            "Successfully built pyahocorasick\n",
            "Installing collected packages: pyahocorasick, anyascii, textsearch, contractions\n",
            "Successfully installed anyascii-0.1.7 contractions-0.0.48 pyahocorasick-1.4.2 textsearch-0.0.21\n",
            "[nltk_data] Downloading package stopwords to /root/nltk_data...\n",
            "[nltk_data]   Unzipping corpora/stopwords.zip.\n",
            "[nltk_data] Downloading package punkt to /root/nltk_data...\n",
            "[nltk_data]   Unzipping tokenizers/punkt.zip.\n",
            "[nltk_data] Downloading package wordnet to /root/nltk_data...\n",
            "[nltk_data]   Unzipping corpora/wordnet.zip.\n"
          ],
          "name": "stdout"
        }
      ]
    },
    {
      "cell_type": "code",
      "metadata": {
        "colab": {
          "base_uri": "https://localhost:8080/"
        },
        "id": "SG3PV4skuELl",
        "outputId": "c74a9e84-e80d-4a3d-d663-7a48597f438b"
      },
      "source": [
        "from google.colab import drive\n",
        "drive.mount('/content/drive')"
      ],
      "execution_count": 2,
      "outputs": [
        {
          "output_type": "stream",
          "text": [
            "Mounted at /content/drive\n"
          ],
          "name": "stdout"
        }
      ]
    },
    {
      "cell_type": "code",
      "metadata": {
        "id": "Ec3j31-PCYWA"
      },
      "source": [
        "# Loading data into pandas dataframe\n",
        "data = pd.read_csv(\"/content/drive/My Drive/GL_Mentor/Data/Tweets.csv\")"
      ],
      "execution_count": 3,
      "outputs": []
    },
    {
      "cell_type": "code",
      "metadata": {
        "id": "7DysT_j1Cky-",
        "colab": {
          "base_uri": "https://localhost:8080/"
        },
        "outputId": "2ca86d22-7dd3-4dc3-872e-f239236392ae"
      },
      "source": [
        "data.shape                                               # print shape of data."
      ],
      "execution_count": 4,
      "outputs": [
        {
          "output_type": "execute_result",
          "data": {
            "text/plain": [
              "(14640, 15)"
            ]
          },
          "metadata": {
            "tags": []
          },
          "execution_count": 4
        }
      ]
    },
    {
      "cell_type": "code",
      "metadata": {
        "id": "MKS-Z7GiCmWX",
        "colab": {
          "base_uri": "https://localhost:8080/",
          "height": 296
        },
        "outputId": "79514de7-896b-4d2e-9133-d1612a2d52bf"
      },
      "source": [
        "data.head(3)                                              # Print first 5 rows of data."
      ],
      "execution_count": 5,
      "outputs": [
        {
          "output_type": "execute_result",
          "data": {
            "text/html": [
              "<div>\n",
              "<style scoped>\n",
              "    .dataframe tbody tr th:only-of-type {\n",
              "        vertical-align: middle;\n",
              "    }\n",
              "\n",
              "    .dataframe tbody tr th {\n",
              "        vertical-align: top;\n",
              "    }\n",
              "\n",
              "    .dataframe thead th {\n",
              "        text-align: right;\n",
              "    }\n",
              "</style>\n",
              "<table border=\"1\" class=\"dataframe\">\n",
              "  <thead>\n",
              "    <tr style=\"text-align: right;\">\n",
              "      <th></th>\n",
              "      <th>tweet_id</th>\n",
              "      <th>airline_sentiment</th>\n",
              "      <th>airline_sentiment_confidence</th>\n",
              "      <th>negativereason</th>\n",
              "      <th>negativereason_confidence</th>\n",
              "      <th>airline</th>\n",
              "      <th>airline_sentiment_gold</th>\n",
              "      <th>name</th>\n",
              "      <th>negativereason_gold</th>\n",
              "      <th>retweet_count</th>\n",
              "      <th>text</th>\n",
              "      <th>tweet_coord</th>\n",
              "      <th>tweet_created</th>\n",
              "      <th>tweet_location</th>\n",
              "      <th>user_timezone</th>\n",
              "    </tr>\n",
              "  </thead>\n",
              "  <tbody>\n",
              "    <tr>\n",
              "      <th>0</th>\n",
              "      <td>570306133677760513</td>\n",
              "      <td>neutral</td>\n",
              "      <td>1.0000</td>\n",
              "      <td>NaN</td>\n",
              "      <td>NaN</td>\n",
              "      <td>Virgin America</td>\n",
              "      <td>NaN</td>\n",
              "      <td>cairdin</td>\n",
              "      <td>NaN</td>\n",
              "      <td>0</td>\n",
              "      <td>@VirginAmerica What @dhepburn said.</td>\n",
              "      <td>NaN</td>\n",
              "      <td>2015-02-24 11:35:52 -0800</td>\n",
              "      <td>NaN</td>\n",
              "      <td>Eastern Time (US &amp; Canada)</td>\n",
              "    </tr>\n",
              "    <tr>\n",
              "      <th>1</th>\n",
              "      <td>570301130888122368</td>\n",
              "      <td>positive</td>\n",
              "      <td>0.3486</td>\n",
              "      <td>NaN</td>\n",
              "      <td>0.0</td>\n",
              "      <td>Virgin America</td>\n",
              "      <td>NaN</td>\n",
              "      <td>jnardino</td>\n",
              "      <td>NaN</td>\n",
              "      <td>0</td>\n",
              "      <td>@VirginAmerica plus you've added commercials t...</td>\n",
              "      <td>NaN</td>\n",
              "      <td>2015-02-24 11:15:59 -0800</td>\n",
              "      <td>NaN</td>\n",
              "      <td>Pacific Time (US &amp; Canada)</td>\n",
              "    </tr>\n",
              "    <tr>\n",
              "      <th>2</th>\n",
              "      <td>570301083672813571</td>\n",
              "      <td>neutral</td>\n",
              "      <td>0.6837</td>\n",
              "      <td>NaN</td>\n",
              "      <td>NaN</td>\n",
              "      <td>Virgin America</td>\n",
              "      <td>NaN</td>\n",
              "      <td>yvonnalynn</td>\n",
              "      <td>NaN</td>\n",
              "      <td>0</td>\n",
              "      <td>@VirginAmerica I didn't today... Must mean I n...</td>\n",
              "      <td>NaN</td>\n",
              "      <td>2015-02-24 11:15:48 -0800</td>\n",
              "      <td>Lets Play</td>\n",
              "      <td>Central Time (US &amp; Canada)</td>\n",
              "    </tr>\n",
              "  </tbody>\n",
              "</table>\n",
              "</div>"
            ],
            "text/plain": [
              "             tweet_id  ...               user_timezone\n",
              "0  570306133677760513  ...  Eastern Time (US & Canada)\n",
              "1  570301130888122368  ...  Pacific Time (US & Canada)\n",
              "2  570301083672813571  ...  Central Time (US & Canada)\n",
              "\n",
              "[3 rows x 15 columns]"
            ]
          },
          "metadata": {
            "tags": []
          },
          "execution_count": 5
        }
      ]
    },
    {
      "cell_type": "code",
      "metadata": {
        "id": "RjFc0JaDCn1u",
        "colab": {
          "base_uri": "https://localhost:8080/"
        },
        "outputId": "9aa0e872-cda4-423d-ea89-1ff497a3d504"
      },
      "source": [
        "data.isnull().sum(axis=0)                                # Check for NULL values."
      ],
      "execution_count": 6,
      "outputs": [
        {
          "output_type": "execute_result",
          "data": {
            "text/plain": [
              "tweet_id                            0\n",
              "airline_sentiment                   0\n",
              "airline_sentiment_confidence        0\n",
              "negativereason                   5462\n",
              "negativereason_confidence        4118\n",
              "airline                             0\n",
              "airline_sentiment_gold          14600\n",
              "name                                0\n",
              "negativereason_gold             14608\n",
              "retweet_count                       0\n",
              "text                                0\n",
              "tweet_coord                     13621\n",
              "tweet_created                       0\n",
              "tweet_location                   4733\n",
              "user_timezone                    4820\n",
              "dtype: int64"
            ]
          },
          "metadata": {
            "tags": []
          },
          "execution_count": 6
        }
      ]
    },
    {
      "cell_type": "code",
      "metadata": {
        "id": "EkHEfgc1C4aX"
      },
      "source": [
        "data = data[['text', 'airline_sentiment']]"
      ],
      "execution_count": 7,
      "outputs": []
    },
    {
      "cell_type": "code",
      "metadata": {
        "id": "D8ONn2VkCq5N",
        "colab": {
          "base_uri": "https://localhost:8080/",
          "height": 198
        },
        "outputId": "55a88ac7-0a94-4e75-d019-31f7a9e855a6"
      },
      "source": [
        "pd.set_option('display.max_colwidth', None) # Display full dataframe information (Non-turncated Text column.)\n",
        "\n",
        "data.head()                                 # Check first 5 rows of data\n",
        "#Qn - clean up ?"
      ],
      "execution_count": 8,
      "outputs": [
        {
          "output_type": "execute_result",
          "data": {
            "text/html": [
              "<div>\n",
              "<style scoped>\n",
              "    .dataframe tbody tr th:only-of-type {\n",
              "        vertical-align: middle;\n",
              "    }\n",
              "\n",
              "    .dataframe tbody tr th {\n",
              "        vertical-align: top;\n",
              "    }\n",
              "\n",
              "    .dataframe thead th {\n",
              "        text-align: right;\n",
              "    }\n",
              "</style>\n",
              "<table border=\"1\" class=\"dataframe\">\n",
              "  <thead>\n",
              "    <tr style=\"text-align: right;\">\n",
              "      <th></th>\n",
              "      <th>text</th>\n",
              "      <th>airline_sentiment</th>\n",
              "    </tr>\n",
              "  </thead>\n",
              "  <tbody>\n",
              "    <tr>\n",
              "      <th>0</th>\n",
              "      <td>@VirginAmerica What @dhepburn said.</td>\n",
              "      <td>neutral</td>\n",
              "    </tr>\n",
              "    <tr>\n",
              "      <th>1</th>\n",
              "      <td>@VirginAmerica plus you've added commercials to the experience... tacky.</td>\n",
              "      <td>positive</td>\n",
              "    </tr>\n",
              "    <tr>\n",
              "      <th>2</th>\n",
              "      <td>@VirginAmerica I didn't today... Must mean I need to take another trip!</td>\n",
              "      <td>neutral</td>\n",
              "    </tr>\n",
              "    <tr>\n",
              "      <th>3</th>\n",
              "      <td>@VirginAmerica it's really aggressive to blast obnoxious \"entertainment\" in your guests' faces &amp;amp; they have little recourse</td>\n",
              "      <td>negative</td>\n",
              "    </tr>\n",
              "    <tr>\n",
              "      <th>4</th>\n",
              "      <td>@VirginAmerica and it's a really big bad thing about it</td>\n",
              "      <td>negative</td>\n",
              "    </tr>\n",
              "  </tbody>\n",
              "</table>\n",
              "</div>"
            ],
            "text/plain": [
              "                                                                                                                             text airline_sentiment\n",
              "0                                                                                             @VirginAmerica What @dhepburn said.           neutral\n",
              "1                                                        @VirginAmerica plus you've added commercials to the experience... tacky.          positive\n",
              "2                                                         @VirginAmerica I didn't today... Must mean I need to take another trip!           neutral\n",
              "3  @VirginAmerica it's really aggressive to blast obnoxious \"entertainment\" in your guests' faces &amp; they have little recourse          negative\n",
              "4                                                                         @VirginAmerica and it's a really big bad thing about it          negative"
            ]
          },
          "metadata": {
            "tags": []
          },
          "execution_count": 8
        }
      ]
    },
    {
      "cell_type": "code",
      "metadata": {
        "id": "S3pLvA5aDLPp",
        "colab": {
          "base_uri": "https://localhost:8080/"
        },
        "outputId": "72ed784b-522a-442c-f171-76462d005cdd"
      },
      "source": [
        "data['airline_sentiment'].unique()"
      ],
      "execution_count": 11,
      "outputs": [
        {
          "output_type": "execute_result",
          "data": {
            "text/plain": [
              "array(['neutral', 'positive', 'negative'], dtype=object)"
            ]
          },
          "metadata": {
            "tags": []
          },
          "execution_count": 11
        }
      ]
    },
    {
      "cell_type": "code",
      "metadata": {
        "id": "hs1GJP_WJACg"
      },
      "source": [
        "data_orig = data.copy()"
      ],
      "execution_count": 12,
      "outputs": []
    },
    {
      "cell_type": "code",
      "metadata": {
        "id": "r62ahHG3XfRm"
      },
      "source": [
        "#Get copy back if reqd\n",
        "data = data_orig.copy()"
      ],
      "execution_count": 15,
      "outputs": []
    },
    {
      "cell_type": "markdown",
      "metadata": {
        "id": "T_RYjo3KEFfQ"
      },
      "source": [
        "# Data Pre-processing:\n",
        "\n",
        "- Remove html tags.\n",
        "- Replace contractions in string. (e.g. replace I'm --> I am) and so on.\\\n",
        "- Remove numbers.\n",
        "- Tokenization\n",
        "- To remove Stopwords.\n",
        "- Lemmatized data\n",
        "- We have used NLTK library to tokenize words , remove stopwords and lemmatize the remaining words."
      ]
    },
    {
      "cell_type": "code",
      "metadata": {
        "id": "laSkpdl5DsgO",
        "colab": {
          "base_uri": "https://localhost:8080/",
          "height": 198
        },
        "outputId": "b7388864-30b7-4649-800d-2b19f51f68ef"
      },
      "source": [
        "def strip_html(text):\n",
        "    soup = BeautifulSoup(text, \"html.parser\")\n",
        "    return soup.get_text()\n",
        "\n",
        "data['text'] = data['text'].apply(lambda x: strip_html(x))\n",
        "data.head()"
      ],
      "execution_count": 13,
      "outputs": [
        {
          "output_type": "execute_result",
          "data": {
            "text/html": [
              "<div>\n",
              "<style scoped>\n",
              "    .dataframe tbody tr th:only-of-type {\n",
              "        vertical-align: middle;\n",
              "    }\n",
              "\n",
              "    .dataframe tbody tr th {\n",
              "        vertical-align: top;\n",
              "    }\n",
              "\n",
              "    .dataframe thead th {\n",
              "        text-align: right;\n",
              "    }\n",
              "</style>\n",
              "<table border=\"1\" class=\"dataframe\">\n",
              "  <thead>\n",
              "    <tr style=\"text-align: right;\">\n",
              "      <th></th>\n",
              "      <th>text</th>\n",
              "      <th>airline_sentiment</th>\n",
              "    </tr>\n",
              "  </thead>\n",
              "  <tbody>\n",
              "    <tr>\n",
              "      <th>0</th>\n",
              "      <td>@VirginAmerica What @dhepburn said.</td>\n",
              "      <td>neutral</td>\n",
              "    </tr>\n",
              "    <tr>\n",
              "      <th>1</th>\n",
              "      <td>@VirginAmerica plus you've added commercials to the experience... tacky.</td>\n",
              "      <td>positive</td>\n",
              "    </tr>\n",
              "    <tr>\n",
              "      <th>2</th>\n",
              "      <td>@VirginAmerica I didn't today... Must mean I need to take another trip!</td>\n",
              "      <td>neutral</td>\n",
              "    </tr>\n",
              "    <tr>\n",
              "      <th>3</th>\n",
              "      <td>@VirginAmerica it's really aggressive to blast obnoxious \"entertainment\" in your guests' faces &amp; they have little recourse</td>\n",
              "      <td>negative</td>\n",
              "    </tr>\n",
              "    <tr>\n",
              "      <th>4</th>\n",
              "      <td>@VirginAmerica and it's a really big bad thing about it</td>\n",
              "      <td>negative</td>\n",
              "    </tr>\n",
              "  </tbody>\n",
              "</table>\n",
              "</div>"
            ],
            "text/plain": [
              "                                                                                                                         text airline_sentiment\n",
              "0                                                                                         @VirginAmerica What @dhepburn said.           neutral\n",
              "1                                                    @VirginAmerica plus you've added commercials to the experience... tacky.          positive\n",
              "2                                                     @VirginAmerica I didn't today... Must mean I need to take another trip!           neutral\n",
              "3  @VirginAmerica it's really aggressive to blast obnoxious \"entertainment\" in your guests' faces & they have little recourse          negative\n",
              "4                                                                     @VirginAmerica and it's a really big bad thing about it          negative"
            ]
          },
          "metadata": {
            "tags": []
          },
          "execution_count": 13
        }
      ]
    },
    {
      "cell_type": "code",
      "metadata": {
        "id": "8Eedp31mEM2a",
        "colab": {
          "base_uri": "https://localhost:8080/",
          "height": 198
        },
        "outputId": "46c5ca6c-9f3c-44b2-efa6-e7c585f6f364"
      },
      "source": [
        "def replace_contractions(text):\n",
        "    \"\"\"Replace contractions in string of text\"\"\"\n",
        "    return contractions.fix(text)\n",
        "\n",
        "data['text'] = data['text'].apply(lambda x: replace_contractions(x))\n",
        "data.head()"
      ],
      "execution_count": 14,
      "outputs": [
        {
          "output_type": "execute_result",
          "data": {
            "text/html": [
              "<div>\n",
              "<style scoped>\n",
              "    .dataframe tbody tr th:only-of-type {\n",
              "        vertical-align: middle;\n",
              "    }\n",
              "\n",
              "    .dataframe tbody tr th {\n",
              "        vertical-align: top;\n",
              "    }\n",
              "\n",
              "    .dataframe thead th {\n",
              "        text-align: right;\n",
              "    }\n",
              "</style>\n",
              "<table border=\"1\" class=\"dataframe\">\n",
              "  <thead>\n",
              "    <tr style=\"text-align: right;\">\n",
              "      <th></th>\n",
              "      <th>text</th>\n",
              "      <th>airline_sentiment</th>\n",
              "    </tr>\n",
              "  </thead>\n",
              "  <tbody>\n",
              "    <tr>\n",
              "      <th>0</th>\n",
              "      <td>@VirginAmerica What @dhepburn said.</td>\n",
              "      <td>neutral</td>\n",
              "    </tr>\n",
              "    <tr>\n",
              "      <th>1</th>\n",
              "      <td>@VirginAmerica plus you have added commercials to the experience... tacky.</td>\n",
              "      <td>positive</td>\n",
              "    </tr>\n",
              "    <tr>\n",
              "      <th>2</th>\n",
              "      <td>@VirginAmerica I did not today... Must mean I need to take another trip!</td>\n",
              "      <td>neutral</td>\n",
              "    </tr>\n",
              "    <tr>\n",
              "      <th>3</th>\n",
              "      <td>@VirginAmerica it is really aggressive to blast obnoxious \"entertainment\" in your guests' faces &amp; they have little recourse</td>\n",
              "      <td>negative</td>\n",
              "    </tr>\n",
              "    <tr>\n",
              "      <th>4</th>\n",
              "      <td>@VirginAmerica and it is a really big bad thing about it</td>\n",
              "      <td>negative</td>\n",
              "    </tr>\n",
              "  </tbody>\n",
              "</table>\n",
              "</div>"
            ],
            "text/plain": [
              "                                                                                                                          text airline_sentiment\n",
              "0                                                                                          @VirginAmerica What @dhepburn said.           neutral\n",
              "1                                                   @VirginAmerica plus you have added commercials to the experience... tacky.          positive\n",
              "2                                                     @VirginAmerica I did not today... Must mean I need to take another trip!           neutral\n",
              "3  @VirginAmerica it is really aggressive to blast obnoxious \"entertainment\" in your guests' faces & they have little recourse          negative\n",
              "4                                                                     @VirginAmerica and it is a really big bad thing about it          negative"
            ]
          },
          "metadata": {
            "tags": []
          },
          "execution_count": 14
        }
      ]
    },
    {
      "cell_type": "code",
      "metadata": {
        "id": "QnAbvXPHEUKt",
        "colab": {
          "base_uri": "https://localhost:8080/",
          "height": 198
        },
        "outputId": "86271bf4-30ee-4f8b-db61-18218eb29a7c"
      },
      "source": [
        "def remove_numbers(text):\n",
        "  text = re.sub(r'\\d+', '', text)\n",
        "  return text\n",
        "\n",
        "data['text'] = data['text'].apply(lambda x: remove_numbers(x))\n",
        "data.head()\n",
        "# Qns"
      ],
      "execution_count": 15,
      "outputs": [
        {
          "output_type": "execute_result",
          "data": {
            "text/html": [
              "<div>\n",
              "<style scoped>\n",
              "    .dataframe tbody tr th:only-of-type {\n",
              "        vertical-align: middle;\n",
              "    }\n",
              "\n",
              "    .dataframe tbody tr th {\n",
              "        vertical-align: top;\n",
              "    }\n",
              "\n",
              "    .dataframe thead th {\n",
              "        text-align: right;\n",
              "    }\n",
              "</style>\n",
              "<table border=\"1\" class=\"dataframe\">\n",
              "  <thead>\n",
              "    <tr style=\"text-align: right;\">\n",
              "      <th></th>\n",
              "      <th>text</th>\n",
              "      <th>airline_sentiment</th>\n",
              "    </tr>\n",
              "  </thead>\n",
              "  <tbody>\n",
              "    <tr>\n",
              "      <th>0</th>\n",
              "      <td>@VirginAmerica What @dhepburn said.</td>\n",
              "      <td>neutral</td>\n",
              "    </tr>\n",
              "    <tr>\n",
              "      <th>1</th>\n",
              "      <td>@VirginAmerica plus you have added commercials to the experience... tacky.</td>\n",
              "      <td>positive</td>\n",
              "    </tr>\n",
              "    <tr>\n",
              "      <th>2</th>\n",
              "      <td>@VirginAmerica I did not today... Must mean I need to take another trip!</td>\n",
              "      <td>neutral</td>\n",
              "    </tr>\n",
              "    <tr>\n",
              "      <th>3</th>\n",
              "      <td>@VirginAmerica it is really aggressive to blast obnoxious \"entertainment\" in your guests' faces &amp; they have little recourse</td>\n",
              "      <td>negative</td>\n",
              "    </tr>\n",
              "    <tr>\n",
              "      <th>4</th>\n",
              "      <td>@VirginAmerica and it is a really big bad thing about it</td>\n",
              "      <td>negative</td>\n",
              "    </tr>\n",
              "  </tbody>\n",
              "</table>\n",
              "</div>"
            ],
            "text/plain": [
              "                                                                                                                          text airline_sentiment\n",
              "0                                                                                          @VirginAmerica What @dhepburn said.           neutral\n",
              "1                                                   @VirginAmerica plus you have added commercials to the experience... tacky.          positive\n",
              "2                                                     @VirginAmerica I did not today... Must mean I need to take another trip!           neutral\n",
              "3  @VirginAmerica it is really aggressive to blast obnoxious \"entertainment\" in your guests' faces & they have little recourse          negative\n",
              "4                                                                     @VirginAmerica and it is a really big bad thing about it          negative"
            ]
          },
          "metadata": {
            "tags": []
          },
          "execution_count": 15
        }
      ]
    },
    {
      "cell_type": "code",
      "metadata": {
        "colab": {
          "base_uri": "https://localhost:8080/",
          "height": 198
        },
        "id": "jINYIchTuwE9",
        "outputId": "17c6e2bd-571a-4c28-e641-8683ae6e3a99"
      },
      "source": [
        "#Remove twitter handles\n",
        "def strip_twitterhandles(text):\n",
        "    text = re.sub(r'@\\S+', '', text)\n",
        "    return text\n",
        "\n",
        "data['text'] = data['text'].apply(lambda x: strip_twitterhandles(x))\n",
        "data.head()"
      ],
      "execution_count": 16,
      "outputs": [
        {
          "output_type": "execute_result",
          "data": {
            "text/html": [
              "<div>\n",
              "<style scoped>\n",
              "    .dataframe tbody tr th:only-of-type {\n",
              "        vertical-align: middle;\n",
              "    }\n",
              "\n",
              "    .dataframe tbody tr th {\n",
              "        vertical-align: top;\n",
              "    }\n",
              "\n",
              "    .dataframe thead th {\n",
              "        text-align: right;\n",
              "    }\n",
              "</style>\n",
              "<table border=\"1\" class=\"dataframe\">\n",
              "  <thead>\n",
              "    <tr style=\"text-align: right;\">\n",
              "      <th></th>\n",
              "      <th>text</th>\n",
              "      <th>airline_sentiment</th>\n",
              "    </tr>\n",
              "  </thead>\n",
              "  <tbody>\n",
              "    <tr>\n",
              "      <th>0</th>\n",
              "      <td>What  said.</td>\n",
              "      <td>neutral</td>\n",
              "    </tr>\n",
              "    <tr>\n",
              "      <th>1</th>\n",
              "      <td>plus you have added commercials to the experience... tacky.</td>\n",
              "      <td>positive</td>\n",
              "    </tr>\n",
              "    <tr>\n",
              "      <th>2</th>\n",
              "      <td>I did not today... Must mean I need to take another trip!</td>\n",
              "      <td>neutral</td>\n",
              "    </tr>\n",
              "    <tr>\n",
              "      <th>3</th>\n",
              "      <td>it is really aggressive to blast obnoxious \"entertainment\" in your guests' faces &amp; they have little recourse</td>\n",
              "      <td>negative</td>\n",
              "    </tr>\n",
              "    <tr>\n",
              "      <th>4</th>\n",
              "      <td>and it is a really big bad thing about it</td>\n",
              "      <td>negative</td>\n",
              "    </tr>\n",
              "  </tbody>\n",
              "</table>\n",
              "</div>"
            ],
            "text/plain": [
              "                                                                                                            text airline_sentiment\n",
              "0                                                                                                    What  said.           neutral\n",
              "1                                                    plus you have added commercials to the experience... tacky.          positive\n",
              "2                                                      I did not today... Must mean I need to take another trip!           neutral\n",
              "3   it is really aggressive to blast obnoxious \"entertainment\" in your guests' faces & they have little recourse          negative\n",
              "4                                                                      and it is a really big bad thing about it          negative"
            ]
          },
          "metadata": {
            "tags": []
          },
          "execution_count": 16
        }
      ]
    },
    {
      "cell_type": "code",
      "metadata": {
        "id": "_chhbPWTEX1b"
      },
      "source": [
        "data['text'] = data.apply(lambda row: nltk.word_tokenize(row['text']), axis=1) # Tokenization of data\n"
      ],
      "execution_count": 17,
      "outputs": []
    },
    {
      "cell_type": "code",
      "metadata": {
        "id": "hvVxf7AWEbkn",
        "colab": {
          "base_uri": "https://localhost:8080/",
          "height": 108
        },
        "outputId": "8d2d199e-4762-4bb9-ab40-6cd31d9ee0a6"
      },
      "source": [
        "data.head(2)                                                                    # Look at how tokenized data looks."
      ],
      "execution_count": 18,
      "outputs": [
        {
          "output_type": "execute_result",
          "data": {
            "text/html": [
              "<div>\n",
              "<style scoped>\n",
              "    .dataframe tbody tr th:only-of-type {\n",
              "        vertical-align: middle;\n",
              "    }\n",
              "\n",
              "    .dataframe tbody tr th {\n",
              "        vertical-align: top;\n",
              "    }\n",
              "\n",
              "    .dataframe thead th {\n",
              "        text-align: right;\n",
              "    }\n",
              "</style>\n",
              "<table border=\"1\" class=\"dataframe\">\n",
              "  <thead>\n",
              "    <tr style=\"text-align: right;\">\n",
              "      <th></th>\n",
              "      <th>text</th>\n",
              "      <th>airline_sentiment</th>\n",
              "    </tr>\n",
              "  </thead>\n",
              "  <tbody>\n",
              "    <tr>\n",
              "      <th>0</th>\n",
              "      <td>[What, said, .]</td>\n",
              "      <td>neutral</td>\n",
              "    </tr>\n",
              "    <tr>\n",
              "      <th>1</th>\n",
              "      <td>[plus, you, have, added, commercials, to, the, experience, ..., tacky, .]</td>\n",
              "      <td>positive</td>\n",
              "    </tr>\n",
              "  </tbody>\n",
              "</table>\n",
              "</div>"
            ],
            "text/plain": [
              "                                                                        text airline_sentiment\n",
              "0                                                            [What, said, .]           neutral\n",
              "1  [plus, you, have, added, commercials, to, the, experience, ..., tacky, .]          positive"
            ]
          },
          "metadata": {
            "tags": []
          },
          "execution_count": 18
        }
      ]
    },
    {
      "cell_type": "code",
      "metadata": {
        "id": "3vkK8dzyEeA-"
      },
      "source": [
        "stopwords = stopwords.words('english')\n",
        "\n",
        "customlist = ['not', \"couldn't\", 'didn', \"didn't\", 'doesn', \"doesn't\", 'hadn', \"hadn't\", 'hasn',\n",
        "        \"hasn't\", 'haven', \"haven't\", 'isn', \"isn't\", 'ma', 'mightn', \"mightn't\", 'mustn',\n",
        "        \"mustn't\", 'needn', \"needn't\", 'shan', \"shan't\", 'shouldn', \"shouldn't\", 'wasn',\n",
        "        \"wasn't\", 'weren', \"weren't\", 'won', \"won't\", 'wouldn', \"wouldn't\"]\n",
        "\n",
        "# Set custom stop-word's list as not, couldn't etc. words matter in Sentiment, so not removing them from original data.\n",
        "\n",
        "stopwords = list(set(stopwords) - set(customlist))                              "
      ],
      "execution_count": 19,
      "outputs": []
    },
    {
      "cell_type": "code",
      "metadata": {
        "id": "TpYUaYoSEhM1",
        "colab": {
          "base_uri": "https://localhost:8080/",
          "height": 198
        },
        "outputId": "1c55e96c-024e-4e80-c1c5-e0a37ba3ca49"
      },
      "source": [
        "lemmatizer = WordNetLemmatizer()\n",
        "\n",
        "def remove_non_ascii(words):\n",
        "    \"\"\"Remove non-ASCII characters from list of tokenized words\"\"\"\n",
        "    new_words = []\n",
        "    for word in words:\n",
        "        new_word = unicodedata.normalize('NFKD', word).encode('ascii', 'ignore').decode('utf-8', 'ignore')\n",
        "        new_words.append(new_word)\n",
        "    return new_words\n",
        "\n",
        "def to_lowercase(words):\n",
        "    \"\"\"Convert all characters to lowercase from list of tokenized words\"\"\"\n",
        "    new_words = []\n",
        "    for word in words:\n",
        "        new_word = word.lower()\n",
        "        new_words.append(new_word)\n",
        "    return new_words\n",
        "\n",
        "def remove_punctuation(words):\n",
        "    \"\"\"Remove punctuation from list of tokenized words\"\"\"\n",
        "    new_words = []\n",
        "    for word in words:\n",
        "        new_word = re.sub(r'[^\\w\\s]', '', word)\n",
        "        if new_word != '':\n",
        "            new_words.append(new_word)\n",
        "    return new_words\n",
        "\n",
        "def remove_stopwords(words):\n",
        "    \"\"\"Remove stop words from list of tokenized words\"\"\"\n",
        "    new_words = []\n",
        "    for word in words:\n",
        "        if word not in stopwords:\n",
        "            new_words.append(word)\n",
        "    return new_words\n",
        "\n",
        "def lemmatize_list(words):\n",
        "    new_words = []\n",
        "    for word in words:\n",
        "      new_words.append(lemmatizer.lemmatize(word, pos='v'))\n",
        "    return new_words\n",
        "\n",
        "def normalize(words):\n",
        "    words = remove_non_ascii(words)\n",
        "    words = to_lowercase(words)\n",
        "    words = remove_punctuation(words)\n",
        "    words = remove_stopwords(words)\n",
        "    words = lemmatize_list(words)\n",
        "    return ' '.join(words)\n",
        "\n",
        "data['text'] = data.apply(lambda row: normalize(row['text']), axis=1)\n",
        "data.head()\n"
      ],
      "execution_count": 20,
      "outputs": [
        {
          "output_type": "execute_result",
          "data": {
            "text/html": [
              "<div>\n",
              "<style scoped>\n",
              "    .dataframe tbody tr th:only-of-type {\n",
              "        vertical-align: middle;\n",
              "    }\n",
              "\n",
              "    .dataframe tbody tr th {\n",
              "        vertical-align: top;\n",
              "    }\n",
              "\n",
              "    .dataframe thead th {\n",
              "        text-align: right;\n",
              "    }\n",
              "</style>\n",
              "<table border=\"1\" class=\"dataframe\">\n",
              "  <thead>\n",
              "    <tr style=\"text-align: right;\">\n",
              "      <th></th>\n",
              "      <th>text</th>\n",
              "      <th>airline_sentiment</th>\n",
              "    </tr>\n",
              "  </thead>\n",
              "  <tbody>\n",
              "    <tr>\n",
              "      <th>0</th>\n",
              "      <td>say</td>\n",
              "      <td>neutral</td>\n",
              "    </tr>\n",
              "    <tr>\n",
              "      <th>1</th>\n",
              "      <td>plus add commercials experience tacky</td>\n",
              "      <td>positive</td>\n",
              "    </tr>\n",
              "    <tr>\n",
              "      <th>2</th>\n",
              "      <td>not today must mean need take another trip</td>\n",
              "      <td>neutral</td>\n",
              "    </tr>\n",
              "    <tr>\n",
              "      <th>3</th>\n",
              "      <td>really aggressive blast obnoxious entertainment guests face little recourse</td>\n",
              "      <td>negative</td>\n",
              "    </tr>\n",
              "    <tr>\n",
              "      <th>4</th>\n",
              "      <td>really big bad thing</td>\n",
              "      <td>negative</td>\n",
              "    </tr>\n",
              "  </tbody>\n",
              "</table>\n",
              "</div>"
            ],
            "text/plain": [
              "                                                                          text airline_sentiment\n",
              "0                                                                          say           neutral\n",
              "1                                        plus add commercials experience tacky          positive\n",
              "2                                   not today must mean need take another trip           neutral\n",
              "3  really aggressive blast obnoxious entertainment guests face little recourse          negative\n",
              "4                                                         really big bad thing          negative"
            ]
          },
          "metadata": {
            "tags": []
          },
          "execution_count": 20
        }
      ]
    },
    {
      "cell_type": "code",
      "metadata": {
        "colab": {
          "base_uri": "https://localhost:8080/",
          "height": 198
        },
        "id": "-EeFYMrfvnwc",
        "outputId": "e0778b5c-4a72-4841-c327-a02c745a2de4"
      },
      "source": [
        "data_orig.head(5)"
      ],
      "execution_count": 21,
      "outputs": [
        {
          "output_type": "execute_result",
          "data": {
            "text/html": [
              "<div>\n",
              "<style scoped>\n",
              "    .dataframe tbody tr th:only-of-type {\n",
              "        vertical-align: middle;\n",
              "    }\n",
              "\n",
              "    .dataframe tbody tr th {\n",
              "        vertical-align: top;\n",
              "    }\n",
              "\n",
              "    .dataframe thead th {\n",
              "        text-align: right;\n",
              "    }\n",
              "</style>\n",
              "<table border=\"1\" class=\"dataframe\">\n",
              "  <thead>\n",
              "    <tr style=\"text-align: right;\">\n",
              "      <th></th>\n",
              "      <th>text</th>\n",
              "      <th>airline_sentiment</th>\n",
              "    </tr>\n",
              "  </thead>\n",
              "  <tbody>\n",
              "    <tr>\n",
              "      <th>0</th>\n",
              "      <td>@VirginAmerica What @dhepburn said.</td>\n",
              "      <td>neutral</td>\n",
              "    </tr>\n",
              "    <tr>\n",
              "      <th>1</th>\n",
              "      <td>@VirginAmerica plus you've added commercials to the experience... tacky.</td>\n",
              "      <td>positive</td>\n",
              "    </tr>\n",
              "    <tr>\n",
              "      <th>2</th>\n",
              "      <td>@VirginAmerica I didn't today... Must mean I need to take another trip!</td>\n",
              "      <td>neutral</td>\n",
              "    </tr>\n",
              "    <tr>\n",
              "      <th>3</th>\n",
              "      <td>@VirginAmerica it's really aggressive to blast obnoxious \"entertainment\" in your guests' faces &amp;amp; they have little recourse</td>\n",
              "      <td>negative</td>\n",
              "    </tr>\n",
              "    <tr>\n",
              "      <th>4</th>\n",
              "      <td>@VirginAmerica and it's a really big bad thing about it</td>\n",
              "      <td>negative</td>\n",
              "    </tr>\n",
              "  </tbody>\n",
              "</table>\n",
              "</div>"
            ],
            "text/plain": [
              "                                                                                                                             text airline_sentiment\n",
              "0                                                                                             @VirginAmerica What @dhepburn said.           neutral\n",
              "1                                                        @VirginAmerica plus you've added commercials to the experience... tacky.          positive\n",
              "2                                                         @VirginAmerica I didn't today... Must mean I need to take another trip!           neutral\n",
              "3  @VirginAmerica it's really aggressive to blast obnoxious \"entertainment\" in your guests' faces &amp; they have little recourse          negative\n",
              "4                                                                         @VirginAmerica and it's a really big bad thing about it          negative"
            ]
          },
          "metadata": {
            "tags": []
          },
          "execution_count": 21
        }
      ]
    },
    {
      "cell_type": "code",
      "metadata": {
        "id": "9eHI4KS5ObLO"
      },
      "source": [
        "X = data['text']\n",
        "\n",
        "y = data.airline_sentiment"
      ],
      "execution_count": 22,
      "outputs": []
    },
    {
      "cell_type": "code",
      "metadata": {
        "id": "ZFm22B8TOVFO"
      },
      "source": [
        "# Split data into training and testing set.\n",
        "\n",
        "from sklearn.model_selection import train_test_split\n",
        "X_train_data, X_test_data, y_train, y_test = train_test_split(X, y, test_size=0.3, random_state=42,stratify=y)"
      ],
      "execution_count": 23,
      "outputs": []
    },
    {
      "cell_type": "code",
      "metadata": {
        "colab": {
          "base_uri": "https://localhost:8080/"
        },
        "id": "561i99g5OznB",
        "outputId": "38a2e15f-2b56-4123-e206-3dbb3b26d762"
      },
      "source": [
        "X_train_data.head(2)"
      ],
      "execution_count": 24,
      "outputs": [
        {
          "output_type": "execute_result",
          "data": {
            "text/plain": [
              "5417     suggestions tell customers approximate wait time hold min allow cancel flight online\n",
              "14211           upset hometown airline stick den flt cancel flightled others get new flt info\n",
              "Name: text, dtype: object"
            ]
          },
          "metadata": {
            "tags": []
          },
          "execution_count": 24
        }
      ]
    },
    {
      "cell_type": "code",
      "metadata": {
        "colab": {
          "base_uri": "https://localhost:8080/"
        },
        "id": "XkAvNtbMW3gV",
        "outputId": "8354a12b-ca70-4a04-fa29-9fb62c43fc1f"
      },
      "source": [
        "y_train.value_counts()"
      ],
      "execution_count": 25,
      "outputs": [
        {
          "output_type": "execute_result",
          "data": {
            "text/plain": [
              "negative    6425\n",
              "neutral     2169\n",
              "positive    1654\n",
              "Name: airline_sentiment, dtype: int64"
            ]
          },
          "metadata": {
            "tags": []
          },
          "execution_count": 25
        }
      ]
    },
    {
      "cell_type": "code",
      "metadata": {
        "colab": {
          "base_uri": "https://localhost:8080/"
        },
        "id": "X10wTGjvXB_l",
        "outputId": "0a48565a-d73a-43d9-804c-f8de01a92f60"
      },
      "source": [
        "y_test.value_counts()"
      ],
      "execution_count": 26,
      "outputs": [
        {
          "output_type": "execute_result",
          "data": {
            "text/plain": [
              "negative    2753\n",
              "neutral      930\n",
              "positive     709\n",
              "Name: airline_sentiment, dtype: int64"
            ]
          },
          "metadata": {
            "tags": []
          },
          "execution_count": 26
        }
      ]
    },
    {
      "cell_type": "code",
      "metadata": {
        "id": "6F3Ps47KEmRu"
      },
      "source": [
        "# Vectorization (Convert text data to numbers).\n",
        "from sklearn.feature_extraction.text import CountVectorizer\n",
        "\n",
        "vectorizer = CountVectorizer(max_features=5000)                # Keep only 5000 features as number of features will increase the processing time.\n",
        "X_train = vectorizer.fit_transform(X_train_data)\n",
        "\n",
        "X_train = X_train.toarray()                        # Convert the data features to array.\n",
        "# Count Vectorizer not whole dataset but on training and test dataset seperately"
      ],
      "execution_count": 27,
      "outputs": []
    },
    {
      "cell_type": "code",
      "metadata": {
        "colab": {
          "base_uri": "https://localhost:8080/"
        },
        "id": "VaobWAwyWrem",
        "outputId": "43abece9-fd59-4bbc-af44-efbcc44bf6fa"
      },
      "source": [
        "vectorizer.get_feature_names()[:10]"
      ],
      "execution_count": 28,
      "outputs": [
        {
          "output_type": "execute_result",
          "data": {
            "text/plain": [
              "['_exact_',\n",
              " 'aa',\n",
              " 'aadv',\n",
              " 'aadvantage',\n",
              " 'aano',\n",
              " 'abc',\n",
              " 'abilities',\n",
              " 'ability',\n",
              " 'able',\n",
              " 'aboard']"
            ]
          },
          "metadata": {
            "tags": []
          },
          "execution_count": 28
        }
      ]
    },
    {
      "cell_type": "code",
      "metadata": {
        "id": "wh_yexCvJSwe",
        "colab": {
          "base_uri": "https://localhost:8080/"
        },
        "outputId": "67acc065-e77c-4727-8854-678809e04862"
      },
      "source": [
        "# Using Random Forest to build model for the classification of reviews.\n",
        "# Also calculating the cross validation score.\n",
        "\n",
        "from sklearn.ensemble import RandomForestClassifier\n",
        "from sklearn.model_selection import cross_val_score\n",
        "\n",
        "forest = RandomForestClassifier(n_estimators=10, n_jobs=4)\n",
        "\n",
        "forest = forest.fit(X_train, y_train)\n",
        "\n",
        "print(forest)\n",
        "\n",
        "print(np.mean(cross_val_score(forest, X_train, y_train, cv=10)))"
      ],
      "execution_count": 29,
      "outputs": [
        {
          "output_type": "stream",
          "text": [
            "RandomForestClassifier(bootstrap=True, ccp_alpha=0.0, class_weight=None,\n",
            "                       criterion='gini', max_depth=None, max_features='auto',\n",
            "                       max_leaf_nodes=None, max_samples=None,\n",
            "                       min_impurity_decrease=0.0, min_impurity_split=None,\n",
            "                       min_samples_leaf=1, min_samples_split=2,\n",
            "                       min_weight_fraction_leaf=0.0, n_estimators=10, n_jobs=4,\n",
            "                       oob_score=False, random_state=None, verbose=0,\n",
            "                       warm_start=False)\n",
            "0.7454132050304878\n"
          ],
          "name": "stdout"
        }
      ]
    },
    {
      "cell_type": "code",
      "metadata": {
        "id": "QBKhsHJGJVgA"
      },
      "source": [
        "# Predict the result for test data using the model built above.\n",
        "X_test = vectorizer.transform(X_test_data)\n",
        "result = forest.predict(X_test)"
      ],
      "execution_count": 30,
      "outputs": []
    },
    {
      "cell_type": "code",
      "metadata": {
        "colab": {
          "base_uri": "https://localhost:8080/"
        },
        "id": "VsHpszv-RAi-",
        "outputId": "b05f434b-d554-453f-bf83-09d713a6e5b1"
      },
      "source": [
        "print('Accuracy on Test Data Set',sum(result == y_test) / len(y_test))"
      ],
      "execution_count": 31,
      "outputs": [
        {
          "output_type": "stream",
          "text": [
            "Accuracy on Test Data Set 0.7433970856102003\n"
          ],
          "name": "stdout"
        }
      ]
    },
    {
      "cell_type": "code",
      "metadata": {
        "id": "6gQXCPlwJg7j",
        "colab": {
          "base_uri": "https://localhost:8080/",
          "height": 497
        },
        "outputId": "4dc689ca-b4c4-46b1-8eb9-2247ed20a82c"
      },
      "source": [
        "# Print and plot Confusion matirx to get an idea of how the distribution of the prediction is, among all the classes.\n",
        "\n",
        "import matplotlib.pyplot as plt\n",
        "import seaborn as sns\n",
        "from sklearn.metrics import confusion_matrix\n",
        "\n",
        "conf_mat = confusion_matrix(y_test, result)\n",
        "\n",
        "print(conf_mat)\n",
        "\n",
        "df_cm = pd.DataFrame(conf_mat, index = [i for i in ['negative','positive', 'neutral']],\n",
        "                  columns = [i for i in ['negative','positive', 'neutral']])\n",
        "plt.figure(figsize = (10,7))\n",
        "sns.heatmap(df_cm, annot=True, fmt='g')\n"
      ],
      "execution_count": 32,
      "outputs": [
        {
          "output_type": "stream",
          "text": [
            "[[2415  250   88]\n",
            " [ 365  478   87]\n",
            " [ 195  142  372]]\n"
          ],
          "name": "stdout"
        },
        {
          "output_type": "execute_result",
          "data": {
            "text/plain": [
              "<matplotlib.axes._subplots.AxesSubplot at 0x7f233eb3ead0>"
            ]
          },
          "metadata": {
            "tags": []
          },
          "execution_count": 32
        },
        {
          "output_type": "display_data",
          "data": {
            "image/png": "[encoded data removed]",
            "text/plain": [
              "<Figure size 720x504 with 2 Axes>"
            ]
          },
          "metadata": {
            "tags": [],
            "needs_background": "light"
          }
        }
      ]
    },
    {
      "cell_type": "code",
      "metadata": {
        "colab": {
          "base_uri": "https://localhost:8080/"
        },
        "id": "R6ddDdtJsrlZ",
        "outputId": "a5fca8c2-5b37-44d3-d866-ec570471c21a"
      },
      "source": [
        "# Make Predictions\n",
        "forest.predict(vectorizer.transform(['This airline is awesome']))"
      ],
      "execution_count": 33,
      "outputs": [
        {
          "output_type": "execute_result",
          "data": {
            "text/plain": [
              "array(['positive'], dtype=object)"
            ]
          },
          "metadata": {
            "tags": []
          },
          "execution_count": 33
        }
      ]
    },
    {
      "cell_type": "code",
      "metadata": {
        "colab": {
          "base_uri": "https://localhost:8080/"
        },
        "id": "EA8cl7JouGk3",
        "outputId": "875663fd-ec75-42d0-ab16-b8945681a0ad"
      },
      "source": [
        "forest.predict(vectorizer.transform(['This airline is worse']))"
      ],
      "execution_count": 34,
      "outputs": [
        {
          "output_type": "execute_result",
          "data": {
            "text/plain": [
              "array(['negative'], dtype=object)"
            ]
          },
          "metadata": {
            "tags": []
          },
          "execution_count": 34
        }
      ]
    },
    {
      "cell_type": "code",
      "metadata": {
        "id": "PztKcFjCJi7y"
      },
      "source": [
        "# Using TfidfVectorizer to convert text data to numbers.\n",
        "\n",
        "from sklearn.feature_extraction.text import TfidfVectorizer\n",
        "\n",
        "vectorizer_tfidf = TfidfVectorizer(max_features=5000)\n",
        "X_train = vectorizer_tfidf.fit_transform(X_train_data)\n",
        "\n",
        "X_train = X_train.toarray()  "
      ],
      "execution_count": 35,
      "outputs": []
    },
    {
      "cell_type": "code",
      "metadata": {
        "id": "KFBpkURIJ1ZZ",
        "colab": {
          "base_uri": "https://localhost:8080/"
        },
        "outputId": "9594b186-8256-4bb3-929a-664dc8fdf9a4"
      },
      "source": [
        "# Using Random Forest to build model for the classification of reviews.\n",
        "# Also calculating the cross validation score.\n",
        "\n",
        "from sklearn.ensemble import RandomForestClassifier\n",
        "from sklearn.model_selection import cross_val_score\n",
        "\n",
        "import numpy as np\n",
        "\n",
        "forest = RandomForestClassifier(n_estimators=10, n_jobs=4)\n",
        "\n",
        "forest = forest.fit(X_train, y_train)\n",
        "\n",
        "print(forest)\n",
        "\n",
        "print(np.mean(cross_val_score(forest, X_train, y_train, cv=10)))"
      ],
      "execution_count": 36,
      "outputs": [
        {
          "output_type": "stream",
          "text": [
            "RandomForestClassifier(bootstrap=True, ccp_alpha=0.0, class_weight=None,\n",
            "                       criterion='gini', max_depth=None, max_features='auto',\n",
            "                       max_leaf_nodes=None, max_samples=None,\n",
            "                       min_impurity_decrease=0.0, min_impurity_split=None,\n",
            "                       min_samples_leaf=1, min_samples_split=2,\n",
            "                       min_weight_fraction_leaf=0.0, n_estimators=10, n_jobs=4,\n",
            "                       oob_score=False, random_state=None, verbose=0,\n",
            "                       warm_start=False)\n",
            "0.7509738948170732\n"
          ],
          "name": "stdout"
        }
      ]
    },
    {
      "cell_type": "code",
      "metadata": {
        "id": "-jiPKRA6J5-X",
        "colab": {
          "base_uri": "https://localhost:8080/"
        },
        "outputId": "ae5028ca-c171-4078-ea09-54df02637ab4"
      },
      "source": [
        "result = forest.predict(X_test)\n",
        "print('Accuracy on Test Data Set',sum(result == y_test) / len(y_test))"
      ],
      "execution_count": 37,
      "outputs": [
        {
          "output_type": "stream",
          "text": [
            "Accuracy on Test Data Set 0.7042349726775956\n"
          ],
          "name": "stdout"
        }
      ]
    },
    {
      "cell_type": "code",
      "metadata": {
        "id": "CU31UAhFJ8ip",
        "colab": {
          "base_uri": "https://localhost:8080/",
          "height": 445
        },
        "outputId": "c2a595f8-4f02-4ffc-f0e6-5f0dc779e55c"
      },
      "source": [
        "import matplotlib.pyplot as plt\n",
        "import seaborn as sns\n",
        "from sklearn.metrics import confusion_matrix\n",
        "\n",
        "conf_mat = confusion_matrix(y_test, result)\n",
        "\n",
        "df_cm = pd.DataFrame(conf_mat, index = [i for i in ['negative','positive',  'neutral']],\n",
        "                  columns = [i for i in ['negative','positive',  'neutral']])\n",
        "plt.figure(figsize = (10,7))\n",
        "sns.heatmap(df_cm, annot=True, fmt='g')"
      ],
      "execution_count": 38,
      "outputs": [
        {
          "output_type": "execute_result",
          "data": {
            "text/plain": [
              "<matplotlib.axes._subplots.AxesSubplot at 0x7f233e482a90>"
            ]
          },
          "metadata": {
            "tags": []
          },
          "execution_count": 38
        },
        {
          "output_type": "display_data",
          "data": {
            "image/png": "[encoded data removed]",
            "text/plain": [
              "<Figure size 720x504 with 2 Axes>"
            ]
          },
          "metadata": {
            "tags": [],
            "needs_background": "light"
          }
        }
      ]
    },
    {
      "cell_type": "markdown",
      "metadata": {
        "id": "Ey0xGvtMKFMQ"
      },
      "source": [
        "Summary:\n",
        "\n",
        "- We used dataset which has tweets in text format and their sentiment type (positive, negative and neutral).\n",
        "- The goal was to build a model for text-classification.\n",
        "- We Pre-processed the data using variuos techniques and libraries.\n",
        "- The pre-precessed data is converted to numbers, so that we can feed the data in the model.\n",
        "- After building the classification model, we predicted the result for the test data.\n",
        "- After that we saw that using the above techniques, our model performed good in perspective of how the text classification models perform.\n",
        "- One more way to increase accuracy is to use different variations of Pre-processing techniques such as emojify library for handling emojis"
      ]
    },
    {
      "cell_type": "code",
      "metadata": {
        "id": "FRjW9taUKCxr"
      },
      "source": [
        "# Using Deep Neural Networks\n",
        "import tensorflow as tf\n",
        "from tensorflow.keras.preprocessing.text import Tokenizer\n",
        "from tensorflow.keras.preprocessing.sequence import pad_sequences\n",
        "#X_train_data, X_test_data, y_train, y_test"
      ],
      "execution_count": 39,
      "outputs": []
    },
    {
      "cell_type": "code",
      "metadata": {
        "colab": {
          "base_uri": "https://localhost:8080/"
        },
        "id": "I4XgCFEcAVlo",
        "outputId": "40b34ff7-6b55-494e-e7fd-414828cac6ca"
      },
      "source": [
        "length = 0\n",
        "for i in range(0,len(X_train_data)):\n",
        "  length = length + len(X_train_data.iloc[i])\n",
        "print('Avg Length of Sequences',length/X_train_data.shape[0])\n"
      ],
      "execution_count": 40,
      "outputs": [
        {
          "output_type": "stream",
          "text": [
            "Avg Length of Sequences 55.655152224824356\n"
          ],
          "name": "stdout"
        }
      ]
    },
    {
      "cell_type": "code",
      "metadata": {
        "id": "sm739kEsaN6_"
      },
      "source": [
        "from sklearn.preprocessing import LabelBinarizer\n",
        "from sklearn.metrics import accuracy_score, confusion_matrix, precision_score, recall_score, f1_score\n",
        "enc = LabelBinarizer()\n",
        "y_train = enc.fit_transform(y_train)\n",
        "y_test = enc.fit_transform(y_test)"
      ],
      "execution_count": 41,
      "outputs": []
    },
    {
      "cell_type": "code",
      "metadata": {
        "id": "SGKO8aR-aZEd"
      },
      "source": [
        "from keras.preprocessing.text import Tokenizer\n",
        "from keras.preprocessing.sequence import pad_sequences\n",
        "embedding_dim = 16\n",
        "max_length = 75\n",
        "trunc_type='post'\n",
        "oov_tok = \"<OOV>\"\n",
        "\n",
        "tokenizer = Tokenizer(num_words = 50000,oov_token=oov_tok)  # Keras Tokenizer\n",
        "tokenizer.fit_on_texts(X_train_data)\n",
        "\n",
        "vocab_size = len(tokenizer.word_index) + 1\n",
        "\n",
        "word_index = tokenizer.word_index\n",
        "X_train_tokenize = tokenizer.texts_to_sequences(X_train_data)\n",
        "padded = pad_sequences(X_train_tokenize,maxlen=max_length,truncating=trunc_type, padding='post')\n",
        "\n",
        "X_test_tokenize = tokenizer.texts_to_sequences(X_test_data)\n",
        "testing_padded = pad_sequences(X_test_tokenize,maxlen=max_length,truncating=trunc_type, padding='post')"
      ],
      "execution_count": 42,
      "outputs": []
    },
    {
      "cell_type": "code",
      "metadata": {
        "colab": {
          "base_uri": "https://localhost:8080/"
        },
        "id": "gTIswEfcam_M",
        "outputId": "2a4ec739-fcb7-4c4a-8be6-7afe478bf65d"
      },
      "source": [
        "#Vocab size\n",
        "len(tokenizer.word_index) + 1"
      ],
      "execution_count": 43,
      "outputs": [
        {
          "output_type": "execute_result",
          "data": {
            "text/plain": [
              "9096"
            ]
          },
          "metadata": {
            "tags": []
          },
          "execution_count": 43
        }
      ]
    },
    {
      "cell_type": "code",
      "metadata": {
        "colab": {
          "base_uri": "https://localhost:8080/"
        },
        "id": "g70GljUoapX8",
        "outputId": "1b71e75e-feb5-4b1f-fef0-1c2eec7a126e"
      },
      "source": [
        "#Padded sequence used as input to Keras Model\n",
        "print(X_train_data[2])\n",
        "print(X_train_tokenize[2])\n",
        "print(padded[2])"
      ],
      "execution_count": 44,
      "outputs": [
        {
          "output_type": "stream",
          "text": [
            "not today must mean need take another trip\n",
            "[3827, 803, 2739, 2740, 2741, 3828, 804, 805, 6, 3829]\n",
            "[3827  803 2739 2740 2741 3828  804  805    6 3829    0    0    0    0\n",
            "    0    0    0    0    0    0    0    0    0    0    0    0    0    0\n",
            "    0    0    0    0    0    0    0    0    0    0    0    0    0    0\n",
            "    0    0    0    0    0    0    0    0    0    0    0    0    0    0\n",
            "    0    0    0    0    0    0    0    0    0    0    0    0    0    0\n",
            "    0    0    0    0    0]\n"
          ],
          "name": "stdout"
        }
      ]
    },
    {
      "cell_type": "code",
      "metadata": {
        "colab": {
          "base_uri": "https://localhost:8080/"
        },
        "id": "_N35MWS4asws",
        "outputId": "bfb25484-a3fb-4fbc-a708-6621b57dcdc5"
      },
      "source": [
        "for word in ['good', 'nice', 'happy', 'sad', 'ok','super']:\n",
        "    print('{}: {}'.format(word, tokenizer.word_index[word]))"
      ],
      "execution_count": 45,
      "outputs": [
        {
          "output_type": "stream",
          "text": [
            "good: 74\n",
            "nice: 187\n",
            "happy: 287\n",
            "sad: 578\n",
            "ok: 250\n",
            "super: 519\n"
          ],
          "name": "stdout"
        }
      ]
    },
    {
      "cell_type": "code",
      "metadata": {
        "colab": {
          "base_uri": "https://localhost:8080/"
        },
        "id": "B6P0PcSJawn0",
        "outputId": "eda47c88-3038-40f1-a6b6-3636a8428636"
      },
      "source": [
        "#First Model - Word Embedding Vector with Dense Layers\n",
        "import tensorflow as tf\n",
        "\n",
        "model = tf.keras.Sequential()\n",
        "embedding_dim = 16\n",
        "model = tf.keras.Sequential([\n",
        "                             tf.keras.layers.Embedding(vocab_size,embedding_dim,input_length = max_length),\n",
        "                             tf.keras.layers.GlobalMaxPool1D(),\n",
        "                             tf.keras.layers.Dense(16,activation='relu'),\n",
        "                             tf.keras.layers.Dense(3,activation='softmax')\n",
        "])\n",
        "model.compile(loss='categorical_crossentropy',optimizer='adam',metrics=['accuracy'])\n",
        "model.summary()"
      ],
      "execution_count": 46,
      "outputs": [
        {
          "output_type": "stream",
          "text": [
            "Model: \"sequential_1\"\n",
            "_________________________________________________________________\n",
            "Layer (type)                 Output Shape              Param #   \n",
            "=================================================================\n",
            "embedding (Embedding)        (None, 75, 16)            145536    \n",
            "_________________________________________________________________\n",
            "global_max_pooling1d (Global (None, 16)                0         \n",
            "_________________________________________________________________\n",
            "dense (Dense)                (None, 16)                272       \n",
            "_________________________________________________________________\n",
            "dense_1 (Dense)              (None, 3)                 51        \n",
            "=================================================================\n",
            "Total params: 145,859\n",
            "Trainable params: 145,859\n",
            "Non-trainable params: 0\n",
            "_________________________________________________________________\n"
          ],
          "name": "stdout"
        }
      ]
    },
    {
      "cell_type": "code",
      "metadata": {
        "colab": {
          "base_uri": "https://localhost:8080/",
          "height": 628
        },
        "id": "kaPrJwzva7XE",
        "outputId": "d34c9ad5-ea38-45d1-eb3b-76b4cd626409"
      },
      "source": [
        "num_epochs = 10\n",
        "history = model.fit(padded,y_train,epochs = num_epochs, validation_data=(testing_padded,y_test))\n",
        "\n",
        "plt.plot(history.history['accuracy'], label='accuracy')\n",
        "plt.plot(history.history['val_accuracy'], label = 'val_accuracy')\n",
        "plt.xlabel('Epoch')\n",
        "plt.ylabel('Accuracy')\n",
        "plt.ylim([0, 1])\n",
        "plt.legend(loc='lower right');"
      ],
      "execution_count": 47,
      "outputs": [
        {
          "output_type": "stream",
          "text": [
            "Epoch 1/10\n",
            "321/321 [==============================] - 2s 5ms/step - loss: 0.9652 - accuracy: 0.5971 - val_loss: 0.7091 - val_accuracy: 0.6910\n",
            "Epoch 2/10\n",
            "321/321 [==============================] - 1s 4ms/step - loss: 0.6459 - accuracy: 0.7393 - val_loss: 0.5969 - val_accuracy: 0.7628\n",
            "Epoch 3/10\n",
            "321/321 [==============================] - 1s 4ms/step - loss: 0.5109 - accuracy: 0.8046 - val_loss: 0.5692 - val_accuracy: 0.7739\n",
            "Epoch 4/10\n",
            "321/321 [==============================] - 1s 4ms/step - loss: 0.4138 - accuracy: 0.8443 - val_loss: 0.5658 - val_accuracy: 0.7689\n",
            "Epoch 5/10\n",
            "321/321 [==============================] - 1s 4ms/step - loss: 0.3670 - accuracy: 0.8609 - val_loss: 0.5762 - val_accuracy: 0.7691\n",
            "Epoch 6/10\n",
            "321/321 [==============================] - 1s 4ms/step - loss: 0.3077 - accuracy: 0.8897 - val_loss: 0.5953 - val_accuracy: 0.7682\n",
            "Epoch 7/10\n",
            "321/321 [==============================] - 1s 4ms/step - loss: 0.2541 - accuracy: 0.9089 - val_loss: 0.6188 - val_accuracy: 0.7666\n",
            "Epoch 8/10\n",
            "321/321 [==============================] - 1s 4ms/step - loss: 0.2174 - accuracy: 0.9263 - val_loss: 0.6433 - val_accuracy: 0.7662\n",
            "Epoch 9/10\n",
            "321/321 [==============================] - 1s 4ms/step - loss: 0.1888 - accuracy: 0.9402 - val_loss: 0.6761 - val_accuracy: 0.7623\n",
            "Epoch 10/10\n",
            "321/321 [==============================] - 1s 4ms/step - loss: 0.1716 - accuracy: 0.9435 - val_loss: 0.7012 - val_accuracy: 0.7659\n"
          ],
          "name": "stdout"
        },
        {
          "output_type": "display_data",
          "data": {
            "image/png": "[encoded data removed]",
            "text/plain": [
              "<Figure size 432x288 with 1 Axes>"
            ]
          },
          "metadata": {
            "tags": [],
            "needs_background": "light"
          }
        }
      ]
    },
    {
      "cell_type": "code",
      "metadata": {
        "colab": {
          "base_uri": "https://localhost:8080/"
        },
        "id": "eM1xH8kxbAT0",
        "outputId": "727d950a-5737-434f-9110-d5a5b64026cc"
      },
      "source": [
        "# Each word in Vocab with embedding vector\n",
        "e =model.layers[0]\n",
        "weights = e.get_weights()[0]\n",
        "print(weights.shape)"
      ],
      "execution_count": 48,
      "outputs": [
        {
          "output_type": "stream",
          "text": [
            "(9096, 16)\n"
          ],
          "name": "stdout"
        }
      ]
    },
    {
      "cell_type": "code",
      "metadata": {
        "colab": {
          "base_uri": "https://localhost:8080/"
        },
        "id": "HSOuqFqVbJxU",
        "outputId": "99264f08-31ef-4438-f24a-bc42dbe2ee5c"
      },
      "source": [
        "#Vector of 16 for each word\n",
        "weights[0]"
      ],
      "execution_count": 49,
      "outputs": [
        {
          "output_type": "execute_result",
          "data": {
            "text/plain": [
              "array([-0.1680265 , -0.19553643, -0.13550632, -0.12544985, -0.14022386,\n",
              "       -0.15773582, -0.13272202,  0.44994736, -0.12481587, -0.2912676 ,\n",
              "       -0.16697723, -0.11466751, -0.13948657,  0.2980558 , -0.12816018,\n",
              "       -0.1355757 ], dtype=float32)"
            ]
          },
          "metadata": {
            "tags": []
          },
          "execution_count": 49
        }
      ]
    },
    {
      "cell_type": "code",
      "metadata": {
        "colab": {
          "base_uri": "https://localhost:8080/",
          "height": 767
        },
        "id": "wDYe8ijIZNdB",
        "outputId": "0a1349aa-60b9-4977-c613-2ce463520466"
      },
      "source": [
        "#Second Model with Regularization\n",
        "import tensorflow as tf\n",
        "\n",
        "model = tf.keras.Sequential()\n",
        "embedding_dim = 16\n",
        "model = tf.keras.Sequential([\n",
        "                             tf.keras.layers.Embedding(vocab_size,embedding_dim,input_length = max_length),\n",
        "                             tf.keras.layers.GlobalMaxPool1D(),\n",
        "                             tf.keras.layers.Dense(16,activation='relu'),\n",
        "                             tf.keras.layers.Dropout(0.2),\n",
        "                             tf.keras.layers.Dense(3,activation='softmax')\n",
        "])\n",
        "model.compile(loss='categorical_crossentropy',optimizer='adam',metrics=['accuracy'])\n",
        "model.summary()\n",
        "\n",
        "num_epochs = 5\n",
        "history = model.fit(padded,y_train,epochs = num_epochs, validation_data=(testing_padded,y_test))\n",
        "\n",
        "plt.plot(history.history['accuracy'], label='accuracy')\n",
        "plt.plot(history.history['val_accuracy'], label = 'val_accuracy')\n",
        "plt.xlabel('Epoch')\n",
        "plt.ylabel('Accuracy')\n",
        "plt.ylim([0, 1])\n",
        "plt.legend(loc='lower right');"
      ],
      "execution_count": 50,
      "outputs": [
        {
          "output_type": "stream",
          "text": [
            "Model: \"sequential_3\"\n",
            "_________________________________________________________________\n",
            "Layer (type)                 Output Shape              Param #   \n",
            "=================================================================\n",
            "embedding_1 (Embedding)      (None, 75, 16)            145536    \n",
            "_________________________________________________________________\n",
            "global_max_pooling1d_1 (Glob (None, 16)                0         \n",
            "_________________________________________________________________\n",
            "dense_2 (Dense)              (None, 16)                272       \n",
            "_________________________________________________________________\n",
            "dropout (Dropout)            (None, 16)                0         \n",
            "_________________________________________________________________\n",
            "dense_3 (Dense)              (None, 3)                 51        \n",
            "=================================================================\n",
            "Total params: 145,859\n",
            "Trainable params: 145,859\n",
            "Non-trainable params: 0\n",
            "_________________________________________________________________\n",
            "Epoch 1/5\n",
            "321/321 [==============================] - 2s 4ms/step - loss: 0.9660 - accuracy: 0.6359 - val_loss: 0.7215 - val_accuracy: 0.6985\n",
            "Epoch 2/5\n",
            "321/321 [==============================] - 1s 4ms/step - loss: 0.6815 - accuracy: 0.7259 - val_loss: 0.6170 - val_accuracy: 0.7589\n",
            "Epoch 3/5\n",
            "321/321 [==============================] - 1s 4ms/step - loss: 0.5630 - accuracy: 0.7923 - val_loss: 0.5857 - val_accuracy: 0.7735\n",
            "Epoch 4/5\n",
            "321/321 [==============================] - 1s 4ms/step - loss: 0.4730 - accuracy: 0.8242 - val_loss: 0.5761 - val_accuracy: 0.7755\n",
            "Epoch 5/5\n",
            "321/321 [==============================] - 1s 4ms/step - loss: 0.4100 - accuracy: 0.8487 - val_loss: 0.5847 - val_accuracy: 0.7719\n"
          ],
          "name": "stdout"
        },
        {
          "output_type": "display_data",
          "data": {
            "image/png": "[encoded data removed]",
            "text/plain": [
              "<Figure size 432x288 with 1 Axes>"
            ]
          },
          "metadata": {
            "tags": [],
            "needs_background": "light"
          }
        }
      ]
    },
    {
      "cell_type": "code",
      "metadata": {
        "id": "BcfcIMfaZNP5"
      },
      "source": [
        "# Use predefined embedding - Glove Embedding"
      ],
      "execution_count": 51,
      "outputs": []
    },
    {
      "cell_type": "code",
      "metadata": {
        "id": "7df8j5lRZNHz"
      },
      "source": [
        "def create_embedding_matrix(filepath, word_index, embedding_dim):\n",
        "    vocab_size = len(word_index) + 1  # Adding again 1 because of reserved 0 index\n",
        "    embedding_matrix = np.zeros((vocab_size, embedding_dim))\n",
        "\n",
        "    with open(filepath) as f:\n",
        "        for line in f:\n",
        "            word, *vector = line.split()\n",
        "            if word in word_index:\n",
        "                idx = word_index[word] \n",
        "                embedding_matrix[idx] = np.array(\n",
        "                    vector, dtype=np.float32)[:embedding_dim]\n",
        "\n",
        "    return embedding_matrix"
      ],
      "execution_count": 52,
      "outputs": []
    },
    {
      "cell_type": "code",
      "metadata": {
        "id": "im7NwQnVZM96"
      },
      "source": [
        "embedding_dim = 100\n",
        "filepath = \"/content/drive/My Drive/GL_Mentor/Data/glove.6B.300d.txt\"\n",
        "embedding_matrix = create_embedding_matrix(filepath,tokenizer.word_index, embedding_dim)"
      ],
      "execution_count": 53,
      "outputs": []
    },
    {
      "cell_type": "code",
      "metadata": {
        "colab": {
          "base_uri": "https://localhost:8080/"
        },
        "id": "h1tob4OE1gaU",
        "outputId": "3b15ac13-5a74-4378-8bad-61f2881d59e6"
      },
      "source": [
        "len(word_index)"
      ],
      "execution_count": 67,
      "outputs": [
        {
          "output_type": "execute_result",
          "data": {
            "text/plain": [
              "9095"
            ]
          },
          "metadata": {
            "tags": []
          },
          "execution_count": 67
        }
      ]
    },
    {
      "cell_type": "code",
      "metadata": {
        "colab": {
          "base_uri": "https://localhost:8080/"
        },
        "id": "iZMeMBbCguj_",
        "outputId": "7d926d1b-ee6e-41ba-c454-f25b400f288d"
      },
      "source": [
        "embedding_matrix.shape"
      ],
      "execution_count": 54,
      "outputs": [
        {
          "output_type": "execute_result",
          "data": {
            "text/plain": [
              "(9096, 100)"
            ]
          },
          "metadata": {
            "tags": []
          },
          "execution_count": 54
        }
      ]
    },
    {
      "cell_type": "code",
      "metadata": {
        "colab": {
          "base_uri": "https://localhost:8080/"
        },
        "id": "ZIvfGPX-0R71",
        "outputId": "2242f156-0085-4ef0-8b21-7e8489d79844"
      },
      "source": [
        "vocab_size"
      ],
      "execution_count": 55,
      "outputs": [
        {
          "output_type": "execute_result",
          "data": {
            "text/plain": [
              "9096"
            ]
          },
          "metadata": {
            "tags": []
          },
          "execution_count": 55
        }
      ]
    },
    {
      "cell_type": "code",
      "metadata": {
        "colab": {
          "base_uri": "https://localhost:8080/",
          "height": 905
        },
        "id": "91XbUcc0auix",
        "outputId": "23bde769-343d-4ec0-e4bf-64232e2bc6a9"
      },
      "source": [
        "#Model 3 - Keras model with pretrained embedding vectors\n",
        "#The glove file can be obtained at https://github.com/stanfordnlp/GloVe\n",
        "model_glove = tf.keras.Sequential([\n",
        "                             tf.keras.layers.Embedding(vocab_size,embedding_dim,weights=[embedding_matrix],input_length = max_length),\n",
        "                             tf.keras.layers.GlobalMaxPool1D(),\n",
        "                             tf.keras.layers.Dense(12,activation='relu'),\n",
        "                             tf.keras.layers.Dense(3,activation='softmax')\n",
        "])\n",
        "model_glove.compile(loss='categorical_crossentropy',optimizer='adam',metrics=['accuracy'])\n",
        "model_glove.summary()\n",
        "\n",
        "num_epochs = 10\n",
        "history_glove = model_glove.fit(padded,y_train,epochs = num_epochs,validation_data=(testing_padded,y_test))\n",
        "\n",
        "plt.plot(history_glove.history['accuracy'], label='accuracy')\n",
        "plt.plot(history_glove.history['val_accuracy'], label = 'val_accuracy')\n",
        "plt.xlabel('Epoch')\n",
        "plt.ylabel('Accuracy')\n",
        "plt.ylim([0, 1])\n",
        "plt.legend(loc='lower right');"
      ],
      "execution_count": 56,
      "outputs": [
        {
          "output_type": "stream",
          "text": [
            "Model: \"sequential_4\"\n",
            "_________________________________________________________________\n",
            "Layer (type)                 Output Shape              Param #   \n",
            "=================================================================\n",
            "embedding_2 (Embedding)      (None, 75, 100)           909600    \n",
            "_________________________________________________________________\n",
            "global_max_pooling1d_2 (Glob (None, 100)               0         \n",
            "_________________________________________________________________\n",
            "dense_4 (Dense)              (None, 12)                1212      \n",
            "_________________________________________________________________\n",
            "dense_5 (Dense)              (None, 3)                 39        \n",
            "=================================================================\n",
            "Total params: 910,851\n",
            "Trainable params: 910,851\n",
            "Non-trainable params: 0\n",
            "_________________________________________________________________\n",
            "Epoch 1/10\n",
            "321/321 [==============================] - 4s 12ms/step - loss: 0.8505 - accuracy: 0.6484 - val_loss: 0.6887 - val_accuracy: 0.7033\n",
            "Epoch 2/10\n",
            "321/321 [==============================] - 4s 12ms/step - loss: 0.6151 - accuracy: 0.7459 - val_loss: 0.5874 - val_accuracy: 0.7634\n",
            "Epoch 3/10\n",
            "321/321 [==============================] - 4s 11ms/step - loss: 0.4889 - accuracy: 0.8083 - val_loss: 0.5685 - val_accuracy: 0.7741\n",
            "Epoch 4/10\n",
            "321/321 [==============================] - 4s 12ms/step - loss: 0.3768 - accuracy: 0.8572 - val_loss: 0.5601 - val_accuracy: 0.7805\n",
            "Epoch 5/10\n",
            "321/321 [==============================] - 4s 12ms/step - loss: 0.3117 - accuracy: 0.8885 - val_loss: 0.5846 - val_accuracy: 0.7826\n",
            "Epoch 6/10\n",
            "321/321 [==============================] - 4s 11ms/step - loss: 0.2513 - accuracy: 0.9158 - val_loss: 0.6057 - val_accuracy: 0.7819\n",
            "Epoch 7/10\n",
            "321/321 [==============================] - 4s 11ms/step - loss: 0.1849 - accuracy: 0.9440 - val_loss: 0.6452 - val_accuracy: 0.7791\n",
            "Epoch 8/10\n",
            "321/321 [==============================] - 4s 12ms/step - loss: 0.1396 - accuracy: 0.9599 - val_loss: 0.7048 - val_accuracy: 0.7760\n",
            "Epoch 9/10\n",
            "321/321 [==============================] - 4s 12ms/step - loss: 0.1117 - accuracy: 0.9694 - val_loss: 0.7414 - val_accuracy: 0.7757\n",
            "Epoch 10/10\n",
            "321/321 [==============================] - 4s 12ms/step - loss: 0.0869 - accuracy: 0.9786 - val_loss: 0.7912 - val_accuracy: 0.7728\n"
          ],
          "name": "stdout"
        },
        {
          "output_type": "display_data",
          "data": {
            "image/png": "[encoded data removed]",
            "text/plain": [
              "<Figure size 432x288 with 1 Axes>"
            ]
          },
          "metadata": {
            "tags": [],
            "needs_background": "light"
          }
        }
      ]
    },
    {
      "cell_type": "code",
      "metadata": {
        "colab": {
          "base_uri": "https://localhost:8080/"
        },
        "id": "yVypm43DaurQ",
        "outputId": "7f3fd1fa-4c8a-4e8f-c9f7-9b1ccdd7ca60"
      },
      "source": [
        "#Word vectors in current Vocab not in Glove Pretrained vector list\n",
        "nonzero_elements = np.count_nonzero(np.count_nonzero(embedding_matrix, axis=1))\n",
        "print(nonzero_elements / vocab_size)"
      ],
      "execution_count": 57,
      "outputs": [
        {
          "output_type": "stream",
          "text": [
            "0.6730430958663148\n"
          ],
          "name": "stdout"
        }
      ]
    },
    {
      "cell_type": "code",
      "metadata": {
        "id": "P23K7_2uavHZ"
      },
      "source": [
        ""
      ],
      "execution_count": null,
      "outputs": []
    },
    {
      "cell_type": "code",
      "metadata": {
        "id": "Hf21LjrMbMIl"
      },
      "source": [
        "## Word2Vec Method\n",
        "from gensim.models import Word2Vec"
      ],
      "execution_count": 58,
      "outputs": []
    },
    {
      "cell_type": "code",
      "metadata": {
        "id": "6QLUMA7aevDD"
      },
      "source": [
        "lst = X_train_data.tolist()"
      ],
      "execution_count": 59,
      "outputs": []
    },
    {
      "cell_type": "code",
      "metadata": {
        "id": "f4m2BQlUj2kh"
      },
      "source": [
        "#Convert to list of lists\n",
        "for l in lst[:1]:\n",
        "  res = []\n",
        "  for el in lst:\n",
        "    sub = el.split()\n",
        "    res.append(sub)"
      ],
      "execution_count": 60,
      "outputs": []
    },
    {
      "cell_type": "code",
      "metadata": {
        "colab": {
          "base_uri": "https://localhost:8080/"
        },
        "id": "bwT5aJGrkZHj",
        "outputId": "b0f44bf1-a2a8-4b61-802b-879a3342ba4c"
      },
      "source": [
        "lst[:1]"
      ],
      "execution_count": 61,
      "outputs": [
        {
          "output_type": "execute_result",
          "data": {
            "text/plain": [
              "['suggestions tell customers approximate wait time hold min allow cancel flight online']"
            ]
          },
          "metadata": {
            "tags": []
          },
          "execution_count": 61
        }
      ]
    },
    {
      "cell_type": "code",
      "metadata": {
        "colab": {
          "base_uri": "https://localhost:8080/"
        },
        "id": "91WNvOGWkSMM",
        "outputId": "713d68b4-4fc1-4df2-f30b-101909d8c87b"
      },
      "source": [
        "res[:1]"
      ],
      "execution_count": 62,
      "outputs": [
        {
          "output_type": "execute_result",
          "data": {
            "text/plain": [
              "[['suggestions',\n",
              "  'tell',\n",
              "  'customers',\n",
              "  'approximate',\n",
              "  'wait',\n",
              "  'time',\n",
              "  'hold',\n",
              "  'min',\n",
              "  'allow',\n",
              "  'cancel',\n",
              "  'flight',\n",
              "  'online']]"
            ]
          },
          "metadata": {
            "tags": []
          },
          "execution_count": 62
        }
      ]
    },
    {
      "cell_type": "code",
      "metadata": {
        "id": "NvTwfMVSfJvj"
      },
      "source": [
        "model = Word2Vec(res, min_count=1,size= 50,workers=3, window =3, sg = 1)\n",
        "#Size - Embedding Dimension\n",
        "#Window - Target word vs Context word\n",
        "#min_count - Minimum count of words to consider\n",
        "#Algo Bag of Words vs Single Grams"
      ],
      "execution_count": 63,
      "outputs": []
    },
    {
      "cell_type": "code",
      "metadata": {
        "id": "E5NhYBc34ikF"
      },
      "source": [
        "word2vec_vocab= list(model.wv.vocab)"
      ],
      "execution_count": 71,
      "outputs": []
    },
    {
      "cell_type": "code",
      "metadata": {
        "colab": {
          "base_uri": "https://localhost:8080/"
        },
        "id": "pXPSOFkL4ljT",
        "outputId": "81ab64a9-f7b0-4789-b5de-5aa8133a0ffe"
      },
      "source": [
        "type(word2vec_vocab)"
      ],
      "execution_count": 74,
      "outputs": [
        {
          "output_type": "execute_result",
          "data": {
            "text/plain": [
              "list"
            ]
          },
          "metadata": {
            "tags": []
          },
          "execution_count": 74
        }
      ]
    },
    {
      "cell_type": "code",
      "metadata": {
        "colab": {
          "base_uri": "https://localhost:8080/"
        },
        "id": "yZFT-O5B1EY0",
        "outputId": "b0b83faf-2ac8-4c9d-984a-2cb3400467b7"
      },
      "source": [
        "embedding_matrix.shape"
      ],
      "execution_count": 65,
      "outputs": [
        {
          "output_type": "execute_result",
          "data": {
            "text/plain": [
              "(9096, 100)"
            ]
          },
          "metadata": {
            "tags": []
          },
          "execution_count": 65
        }
      ]
    },
    {
      "cell_type": "code",
      "metadata": {
        "colab": {
          "base_uri": "https://localhost:8080/"
        },
        "id": "m4vUTqm3fQzh",
        "outputId": "3214e47f-46c7-4be5-f01e-47dcfae0a6a7"
      },
      "source": [
        "model['poor']"
      ],
      "execution_count": 69,
      "outputs": [
        {
          "output_type": "stream",
          "text": [
            "/usr/local/lib/python3.7/dist-packages/ipykernel_launcher.py:1: DeprecationWarning: Call to deprecated `__getitem__` (Method will be removed in 4.0.0, use self.wv.__getitem__() instead).\n",
            "  \"\"\"Entry point for launching an IPython kernel.\n"
          ],
          "name": "stderr"
        },
        {
          "output_type": "execute_result",
          "data": {
            "text/plain": [
              "array([ 0.34949496,  0.47700655, -0.1585599 ,  0.25789553,  0.28194764,\n",
              "        0.09835506,  0.04675354,  0.08495025,  0.21892431,  0.49081215,\n",
              "        0.7790111 , -0.06233158,  0.1558735 , -0.09570195, -0.05118703,\n",
              "        0.08048796,  0.27663434, -0.30307055, -0.16933225,  0.04132691,\n",
              "       -0.22093713,  0.14610052, -0.3052851 , -0.1940166 , -0.57635134,\n",
              "        0.21557567, -0.48309994,  0.32935327,  0.16319126,  0.12531023,\n",
              "       -0.14566788,  0.18034494,  0.33121172,  0.1466751 ,  0.01214683,\n",
              "        0.19886461, -0.07777119,  0.04524614,  0.3245976 ,  0.24421296,\n",
              "       -0.6650194 ,  0.14274292,  0.5452193 , -0.15650703,  0.7320916 ,\n",
              "        0.0909052 ,  0.09486398,  0.3597153 ,  0.23533192,  0.29817235],\n",
              "      dtype=float32)"
            ]
          },
          "metadata": {
            "tags": []
          },
          "execution_count": 69
        }
      ]
    },
    {
      "cell_type": "code",
      "metadata": {
        "colab": {
          "base_uri": "https://localhost:8080/"
        },
        "id": "HybvxaQlmInV",
        "outputId": "8895b0cb-5464-45df-b862-d48584738f48"
      },
      "source": [
        "model.most_similar('poor')[:5]"
      ],
      "execution_count": 70,
      "outputs": [
        {
          "output_type": "stream",
          "text": [
            "/usr/local/lib/python3.7/dist-packages/ipykernel_launcher.py:1: DeprecationWarning: Call to deprecated `most_similar` (Method will be removed in 4.0.0, use self.wv.most_similar() instead).\n",
            "  \"\"\"Entry point for launching an IPython kernel.\n"
          ],
          "name": "stderr"
        },
        {
          "output_type": "execute_result",
          "data": {
            "text/plain": [
              "[('suck', 0.9939659833908081),\n",
              " ('terrible', 0.993756115436554),\n",
              " ('disappoint', 0.9932999014854431),\n",
              " ('horrible', 0.991725504398346),\n",
              " ('lack', 0.991016685962677)]"
            ]
          },
          "metadata": {
            "tags": []
          },
          "execution_count": 70
        }
      ]
    },
    {
      "cell_type": "code",
      "metadata": {
        "id": "-QHdYKo3CxtC"
      },
      "source": [
        "## Model using Pretrained Embedding Weights - Word2Vec\n",
        "def create_embedding_matrix(model, word_index, embedding_dim):\n",
        "    vocab_size = len(word_index) + 1  # Adding again 1 because of reserved 0 index\n",
        "    embedding_matrix = np.zeros((vocab_size, embedding_dim))\n",
        "\n",
        "    for word in word2vec_vocab:\n",
        "        word, *vector = word,model[word]\n",
        "        if word in word_index:\n",
        "            idx = word_index[word] \n",
        "            embedding_matrix[idx] = np.array(\n",
        "            vector, dtype=np.float32)[:embedding_dim]\n",
        "\n",
        "    return embedding_matrix"
      ],
      "execution_count": 76,
      "outputs": []
    },
    {
      "cell_type": "code",
      "metadata": {
        "colab": {
          "base_uri": "https://localhost:8080/"
        },
        "id": "MDM0yL2vC3P6",
        "outputId": "2114ea71-3b54-4fc9-ed60-4cf0670925bf"
      },
      "source": [
        "embedding_dim = 50\n",
        "embedding_matrix = create_embedding_matrix(model,tokenizer.word_index, embedding_dim)"
      ],
      "execution_count": 77,
      "outputs": [
        {
          "output_type": "stream",
          "text": [
            "/usr/local/lib/python3.7/dist-packages/ipykernel_launcher.py:7: DeprecationWarning: Call to deprecated `__getitem__` (Method will be removed in 4.0.0, use self.wv.__getitem__() instead).\n",
            "  import sys\n"
          ],
          "name": "stderr"
        }
      ]
    },
    {
      "cell_type": "code",
      "metadata": {
        "colab": {
          "base_uri": "https://localhost:8080/"
        },
        "id": "eyqE_SB16iHs",
        "outputId": "55bd658f-8ab2-4064-dbab-1266d74fb19b"
      },
      "source": [
        "embedding_matrix.shape"
      ],
      "execution_count": 81,
      "outputs": [
        {
          "output_type": "execute_result",
          "data": {
            "text/plain": [
              "(9096, 50)"
            ]
          },
          "metadata": {
            "tags": []
          },
          "execution_count": 81
        }
      ]
    },
    {
      "cell_type": "code",
      "metadata": {
        "colab": {
          "base_uri": "https://localhost:8080/",
          "height": 905
        },
        "id": "PIxhhHqjC3tR",
        "outputId": "1fce13da-7048-48dc-df3f-5470571d8498"
      },
      "source": [
        "#Model 3 - Keras model with pretrained embedding vectors from word2vec\n",
        "model_word2vec = tf.keras.Sequential([\n",
        "                             tf.keras.layers.Embedding(vocab_size,embedding_dim,weights=[embedding_matrix],input_length = max_length),\n",
        "                             tf.keras.layers.GlobalMaxPool1D(),\n",
        "                             tf.keras.layers.Dense(12,activation='relu'),\n",
        "                             tf.keras.layers.Dense(3,activation='softmax')\n",
        "])\n",
        "model_word2vec.compile(loss='categorical_crossentropy',optimizer='adam',metrics=['accuracy'])\n",
        "model_word2vec.summary()\n",
        "\n",
        "num_epochs = 10\n",
        "history_word2vec = model_word2vec.fit(padded,y_train,epochs = num_epochs,validation_data=(testing_padded,y_test))\n",
        "\n",
        "plt.plot(history_word2vec.history['accuracy'], label='accuracy')\n",
        "plt.plot(history_word2vec.history['val_accuracy'], label = 'val_accuracy')\n",
        "plt.xlabel('Epoch')\n",
        "plt.ylabel('Accuracy')\n",
        "plt.ylim([0, 1])\n",
        "plt.legend(loc='lower right');\n"
      ],
      "execution_count": 78,
      "outputs": [
        {
          "output_type": "stream",
          "text": [
            "Model: \"sequential_5\"\n",
            "_________________________________________________________________\n",
            "Layer (type)                 Output Shape              Param #   \n",
            "=================================================================\n",
            "embedding_3 (Embedding)      (None, 75, 50)            454800    \n",
            "_________________________________________________________________\n",
            "global_max_pooling1d_3 (Glob (None, 50)                0         \n",
            "_________________________________________________________________\n",
            "dense_6 (Dense)              (None, 12)                612       \n",
            "_________________________________________________________________\n",
            "dense_7 (Dense)              (None, 3)                 39        \n",
            "=================================================================\n",
            "Total params: 455,451\n",
            "Trainable params: 455,451\n",
            "Non-trainable params: 0\n",
            "_________________________________________________________________\n",
            "Epoch 1/10\n",
            "321/321 [==============================] - 3s 8ms/step - loss: 0.9257 - accuracy: 0.5575 - val_loss: 0.7253 - val_accuracy: 0.6767\n",
            "Epoch 2/10\n",
            "321/321 [==============================] - 2s 7ms/step - loss: 0.6731 - accuracy: 0.7096 - val_loss: 0.6002 - val_accuracy: 0.7550\n",
            "Epoch 3/10\n",
            "321/321 [==============================] - 2s 7ms/step - loss: 0.5448 - accuracy: 0.7954 - val_loss: 0.5616 - val_accuracy: 0.7684\n",
            "Epoch 4/10\n",
            "321/321 [==============================] - 2s 7ms/step - loss: 0.4242 - accuracy: 0.8409 - val_loss: 0.5479 - val_accuracy: 0.7785\n",
            "Epoch 5/10\n",
            "321/321 [==============================] - 2s 8ms/step - loss: 0.3191 - accuracy: 0.8867 - val_loss: 0.5507 - val_accuracy: 0.7787\n",
            "Epoch 6/10\n",
            "321/321 [==============================] - 2s 7ms/step - loss: 0.2228 - accuracy: 0.9294 - val_loss: 0.5701 - val_accuracy: 0.7746\n",
            "Epoch 7/10\n",
            "321/321 [==============================] - 2s 7ms/step - loss: 0.1528 - accuracy: 0.9545 - val_loss: 0.6003 - val_accuracy: 0.7689\n",
            "Epoch 8/10\n",
            "321/321 [==============================] - 2s 7ms/step - loss: 0.1144 - accuracy: 0.9657 - val_loss: 0.6424 - val_accuracy: 0.7691\n",
            "Epoch 9/10\n",
            "321/321 [==============================] - 2s 7ms/step - loss: 0.0936 - accuracy: 0.9718 - val_loss: 0.6718 - val_accuracy: 0.7659\n",
            "Epoch 10/10\n",
            "321/321 [==============================] - 2s 7ms/step - loss: 0.0717 - accuracy: 0.9792 - val_loss: 0.7113 - val_accuracy: 0.7623\n"
          ],
          "name": "stdout"
        },
        {
          "output_type": "display_data",
          "data": {
            "image/png": "[encoded data removed]",
            "text/plain": [
              "<Figure size 432x288 with 1 Axes>"
            ]
          },
          "metadata": {
            "tags": [],
            "needs_background": "light"
          }
        }
      ]
    },
    {
      "cell_type": "code",
      "metadata": {
        "id": "5wIscscq64V6"
      },
      "source": [
        ""
      ],
      "execution_count": null,
      "outputs": []
    },
    {
      "cell_type": "code",
      "metadata": {
        "id": "7Lu4ZDb0DN3z"
      },
      "source": [
        ""
      ],
      "execution_count": null,
      "outputs": []
    },
    {
      "cell_type": "code",
      "metadata": {
        "id": "3wH4D33dW7l9"
      },
      "source": [
        ""
      ],
      "execution_count": null,
      "outputs": []
    },
    {
      "cell_type": "code",
      "metadata": {
        "id": "Uywl3x3Kvec6"
      },
      "source": [
        ""
      ],
      "execution_count": null,
      "outputs": []
    }
  ]
}