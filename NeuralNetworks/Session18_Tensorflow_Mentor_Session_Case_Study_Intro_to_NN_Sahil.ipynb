{
  "nbformat": 4,
  "nbformat_minor": 0,
  "metadata": {
    "colab": {
      "name": "Tensorflow_Mentor_Session_Case_Study_W1_Intro_to_NN.ipynb",
      "provenance": [],
      "collapsed_sections": [],
      "toc_visible": true
    },
    "kernelspec": {
      "name": "python3",
      "display_name": "Python 3"
    },
    "accelerator": "GPU"
  },
  "cells": [
    {
      "cell_type": "markdown",
      "metadata": {
        "id": "5IIstFzwcpJE"
      },
      "source": [
        "##Linear Regression using TensorFlow\n",
        "\n",
        "In this session, we will have a look at creating a linear regression model using tensorflow 2.0. Note that we already know the basics of linear regression and understand the implementation through sklearn. We will try to figure out how to do it using tensorflow tools that we have learnt.   \n",
        "\n",
        "\n",
        "<i>Note that to keep this exercise simple and focused on tensorflow and its relevant functions, we will make a very simple model with very basic preprocessing.</i> "
      ]
    },
    {
      "cell_type": "markdown",
      "metadata": {
        "id": "EkKHyKfRFwYG"
      },
      "source": [
        "#### Let us start with mounting our drive to be able to use the dataset stored in our dataset."
      ]
    },
    {
      "cell_type": "code",
      "metadata": {
        "id": "5DN8Ab6qxpoG"
      },
      "source": [
        "from google.colab import drive\n"
      ],
      "execution_count": null,
      "outputs": []
    },
    {
      "cell_type": "code",
      "metadata": {
        "colab": {
          "base_uri": "https://localhost:8080/"
        },
        "id": "P7V76hIaxkj0",
        "outputId": "94b8c3f8-dd76-4289-ae9d-0f5c0111b145"
      },
      "source": [
        "drive.mount('/content/drive')"
      ],
      "execution_count": null,
      "outputs": [
        {
          "output_type": "stream",
          "text": [
            "Mounted at /content/drive\n"
          ],
          "name": "stdout"
        }
      ]
    },
    {
      "cell_type": "markdown",
      "metadata": {
        "id": "ykQXiPSPF_rf"
      },
      "source": [
        "#### Now, let us install the latest version of tensorflow.\n"
      ]
    },
    {
      "cell_type": "code",
      "metadata": {
        "id": "tvNefLdVoZNz"
      },
      "source": [
        "#!pip install tensorflow==2.0.0\r\n",
        "#!pip install -q keras"
      ],
      "execution_count": null,
      "outputs": []
    },
    {
      "cell_type": "markdown",
      "metadata": {
        "id": "EvmX8Lp1GOSn"
      },
      "source": [
        "##### Check the version of the installation"
      ]
    },
    {
      "cell_type": "code",
      "metadata": {
        "id": "ry8J8nA4ocet",
        "colab": {
          "base_uri": "https://localhost:8080/"
        },
        "outputId": "fe63b91e-514c-4e4e-bff0-4480ab9b4660"
      },
      "source": [
        "import tensorflow as tf\n",
        "print(tf.__version__)"
      ],
      "execution_count": null,
      "outputs": [
        {
          "output_type": "stream",
          "text": [
            "2.4.1\n"
          ],
          "name": "stdout"
        }
      ]
    },
    {
      "cell_type": "code",
      "metadata": {
        "colab": {
          "base_uri": "https://localhost:8080/",
          "height": 35
        },
        "id": "kOHf9BWAz0Yc",
        "outputId": "73d23cb8-c794-442c-a0a0-4f7a1c07c59d"
      },
      "source": [
        "# Google Collab Functions\r\n",
        "# Test GPU Running\r\n",
        "tf.test.gpu_device_name()"
      ],
      "execution_count": null,
      "outputs": [
        {
          "output_type": "execute_result",
          "data": {
            "application/vnd.google.colaboratory.intrinsic+json": {
              "type": "string"
            },
            "text/plain": [
              "'/device:GPU:0'"
            ]
          },
          "metadata": {
            "tags": []
          },
          "execution_count": 17
        }
      ]
    },
    {
      "cell_type": "code",
      "metadata": {
        "colab": {
          "base_uri": "https://localhost:8080/"
        },
        "id": "rpHZ4fNzz-T7",
        "outputId": "75a992be-81a1-42c0-c4c4-f9ba4be26d2f"
      },
      "source": [
        "from tensorflow.python.client import device_lib\r\n",
        "device_lib.list_local_devices()"
      ],
      "execution_count": null,
      "outputs": [
        {
          "output_type": "execute_result",
          "data": {
            "text/plain": [
              "[name: \"/device:CPU:0\"\n",
              " device_type: \"CPU\"\n",
              " memory_limit: 268435456\n",
              " locality {\n",
              " }\n",
              " incarnation: 666804861534855704, name: \"/device:GPU:0\"\n",
              " device_type: \"GPU\"\n",
              " memory_limit: 14638920512\n",
              " locality {\n",
              "   bus_id: 1\n",
              "   links {\n",
              "   }\n",
              " }\n",
              " incarnation: 7003233804855065747\n",
              " physical_device_desc: \"device: 0, name: Tesla T4, pci bus id: 0000:00:04.0, compute capability: 7.5\"]"
            ]
          },
          "metadata": {
            "tags": []
          },
          "execution_count": 18
        }
      ]
    },
    {
      "cell_type": "code",
      "metadata": {
        "colab": {
          "base_uri": "https://localhost:8080/"
        },
        "id": "rob-rc3_0Pg7",
        "outputId": "019e631d-1f89-49e0-cb37-0ec62a2f45ec"
      },
      "source": [
        "! cat /proc/meminfo"
      ],
      "execution_count": null,
      "outputs": [
        {
          "output_type": "stream",
          "text": [
            "MemTotal:       13333596 kB\n",
            "MemFree:         9044272 kB\n",
            "MemAvailable:   11871988 kB\n",
            "Buffers:           91408 kB\n",
            "Cached:          2771652 kB\n",
            "SwapCached:            0 kB\n",
            "Active:          1285804 kB\n",
            "Inactive:        2585440 kB\n",
            "Active(anon):     862224 kB\n",
            "Inactive(anon):     8568 kB\n",
            "Active(file):     423580 kB\n",
            "Inactive(file):  2576872 kB\n",
            "Unevictable:           0 kB\n",
            "Mlocked:               0 kB\n",
            "SwapTotal:             0 kB\n",
            "SwapFree:              0 kB\n",
            "Dirty:              5704 kB\n",
            "Writeback:             0 kB\n",
            "AnonPages:       1008308 kB\n",
            "Mapped:           583164 kB\n",
            "Shmem:              9256 kB\n",
            "Slab:             184680 kB\n",
            "SReclaimable:     135944 kB\n",
            "SUnreclaim:        48736 kB\n",
            "KernelStack:        5120 kB\n",
            "PageTables:         9216 kB\n",
            "NFS_Unstable:          0 kB\n",
            "Bounce:                0 kB\n",
            "WritebackTmp:          0 kB\n",
            "CommitLimit:     6666796 kB\n",
            "Committed_AS:    4020208 kB\n",
            "VmallocTotal:   34359738367 kB\n",
            "VmallocUsed:           0 kB\n",
            "VmallocChunk:          0 kB\n",
            "Percpu:             1048 kB\n",
            "AnonHugePages:         0 kB\n",
            "ShmemHugePages:        0 kB\n",
            "ShmemPmdMapped:        0 kB\n",
            "HugePages_Total:       0\n",
            "HugePages_Free:        0\n",
            "HugePages_Rsvd:        0\n",
            "HugePages_Surp:        0\n",
            "Hugepagesize:       2048 kB\n",
            "Hugetlb:               0 kB\n",
            "DirectMap4k:      199912 kB\n",
            "DirectMap2M:     7139328 kB\n",
            "DirectMap1G:     8388608 kB\n"
          ],
          "name": "stdout"
        }
      ]
    },
    {
      "cell_type": "code",
      "metadata": {
        "colab": {
          "base_uri": "https://localhost:8080/"
        },
        "id": "pNoDqbhI0ttD",
        "outputId": "2093643f-3672-429e-dde0-9b97c10d95e7"
      },
      "source": [
        "! cat /proc/cpuinfo"
      ],
      "execution_count": null,
      "outputs": [
        {
          "output_type": "stream",
          "text": [
            "processor\t: 0\n",
            "vendor_id\t: GenuineIntel\n",
            "cpu family\t: 6\n",
            "model\t\t: 79\n",
            "model name\t: Intel(R) Xeon(R) CPU @ 2.20GHz\n",
            "stepping\t: 0\n",
            "microcode\t: 0x1\n",
            "cpu MHz\t\t: 2199.998\n",
            "cache size\t: 56320 KB\n",
            "physical id\t: 0\n",
            "siblings\t: 2\n",
            "core id\t\t: 0\n",
            "cpu cores\t: 1\n",
            "apicid\t\t: 0\n",
            "initial apicid\t: 0\n",
            "fpu\t\t: yes\n",
            "fpu_exception\t: yes\n",
            "cpuid level\t: 13\n",
            "wp\t\t: yes\n",
            "flags\t\t: fpu vme de pse tsc msr pae mce cx8 apic sep mtrr pge mca cmov pat pse36 clflush mmx fxsr sse sse2 ss ht syscall nx pdpe1gb rdtscp lm constant_tsc rep_good nopl xtopology nonstop_tsc cpuid tsc_known_freq pni pclmulqdq ssse3 fma cx16 pcid sse4_1 sse4_2 x2apic movbe popcnt aes xsave avx f16c rdrand hypervisor lahf_lm abm 3dnowprefetch invpcid_single ssbd ibrs ibpb stibp fsgsbase tsc_adjust bmi1 hle avx2 smep bmi2 erms invpcid rtm rdseed adx smap xsaveopt arat md_clear arch_capabilities\n",
            "bugs\t\t: cpu_meltdown spectre_v1 spectre_v2 spec_store_bypass l1tf mds swapgs taa\n",
            "bogomips\t: 4399.99\n",
            "clflush size\t: 64\n",
            "cache_alignment\t: 64\n",
            "address sizes\t: 46 bits physical, 48 bits virtual\n",
            "power management:\n",
            "\n",
            "processor\t: 1\n",
            "vendor_id\t: GenuineIntel\n",
            "cpu family\t: 6\n",
            "model\t\t: 79\n",
            "model name\t: Intel(R) Xeon(R) CPU @ 2.20GHz\n",
            "stepping\t: 0\n",
            "microcode\t: 0x1\n",
            "cpu MHz\t\t: 2199.998\n",
            "cache size\t: 56320 KB\n",
            "physical id\t: 0\n",
            "siblings\t: 2\n",
            "core id\t\t: 0\n",
            "cpu cores\t: 1\n",
            "apicid\t\t: 1\n",
            "initial apicid\t: 1\n",
            "fpu\t\t: yes\n",
            "fpu_exception\t: yes\n",
            "cpuid level\t: 13\n",
            "wp\t\t: yes\n",
            "flags\t\t: fpu vme de pse tsc msr pae mce cx8 apic sep mtrr pge mca cmov pat pse36 clflush mmx fxsr sse sse2 ss ht syscall nx pdpe1gb rdtscp lm constant_tsc rep_good nopl xtopology nonstop_tsc cpuid tsc_known_freq pni pclmulqdq ssse3 fma cx16 pcid sse4_1 sse4_2 x2apic movbe popcnt aes xsave avx f16c rdrand hypervisor lahf_lm abm 3dnowprefetch invpcid_single ssbd ibrs ibpb stibp fsgsbase tsc_adjust bmi1 hle avx2 smep bmi2 erms invpcid rtm rdseed adx smap xsaveopt arat md_clear arch_capabilities\n",
            "bugs\t\t: cpu_meltdown spectre_v1 spectre_v2 spec_store_bypass l1tf mds swapgs taa\n",
            "bogomips\t: 4399.99\n",
            "clflush size\t: 64\n",
            "cache_alignment\t: 64\n",
            "address sizes\t: 46 bits physical, 48 bits virtual\n",
            "power management:\n",
            "\n"
          ],
          "name": "stdout"
        }
      ]
    },
    {
      "cell_type": "markdown",
      "metadata": {
        "id": "ycFapGk6GTSi"
      },
      "source": [
        "Now Let us import out data and get it ready for modelling."
      ]
    },
    {
      "cell_type": "code",
      "metadata": {
        "id": "hKt0pILMz_sn",
        "colab": {
          "base_uri": "https://localhost:8080/",
          "height": 402
        },
        "outputId": "3e42057a-a3bd-46e1-c19a-ce13177967af"
      },
      "source": [
        "import pandas as pd\n",
        "import numpy as np\n",
        "\n",
        "cars_data = pd.read_csv('/content/drive/My Drive/GL_Mentor/Data/usedcars.csv')\n",
        "cars_data"
      ],
      "execution_count": null,
      "outputs": [
        {
          "output_type": "execute_result",
          "data": {
            "text/html": [
              "<div>\n",
              "<style scoped>\n",
              "    .dataframe tbody tr th:only-of-type {\n",
              "        vertical-align: middle;\n",
              "    }\n",
              "\n",
              "    .dataframe tbody tr th {\n",
              "        vertical-align: top;\n",
              "    }\n",
              "\n",
              "    .dataframe thead th {\n",
              "        text-align: right;\n",
              "    }\n",
              "</style>\n",
              "<table border=\"1\" class=\"dataframe\">\n",
              "  <thead>\n",
              "    <tr style=\"text-align: right;\">\n",
              "      <th></th>\n",
              "      <th>year</th>\n",
              "      <th>model</th>\n",
              "      <th>price</th>\n",
              "      <th>mileage</th>\n",
              "      <th>color</th>\n",
              "      <th>transmission</th>\n",
              "    </tr>\n",
              "  </thead>\n",
              "  <tbody>\n",
              "    <tr>\n",
              "      <th>0</th>\n",
              "      <td>2011</td>\n",
              "      <td>SEL</td>\n",
              "      <td>21992</td>\n",
              "      <td>7413</td>\n",
              "      <td>Yellow</td>\n",
              "      <td>AUTO</td>\n",
              "    </tr>\n",
              "    <tr>\n",
              "      <th>1</th>\n",
              "      <td>2011</td>\n",
              "      <td>SEL</td>\n",
              "      <td>20995</td>\n",
              "      <td>10926</td>\n",
              "      <td>Gray</td>\n",
              "      <td>AUTO</td>\n",
              "    </tr>\n",
              "    <tr>\n",
              "      <th>2</th>\n",
              "      <td>2011</td>\n",
              "      <td>SEL</td>\n",
              "      <td>19995</td>\n",
              "      <td>7351</td>\n",
              "      <td>Silver</td>\n",
              "      <td>AUTO</td>\n",
              "    </tr>\n",
              "    <tr>\n",
              "      <th>3</th>\n",
              "      <td>2011</td>\n",
              "      <td>SEL</td>\n",
              "      <td>17809</td>\n",
              "      <td>11613</td>\n",
              "      <td>Gray</td>\n",
              "      <td>AUTO</td>\n",
              "    </tr>\n",
              "    <tr>\n",
              "      <th>4</th>\n",
              "      <td>2012</td>\n",
              "      <td>SE</td>\n",
              "      <td>17500</td>\n",
              "      <td>8367</td>\n",
              "      <td>White</td>\n",
              "      <td>AUTO</td>\n",
              "    </tr>\n",
              "    <tr>\n",
              "      <th>...</th>\n",
              "      <td>...</td>\n",
              "      <td>...</td>\n",
              "      <td>...</td>\n",
              "      <td>...</td>\n",
              "      <td>...</td>\n",
              "      <td>...</td>\n",
              "    </tr>\n",
              "    <tr>\n",
              "      <th>145</th>\n",
              "      <td>2006</td>\n",
              "      <td>SES</td>\n",
              "      <td>6200</td>\n",
              "      <td>95000</td>\n",
              "      <td>Silver</td>\n",
              "      <td>AUTO</td>\n",
              "    </tr>\n",
              "    <tr>\n",
              "      <th>146</th>\n",
              "      <td>2002</td>\n",
              "      <td>SE</td>\n",
              "      <td>5995</td>\n",
              "      <td>87003</td>\n",
              "      <td>Red</td>\n",
              "      <td>AUTO</td>\n",
              "    </tr>\n",
              "    <tr>\n",
              "      <th>147</th>\n",
              "      <td>2000</td>\n",
              "      <td>SE</td>\n",
              "      <td>5980</td>\n",
              "      <td>96841</td>\n",
              "      <td>Red</td>\n",
              "      <td>AUTO</td>\n",
              "    </tr>\n",
              "    <tr>\n",
              "      <th>148</th>\n",
              "      <td>2001</td>\n",
              "      <td>SE</td>\n",
              "      <td>4899</td>\n",
              "      <td>151479</td>\n",
              "      <td>Yellow</td>\n",
              "      <td>AUTO</td>\n",
              "    </tr>\n",
              "    <tr>\n",
              "      <th>149</th>\n",
              "      <td>2000</td>\n",
              "      <td>SE</td>\n",
              "      <td>3800</td>\n",
              "      <td>109259</td>\n",
              "      <td>Red</td>\n",
              "      <td>AUTO</td>\n",
              "    </tr>\n",
              "  </tbody>\n",
              "</table>\n",
              "<p>150 rows × 6 columns</p>\n",
              "</div>"
            ],
            "text/plain": [
              "     year model  price  mileage   color transmission\n",
              "0    2011   SEL  21992     7413  Yellow         AUTO\n",
              "1    2011   SEL  20995    10926    Gray         AUTO\n",
              "2    2011   SEL  19995     7351  Silver         AUTO\n",
              "3    2011   SEL  17809    11613    Gray         AUTO\n",
              "4    2012    SE  17500     8367   White         AUTO\n",
              "..    ...   ...    ...      ...     ...          ...\n",
              "145  2006   SES   6200    95000  Silver         AUTO\n",
              "146  2002    SE   5995    87003     Red         AUTO\n",
              "147  2000    SE   5980    96841     Red         AUTO\n",
              "148  2001    SE   4899   151479  Yellow         AUTO\n",
              "149  2000    SE   3800   109259     Red         AUTO\n",
              "\n",
              "[150 rows x 6 columns]"
            ]
          },
          "metadata": {
            "tags": []
          },
          "execution_count": 49
        }
      ]
    },
    {
      "cell_type": "code",
      "metadata": {
        "id": "nX1zbyI75RMi",
        "colab": {
          "base_uri": "https://localhost:8080/"
        },
        "outputId": "1bd2537e-8865-41dd-af3c-a9e939288720"
      },
      "source": [
        "cars_data.isna().sum()"
      ],
      "execution_count": null,
      "outputs": [
        {
          "output_type": "execute_result",
          "data": {
            "text/plain": [
              "year            0\n",
              "model           0\n",
              "price           0\n",
              "mileage         0\n",
              "color           0\n",
              "transmission    0\n",
              "dtype: int64"
            ]
          },
          "metadata": {
            "tags": []
          },
          "execution_count": 50
        }
      ]
    },
    {
      "cell_type": "code",
      "metadata": {
        "id": "KuU03qQk1WfW",
        "colab": {
          "base_uri": "https://localhost:8080/",
          "height": 422
        },
        "outputId": "9253990b-c83c-490d-efd2-bd6cff23e48c"
      },
      "source": [
        "#just some basic preprocessing\n",
        "cars_data.drop_duplicates()\n",
        "#creating dummy variables for the categorical features\n",
        "cars_data = pd.get_dummies(cars_data)\n",
        "cars_data = cars_data.astype('float32') # we will need to convert the dataset to float in order to be able to convert it into tensors later.\n",
        "cars_data\n"
      ],
      "execution_count": null,
      "outputs": [
        {
          "output_type": "execute_result",
          "data": {
            "text/html": [
              "<div>\n",
              "<style scoped>\n",
              "    .dataframe tbody tr th:only-of-type {\n",
              "        vertical-align: middle;\n",
              "    }\n",
              "\n",
              "    .dataframe tbody tr th {\n",
              "        vertical-align: top;\n",
              "    }\n",
              "\n",
              "    .dataframe thead th {\n",
              "        text-align: right;\n",
              "    }\n",
              "</style>\n",
              "<table border=\"1\" class=\"dataframe\">\n",
              "  <thead>\n",
              "    <tr style=\"text-align: right;\">\n",
              "      <th></th>\n",
              "      <th>year</th>\n",
              "      <th>price</th>\n",
              "      <th>mileage</th>\n",
              "      <th>model_SE</th>\n",
              "      <th>model_SEL</th>\n",
              "      <th>model_SES</th>\n",
              "      <th>color_Black</th>\n",
              "      <th>color_Blue</th>\n",
              "      <th>color_Gold</th>\n",
              "      <th>color_Gray</th>\n",
              "      <th>color_Green</th>\n",
              "      <th>color_Red</th>\n",
              "      <th>color_Silver</th>\n",
              "      <th>color_White</th>\n",
              "      <th>color_Yellow</th>\n",
              "      <th>transmission_AUTO</th>\n",
              "      <th>transmission_MANUAL</th>\n",
              "    </tr>\n",
              "  </thead>\n",
              "  <tbody>\n",
              "    <tr>\n",
              "      <th>0</th>\n",
              "      <td>2011.0</td>\n",
              "      <td>21992.0</td>\n",
              "      <td>7413.0</td>\n",
              "      <td>0.0</td>\n",
              "      <td>1.0</td>\n",
              "      <td>0.0</td>\n",
              "      <td>0.0</td>\n",
              "      <td>0.0</td>\n",
              "      <td>0.0</td>\n",
              "      <td>0.0</td>\n",
              "      <td>0.0</td>\n",
              "      <td>0.0</td>\n",
              "      <td>0.0</td>\n",
              "      <td>0.0</td>\n",
              "      <td>1.0</td>\n",
              "      <td>1.0</td>\n",
              "      <td>0.0</td>\n",
              "    </tr>\n",
              "    <tr>\n",
              "      <th>1</th>\n",
              "      <td>2011.0</td>\n",
              "      <td>20995.0</td>\n",
              "      <td>10926.0</td>\n",
              "      <td>0.0</td>\n",
              "      <td>1.0</td>\n",
              "      <td>0.0</td>\n",
              "      <td>0.0</td>\n",
              "      <td>0.0</td>\n",
              "      <td>0.0</td>\n",
              "      <td>1.0</td>\n",
              "      <td>0.0</td>\n",
              "      <td>0.0</td>\n",
              "      <td>0.0</td>\n",
              "      <td>0.0</td>\n",
              "      <td>0.0</td>\n",
              "      <td>1.0</td>\n",
              "      <td>0.0</td>\n",
              "    </tr>\n",
              "    <tr>\n",
              "      <th>2</th>\n",
              "      <td>2011.0</td>\n",
              "      <td>19995.0</td>\n",
              "      <td>7351.0</td>\n",
              "      <td>0.0</td>\n",
              "      <td>1.0</td>\n",
              "      <td>0.0</td>\n",
              "      <td>0.0</td>\n",
              "      <td>0.0</td>\n",
              "      <td>0.0</td>\n",
              "      <td>0.0</td>\n",
              "      <td>0.0</td>\n",
              "      <td>0.0</td>\n",
              "      <td>1.0</td>\n",
              "      <td>0.0</td>\n",
              "      <td>0.0</td>\n",
              "      <td>1.0</td>\n",
              "      <td>0.0</td>\n",
              "    </tr>\n",
              "    <tr>\n",
              "      <th>3</th>\n",
              "      <td>2011.0</td>\n",
              "      <td>17809.0</td>\n",
              "      <td>11613.0</td>\n",
              "      <td>0.0</td>\n",
              "      <td>1.0</td>\n",
              "      <td>0.0</td>\n",
              "      <td>0.0</td>\n",
              "      <td>0.0</td>\n",
              "      <td>0.0</td>\n",
              "      <td>1.0</td>\n",
              "      <td>0.0</td>\n",
              "      <td>0.0</td>\n",
              "      <td>0.0</td>\n",
              "      <td>0.0</td>\n",
              "      <td>0.0</td>\n",
              "      <td>1.0</td>\n",
              "      <td>0.0</td>\n",
              "    </tr>\n",
              "    <tr>\n",
              "      <th>4</th>\n",
              "      <td>2012.0</td>\n",
              "      <td>17500.0</td>\n",
              "      <td>8367.0</td>\n",
              "      <td>1.0</td>\n",
              "      <td>0.0</td>\n",
              "      <td>0.0</td>\n",
              "      <td>0.0</td>\n",
              "      <td>0.0</td>\n",
              "      <td>0.0</td>\n",
              "      <td>0.0</td>\n",
              "      <td>0.0</td>\n",
              "      <td>0.0</td>\n",
              "      <td>0.0</td>\n",
              "      <td>1.0</td>\n",
              "      <td>0.0</td>\n",
              "      <td>1.0</td>\n",
              "      <td>0.0</td>\n",
              "    </tr>\n",
              "    <tr>\n",
              "      <th>...</th>\n",
              "      <td>...</td>\n",
              "      <td>...</td>\n",
              "      <td>...</td>\n",
              "      <td>...</td>\n",
              "      <td>...</td>\n",
              "      <td>...</td>\n",
              "      <td>...</td>\n",
              "      <td>...</td>\n",
              "      <td>...</td>\n",
              "      <td>...</td>\n",
              "      <td>...</td>\n",
              "      <td>...</td>\n",
              "      <td>...</td>\n",
              "      <td>...</td>\n",
              "      <td>...</td>\n",
              "      <td>...</td>\n",
              "      <td>...</td>\n",
              "    </tr>\n",
              "    <tr>\n",
              "      <th>145</th>\n",
              "      <td>2006.0</td>\n",
              "      <td>6200.0</td>\n",
              "      <td>95000.0</td>\n",
              "      <td>0.0</td>\n",
              "      <td>0.0</td>\n",
              "      <td>1.0</td>\n",
              "      <td>0.0</td>\n",
              "      <td>0.0</td>\n",
              "      <td>0.0</td>\n",
              "      <td>0.0</td>\n",
              "      <td>0.0</td>\n",
              "      <td>0.0</td>\n",
              "      <td>1.0</td>\n",
              "      <td>0.0</td>\n",
              "      <td>0.0</td>\n",
              "      <td>1.0</td>\n",
              "      <td>0.0</td>\n",
              "    </tr>\n",
              "    <tr>\n",
              "      <th>146</th>\n",
              "      <td>2002.0</td>\n",
              "      <td>5995.0</td>\n",
              "      <td>87003.0</td>\n",
              "      <td>1.0</td>\n",
              "      <td>0.0</td>\n",
              "      <td>0.0</td>\n",
              "      <td>0.0</td>\n",
              "      <td>0.0</td>\n",
              "      <td>0.0</td>\n",
              "      <td>0.0</td>\n",
              "      <td>0.0</td>\n",
              "      <td>1.0</td>\n",
              "      <td>0.0</td>\n",
              "      <td>0.0</td>\n",
              "      <td>0.0</td>\n",
              "      <td>1.0</td>\n",
              "      <td>0.0</td>\n",
              "    </tr>\n",
              "    <tr>\n",
              "      <th>147</th>\n",
              "      <td>2000.0</td>\n",
              "      <td>5980.0</td>\n",
              "      <td>96841.0</td>\n",
              "      <td>1.0</td>\n",
              "      <td>0.0</td>\n",
              "      <td>0.0</td>\n",
              "      <td>0.0</td>\n",
              "      <td>0.0</td>\n",
              "      <td>0.0</td>\n",
              "      <td>0.0</td>\n",
              "      <td>0.0</td>\n",
              "      <td>1.0</td>\n",
              "      <td>0.0</td>\n",
              "      <td>0.0</td>\n",
              "      <td>0.0</td>\n",
              "      <td>1.0</td>\n",
              "      <td>0.0</td>\n",
              "    </tr>\n",
              "    <tr>\n",
              "      <th>148</th>\n",
              "      <td>2001.0</td>\n",
              "      <td>4899.0</td>\n",
              "      <td>151479.0</td>\n",
              "      <td>1.0</td>\n",
              "      <td>0.0</td>\n",
              "      <td>0.0</td>\n",
              "      <td>0.0</td>\n",
              "      <td>0.0</td>\n",
              "      <td>0.0</td>\n",
              "      <td>0.0</td>\n",
              "      <td>0.0</td>\n",
              "      <td>0.0</td>\n",
              "      <td>0.0</td>\n",
              "      <td>0.0</td>\n",
              "      <td>1.0</td>\n",
              "      <td>1.0</td>\n",
              "      <td>0.0</td>\n",
              "    </tr>\n",
              "    <tr>\n",
              "      <th>149</th>\n",
              "      <td>2000.0</td>\n",
              "      <td>3800.0</td>\n",
              "      <td>109259.0</td>\n",
              "      <td>1.0</td>\n",
              "      <td>0.0</td>\n",
              "      <td>0.0</td>\n",
              "      <td>0.0</td>\n",
              "      <td>0.0</td>\n",
              "      <td>0.0</td>\n",
              "      <td>0.0</td>\n",
              "      <td>0.0</td>\n",
              "      <td>1.0</td>\n",
              "      <td>0.0</td>\n",
              "      <td>0.0</td>\n",
              "      <td>0.0</td>\n",
              "      <td>1.0</td>\n",
              "      <td>0.0</td>\n",
              "    </tr>\n",
              "  </tbody>\n",
              "</table>\n",
              "<p>150 rows × 17 columns</p>\n",
              "</div>"
            ],
            "text/plain": [
              "       year    price  ...  transmission_AUTO  transmission_MANUAL\n",
              "0    2011.0  21992.0  ...                1.0                  0.0\n",
              "1    2011.0  20995.0  ...                1.0                  0.0\n",
              "2    2011.0  19995.0  ...                1.0                  0.0\n",
              "3    2011.0  17809.0  ...                1.0                  0.0\n",
              "4    2012.0  17500.0  ...                1.0                  0.0\n",
              "..      ...      ...  ...                ...                  ...\n",
              "145  2006.0   6200.0  ...                1.0                  0.0\n",
              "146  2002.0   5995.0  ...                1.0                  0.0\n",
              "147  2000.0   5980.0  ...                1.0                  0.0\n",
              "148  2001.0   4899.0  ...                1.0                  0.0\n",
              "149  2000.0   3800.0  ...                1.0                  0.0\n",
              "\n",
              "[150 rows x 17 columns]"
            ]
          },
          "metadata": {
            "tags": []
          },
          "execution_count": 51
        }
      ]
    },
    {
      "cell_type": "code",
      "metadata": {
        "id": "y4YBIUaZ5zG4",
        "colab": {
          "base_uri": "https://localhost:8080/"
        },
        "outputId": "79250527-1204-418a-e019-d1803dbd9400"
      },
      "source": [
        "#explorinfg column names\n",
        "cars_data.columns"
      ],
      "execution_count": null,
      "outputs": [
        {
          "output_type": "execute_result",
          "data": {
            "text/plain": [
              "Index(['year', 'price', 'mileage', 'model_SE', 'model_SEL', 'model_SES',\n",
              "       'color_Black', 'color_Blue', 'color_Gold', 'color_Gray', 'color_Green',\n",
              "       'color_Red', 'color_Silver', 'color_White', 'color_Yellow',\n",
              "       'transmission_AUTO', 'transmission_MANUAL'],\n",
              "      dtype='object')"
            ]
          },
          "metadata": {
            "tags": []
          },
          "execution_count": 52
        }
      ]
    },
    {
      "cell_type": "code",
      "metadata": {
        "id": "xhihQaPY6LfN",
        "colab": {
          "base_uri": "https://localhost:8080/"
        },
        "outputId": "445a71fe-a2e5-4783-a076-9e5fa9c9a4c6"
      },
      "source": [
        "#getting the features and labels and finally splitting the test and train data.\n",
        "from sklearn.model_selection import train_test_split\n",
        "X = cars_data[['year','mileage', 'model_SE', 'model_SEL', 'model_SES',\n",
        "       'color_Black', 'color_Blue', 'color_Gold', 'color_Gray', 'color_Green',\n",
        "       'color_Red', 'color_Silver', 'color_White', 'color_Yellow',\n",
        "       'transmission_AUTO', 'transmission_MANUAL']]\n",
        "Y = cars_data['price']\n",
        "\n",
        "X_train, X_test, y_train, y_test = train_test_split(X, Y, test_size=0.20, random_state=1)\n",
        "\n",
        "#let us scale the data as features are on different scales which might be a problem while modelling\n",
        "from sklearn import preprocessing\n",
        "scaler = preprocessing.MinMaxScaler()\n",
        "# MinMaxScalar has been used here. You can go ahead and use the other scalars available and chcek the effect on the results.\n",
        "#fitting the transform on test and train separately\n",
        "X_train = scaler.fit_transform(X_train)\n",
        "X_test = scaler.transform(X_test)\n",
        "X_train"
      ],
      "execution_count": null,
      "outputs": [
        {
          "output_type": "execute_result",
          "data": {
            "text/plain": [
              "array([[0.75      , 0.27928138, 0.        , ..., 0.        , 1.        ,\n",
              "        0.        ],\n",
              "       [0.58332825, 0.5233474 , 0.        , ..., 1.        , 0.        ,\n",
              "        1.        ],\n",
              "       [0.75      , 0.21721278, 1.        , ..., 0.        , 1.        ,\n",
              "        0.        ],\n",
              "       ...,\n",
              "       [0.83332825, 0.20944397, 0.        , ..., 0.        , 1.        ,\n",
              "        0.        ],\n",
              "       [0.33332825, 0.6878496 , 1.        , ..., 0.        , 1.        ,\n",
              "        0.        ],\n",
              "       [0.83332825, 0.2253431 , 1.        , ..., 0.        , 1.        ,\n",
              "        0.        ]], dtype=float32)"
            ]
          },
          "metadata": {
            "tags": []
          },
          "execution_count": 53
        }
      ]
    },
    {
      "cell_type": "code",
      "metadata": {
        "id": "PHjzg7vF5z0T"
      },
      "source": [
        "\n",
        "# let us now convert the data elements into tensors as we need tensors to be fed into different tensorflow based operations\n",
        "#X-train and X_test were converted to numpy arrays while transformations while the other two need to be transformed into numpy arrays.\n",
        "X_train=tf.convert_to_tensor(X_train)\n",
        "y_train=tf.convert_to_tensor(y_train.values)\n",
        "X_test=tf.convert_to_tensor(X_test)\n",
        "y_test=tf.convert_to_tensor(y_test.values)"
      ],
      "execution_count": null,
      "outputs": []
    },
    {
      "cell_type": "code",
      "metadata": {
        "id": "6ZEQAKqs66EO",
        "colab": {
          "base_uri": "https://localhost:8080/"
        },
        "outputId": "9e68f800-4581-47d9-fab7-35a77f29d1de"
      },
      "source": [
        "X_train.shape"
      ],
      "execution_count": null,
      "outputs": [
        {
          "output_type": "execute_result",
          "data": {
            "text/plain": [
              "TensorShape([120, 16])"
            ]
          },
          "metadata": {
            "tags": []
          },
          "execution_count": 55
        }
      ]
    },
    {
      "cell_type": "markdown",
      "metadata": {
        "id": "mecQN830IGb9"
      },
      "source": [
        "#### Let us try modelling now. We will use a few concepts covered in the practice exercise shared with the course material."
      ]
    },
    {
      "cell_type": "code",
      "metadata": {
        "id": "CqBpVhdjMnC4"
      },
      "source": [
        "input_dim = X_train.shape[1]\r\n",
        "output_dim = 1\r\n",
        "learning_rate = 0.01\r\n",
        "# Decay with learning rate; "
      ],
      "execution_count": null,
      "outputs": []
    },
    {
      "cell_type": "code",
      "metadata": {
        "colab": {
          "base_uri": "https://localhost:8080/"
        },
        "id": "ZpazO2rzNOCc",
        "outputId": "d8863a04-ef50-4d3a-ff25-300862762547"
      },
      "source": [
        "# Let us initialize the weights and bias variables. \r\n",
        "#weights = tf.Variable(tf.zeros(shape=(input_dim, output_dim), dtype= tf.float32))\r\n",
        "weights = tf.Variable(tf.random.normal([16,1], 0, 1, tf.float32, seed=1))\r\n",
        "weights\r\n",
        "# Initialize weights"
      ],
      "execution_count": null,
      "outputs": [
        {
          "output_type": "execute_result",
          "data": {
            "text/plain": [
              "<tf.Variable 'Variable:0' shape=(16, 1) dtype=float32, numpy=\n",
              "array([[-0.8113182 ],\n",
              "       [ 1.4845988 ],\n",
              "       [ 0.06532937],\n",
              "       [-2.4427042 ],\n",
              "       [ 0.0992484 ],\n",
              "       [ 0.5912243 ],\n",
              "       [ 0.59282297],\n",
              "       [-2.1229296 ],\n",
              "       [-0.72289723],\n",
              "       [-0.05627037],\n",
              "       [ 0.6435448 ],\n",
              "       [-0.26432407],\n",
              "       [ 1.8566332 ],\n",
              "       [ 0.5678417 ],\n",
              "       [-0.3828359 ],\n",
              "       [-1.4853433 ]], dtype=float32)>"
            ]
          },
          "metadata": {
            "tags": []
          },
          "execution_count": 29
        }
      ]
    },
    {
      "cell_type": "code",
      "metadata": {
        "colab": {
          "base_uri": "https://localhost:8080/"
        },
        "id": "-LDIwrIiNWjz",
        "outputId": "901fc063-c164-4a31-fce3-1bc319bddccc"
      },
      "source": [
        "bias = tf.Variable(tf.random.uniform(shape=(output_dim,), dtype= tf.float32, minval=5, maxval=10))\r\n",
        "#bias = tf.Variable(tf.ones(shape=(output_dim,), dtype= tf.float32))\r\n",
        "bias.shape"
      ],
      "execution_count": null,
      "outputs": [
        {
          "output_type": "execute_result",
          "data": {
            "text/plain": [
              "TensorShape([1])"
            ]
          },
          "metadata": {
            "tags": []
          },
          "execution_count": 56
        }
      ]
    },
    {
      "cell_type": "code",
      "metadata": {
        "id": "UppDNwFpNwUN"
      },
      "source": [
        "def predict(features):\r\n",
        "  return tf.matmul(features, weights) + bias # note that the matmul is matrix multiplication and is needed for calculating predictions\r\n",
        "# mx + b"
      ],
      "execution_count": null,
      "outputs": []
    },
    {
      "cell_type": "code",
      "metadata": {
        "id": "6IXaWZPGN6l7"
      },
      "source": [
        "def compute_loss(y_true, predictions):\r\n",
        "  return tf.reduce_mean(tf.square(y_true - predictions)) # mean square error\r\n",
        "# mean of values, reduce to single value, \r\n",
        "# Loss - (y - y')^2"
      ],
      "execution_count": null,
      "outputs": []
    },
    {
      "cell_type": "code",
      "metadata": {
        "colab": {
          "base_uri": "https://localhost:8080/"
        },
        "id": "1f9jS3qMTUIq",
        "outputId": "4386bcaf-1b4f-40ee-a40a-1aa8467cee7b"
      },
      "source": [
        "x = tf.Variable(3.0, trainable=True)\r\n",
        "x"
      ],
      "execution_count": null,
      "outputs": [
        {
          "output_type": "execute_result",
          "data": {
            "text/plain": [
              "<tf.Variable 'Variable:0' shape=() dtype=float32, numpy=3.0>"
            ]
          },
          "metadata": {
            "tags": []
          },
          "execution_count": 34
        }
      ]
    },
    {
      "cell_type": "code",
      "metadata": {
        "colab": {
          "base_uri": "https://localhost:8080/"
        },
        "id": "Urz5kBAiTVJS",
        "outputId": "18cee8c6-c928-4153-bf3e-61a39dcce509"
      },
      "source": [
        "# Example use case for Gradient Tape\r\n",
        "with tf.GradientTape() as tape1:\r\n",
        "    with tf.GradientTape() as tape2:\r\n",
        "        y = x ** 3\r\n",
        "    order_1 = tape2.gradient(y, x)\r\n",
        "order_2 = tape1.gradient(order_1, x)\r\n",
        "\r\n",
        "print(order_2.numpy()) # -> 18.0"
      ],
      "execution_count": null,
      "outputs": [
        {
          "output_type": "stream",
          "text": [
            "18.0\n"
          ],
          "name": "stdout"
        }
      ]
    },
    {
      "cell_type": "code",
      "metadata": {
        "id": "Uhitqoj2FH8U"
      },
      "source": [
        "def train(x, y):\n",
        "  with tf.GradientTape() as tape:  # Keep track of operations on Forward Prop\n",
        "    predictions = predict(x)  # Make predictions \n",
        "    loss = compute_loss(y, predictions) # Calculate Loss Function\n",
        "  dloss_dw, dloss_db = tape.gradient(loss, [weights, bias]) #note that we can pass lists as well here. Calculate gradients for back propogation\n",
        "  weights.assign_sub(learning_rate * dloss_dw) # update weights by learning rate * derivative of Loss Functions based on Chain Differentiation\n",
        "  bias.assign_sub(learning_rate * dloss_db) # update bias by learning rate * derivative of loss functions based on Chain Differentiation\n",
        "  return loss\n",
        "# Single NN with 16 inputs"
      ],
      "execution_count": null,
      "outputs": []
    },
    {
      "cell_type": "markdown",
      "metadata": {
        "id": "pcVzQimxJJe2"
      },
      "source": [
        "#### Let us now, call the train function with 50 epochs"
      ]
    },
    {
      "cell_type": "code",
      "metadata": {
        "id": "rWFBawhVoM4j",
        "colab": {
          "base_uri": "https://localhost:8080/"
        },
        "outputId": "b6966b9b-8af3-441b-eef2-9f68fc922013"
      },
      "source": [
        "for epoch in range(100):\n",
        "  loss = train(X_train, y_train)\n",
        "  print('Epoch %d: Loss = %.4f' % (epoch, float(loss)))\n",
        "\n",
        "\n",
        "print('Final Weights after 50 epochs:')\n",
        "print('###############################################################################')\n",
        "print(weights)\n",
        "\n",
        "print('Final Bias after 50 epochs:')\n",
        "print('###############################################################################')\n",
        "print(bias)\n",
        "# With epochs loss goes down "
      ],
      "execution_count": null,
      "outputs": [
        {
          "output_type": "stream",
          "text": [
            "Epoch 0: Loss = 36487204.0000\n",
            "Epoch 1: Loss = 33786920.0000\n",
            "Epoch 2: Loss = 31393374.0000\n",
            "Epoch 3: Loss = 29271532.0000\n",
            "Epoch 4: Loss = 27390370.0000\n",
            "Epoch 5: Loss = 25722406.0000\n",
            "Epoch 6: Loss = 24243304.0000\n",
            "Epoch 7: Loss = 22931492.0000\n",
            "Epoch 8: Loss = 21767880.0000\n",
            "Epoch 9: Loss = 20735550.0000\n",
            "Epoch 10: Loss = 19819510.0000\n",
            "Epoch 11: Loss = 19006496.0000\n",
            "Epoch 12: Loss = 18284748.0000\n",
            "Epoch 13: Loss = 17643856.0000\n",
            "Epoch 14: Loss = 17074590.0000\n",
            "Epoch 15: Loss = 16568784.0000\n",
            "Epoch 16: Loss = 16119196.0000\n",
            "Epoch 17: Loss = 15719424.0000\n",
            "Epoch 18: Loss = 15363782.0000\n",
            "Epoch 19: Loss = 15047244.0000\n",
            "Epoch 20: Loss = 14765354.0000\n",
            "Epoch 21: Loss = 14514165.0000\n",
            "Epoch 22: Loss = 14290184.0000\n",
            "Epoch 23: Loss = 14090311.0000\n",
            "Epoch 24: Loss = 13911807.0000\n",
            "Epoch 25: Loss = 13752238.0000\n",
            "Epoch 26: Loss = 13609458.0000\n",
            "Epoch 27: Loss = 13481556.0000\n",
            "Epoch 28: Loss = 13366845.0000\n",
            "Epoch 29: Loss = 13263826.0000\n",
            "Epoch 30: Loss = 13171181.0000\n",
            "Epoch 31: Loss = 13087730.0000\n",
            "Epoch 32: Loss = 13012437.0000\n",
            "Epoch 33: Loss = 12944377.0000\n",
            "Epoch 34: Loss = 12882738.0000\n",
            "Epoch 35: Loss = 12826797.0000\n",
            "Epoch 36: Loss = 12775910.0000\n",
            "Epoch 37: Loss = 12729514.0000\n",
            "Epoch 38: Loss = 12687103.0000\n",
            "Epoch 39: Loss = 12648234.0000\n",
            "Epoch 40: Loss = 12612512.0000\n",
            "Epoch 41: Loss = 12579586.0000\n",
            "Epoch 42: Loss = 12549151.0000\n",
            "Epoch 43: Loss = 12520928.0000\n",
            "Epoch 44: Loss = 12494674.0000\n",
            "Epoch 45: Loss = 12470176.0000\n",
            "Epoch 46: Loss = 12447242.0000\n",
            "Epoch 47: Loss = 12425704.0000\n",
            "Epoch 48: Loss = 12405412.0000\n",
            "Epoch 49: Loss = 12386229.0000\n",
            "Epoch 50: Loss = 12368043.0000\n",
            "Epoch 51: Loss = 12350746.0000\n",
            "Epoch 52: Loss = 12334248.0000\n",
            "Epoch 53: Loss = 12318464.0000\n",
            "Epoch 54: Loss = 12303324.0000\n",
            "Epoch 55: Loss = 12288761.0000\n",
            "Epoch 56: Loss = 12274720.0000\n",
            "Epoch 57: Loss = 12261148.0000\n",
            "Epoch 58: Loss = 12248004.0000\n",
            "Epoch 59: Loss = 12235244.0000\n",
            "Epoch 60: Loss = 12222832.0000\n",
            "Epoch 61: Loss = 12210740.0000\n",
            "Epoch 62: Loss = 12198939.0000\n",
            "Epoch 63: Loss = 12187402.0000\n",
            "Epoch 64: Loss = 12176110.0000\n",
            "Epoch 65: Loss = 12165040.0000\n",
            "Epoch 66: Loss = 12154179.0000\n",
            "Epoch 67: Loss = 12143509.0000\n",
            "Epoch 68: Loss = 12133014.0000\n",
            "Epoch 69: Loss = 12122685.0000\n",
            "Epoch 70: Loss = 12112509.0000\n",
            "Epoch 71: Loss = 12102479.0000\n",
            "Epoch 72: Loss = 12092583.0000\n",
            "Epoch 73: Loss = 12082815.0000\n",
            "Epoch 74: Loss = 12073168.0000\n",
            "Epoch 75: Loss = 12063635.0000\n",
            "Epoch 76: Loss = 12054212.0000\n",
            "Epoch 77: Loss = 12044891.0000\n",
            "Epoch 78: Loss = 12035669.0000\n",
            "Epoch 79: Loss = 12026543.0000\n",
            "Epoch 80: Loss = 12017509.0000\n",
            "Epoch 81: Loss = 12008563.0000\n",
            "Epoch 82: Loss = 11999703.0000\n",
            "Epoch 83: Loss = 11990925.0000\n",
            "Epoch 84: Loss = 11982228.0000\n",
            "Epoch 85: Loss = 11973608.0000\n",
            "Epoch 86: Loss = 11965066.0000\n",
            "Epoch 87: Loss = 11956596.0000\n",
            "Epoch 88: Loss = 11948200.0000\n",
            "Epoch 89: Loss = 11939874.0000\n",
            "Epoch 90: Loss = 11931616.0000\n",
            "Epoch 91: Loss = 11923429.0000\n",
            "Epoch 92: Loss = 11915307.0000\n",
            "Epoch 93: Loss = 11907253.0000\n",
            "Epoch 94: Loss = 11899262.0000\n",
            "Epoch 95: Loss = 11891335.0000\n",
            "Epoch 96: Loss = 11883472.0000\n",
            "Epoch 97: Loss = 11875669.0000\n",
            "Epoch 98: Loss = 11867928.0000\n",
            "Epoch 99: Loss = 11860247.0000\n",
            "Final Weights after 50 epochs:\n",
            "###############################################################################\n",
            "<tf.Variable 'Variable:0' shape=(16, 1) dtype=float32, numpy=\n",
            "array([[4216.5435 ],\n",
            "       [1786.6874 ],\n",
            "       [2779.757  ],\n",
            "       [1087.8406 ],\n",
            "       [2301.1504 ],\n",
            "       [1134.8771 ],\n",
            "       [ 717.28644],\n",
            "       [  47.20332],\n",
            "       [ 778.32947],\n",
            "       [ 373.01968],\n",
            "       [1008.3721 ],\n",
            "       [1189.4036 ],\n",
            "       [ 642.0655 ],\n",
            "       [ 281.5527 ],\n",
            "       [4374.6777 ],\n",
            "       [1794.4791 ]], dtype=float32)>\n",
            "Final Bias after 50 epochs:\n",
            "###############################################################################\n",
            "<tf.Variable 'Variable:0' shape=(1,) dtype=float32, numpy=array([1924.3616], dtype=float32)>\n"
          ],
          "name": "stdout"
        }
      ]
    },
    {
      "cell_type": "markdown",
      "metadata": {
        "id": "bdgve0a7Jwwq"
      },
      "source": [
        "#### Let us now test our model on the test data and predict on the test data."
      ]
    },
    {
      "cell_type": "code",
      "metadata": {
        "id": "zyXnEJiyqNjv",
        "colab": {
          "base_uri": "https://localhost:8080/"
        },
        "outputId": "28342808-5272-403d-f622-012d5edd4e2b"
      },
      "source": [
        "test_predictions = tf.matmul(X_test, weights) + bias\n",
        "print(compute_loss(y_test, test_predictions))"
      ],
      "execution_count": null,
      "outputs": [
        {
          "output_type": "stream",
          "text": [
            "tf.Tensor(8548509.0, shape=(), dtype=float32)\n"
          ],
          "name": "stdout"
        }
      ]
    },
    {
      "cell_type": "markdown",
      "metadata": {
        "id": "X8xCBIesKGbY"
      },
      "source": [
        "We learnt creating a very simple linear regression model on cars data and predicted prices. \n",
        "\n",
        "Though, we could have done an extensive EDA and further improved the model but we have focused on tensorflow and its operations.\n",
        "\n",
        "<i>Happy Learning!</i>"
      ]
    },
    {
      "cell_type": "code",
      "metadata": {
        "id": "sg2fMzpQSXEr"
      },
      "source": [
        "### Use Tensflow Keras to run a Simple Model"
      ],
      "execution_count": 1,
      "outputs": []
    },
    {
      "cell_type": "code",
      "metadata": {
        "id": "Q-bgyKhgQf2j"
      },
      "source": [
        "from tensorflow.keras import Sequential\r\n",
        "from tensorflow.keras import layers\r\n",
        "from tensorflow.keras.layers import Dense\r\n",
        "\r\n",
        "ncols = X_train.shape[1]\r\n",
        "\r\n",
        "# Initialize the constructor\r\n",
        "model = Sequential()\r\n",
        "model.add(Dense(16, input_dim=ncols, activation='relu'))\r\n",
        "# Add an first hidden layer \r\n",
        "model.add(Dense(20, activation='relu', kernel_initializer='normal'))\r\n",
        "\r\n",
        "# Add an output layer with one neuron and no activation specified\r\n",
        "model.add(Dense(1))\r\n",
        "\r\n",
        "optimizer = tf.keras.optimizers.Adam(0.01)\r\n",
        "\r\n",
        "\r\n",
        "model.compile(loss='mean_squared_error',\r\n",
        "              optimizer=optimizer , metrics = ['mae' , 'mse'])\r\n",
        "                   \r\n",
        "\r\n",
        "epochs = 100\r\n",
        "# NN with Input layer and hidden layer with 20 neurons"
      ],
      "execution_count": null,
      "outputs": []
    },
    {
      "cell_type": "code",
      "metadata": {
        "id": "tRwEiu6pQr0s"
      },
      "source": [
        "history = model.fit(X_train, y_train, epochs=epochs, validation_split = 0.2, verbose = False)\r\n",
        "\r\n",
        "hist  = pd.DataFrame(history.history)\r\n",
        "hist['epoch'] = history.epoch"
      ],
      "execution_count": null,
      "outputs": []
    },
    {
      "cell_type": "code",
      "metadata": {
        "colab": {
          "base_uri": "https://localhost:8080/",
          "height": 293
        },
        "id": "Ybbfg3x9Qst9",
        "outputId": "c00e97a0-515a-49ef-ff17-476f55ef8240"
      },
      "source": [
        "import matplotlib.pyplot as plt\r\n",
        "\r\n",
        "plt.plot(hist['mse'])\r\n",
        "plt.plot(hist['val_mse'])\r\n",
        "plt.legend((\"train\" , \"valid\") , loc =0)"
      ],
      "execution_count": null,
      "outputs": [
        {
          "output_type": "execute_result",
          "data": {
            "text/plain": [
              "<matplotlib.legend.Legend at 0x7fd5f6e48dd8>"
            ]
          },
          "metadata": {
            "tags": []
          },
          "execution_count": 63
        },
        {
          "output_type": "display_data",
          "data": {
            "image/png": "[encoded data removed]",
            "text/plain": [
              "<Figure size 432x288 with 1 Axes>"
            ]
          },
          "metadata": {
            "tags": [],
            "needs_background": "light"
          }
        }
      ]
    },
    {
      "cell_type": "code",
      "metadata": {
        "colab": {
          "base_uri": "https://localhost:8080/",
          "height": 284
        },
        "id": "IJwiMr_TQtNT",
        "outputId": "f71d90a3-487b-4556-c83e-8827f3796e59"
      },
      "source": [
        "plt.plot(hist['mae'])\r\n",
        "plt.plot(hist['val_mae'])\r\n",
        "plt.legend((\"train\" , \"valid\") , loc =0)"
      ],
      "execution_count": null,
      "outputs": [
        {
          "output_type": "execute_result",
          "data": {
            "text/plain": [
              "<matplotlib.legend.Legend at 0x7fd60021da58>"
            ]
          },
          "metadata": {
            "tags": []
          },
          "execution_count": 64
        },
        {
          "output_type": "display_data",
          "data": {
            "image/png": "[encoded data removed]",
            "text/plain": [
              "<Figure size 432x288 with 1 Axes>"
            ]
          },
          "metadata": {
            "tags": [],
            "needs_background": "light"
          }
        }
      ]
    },
    {
      "cell_type": "code",
      "metadata": {
        "id": "F1OhbLcqQyS6"
      },
      "source": [
        "loss = model.evaluate(X_test, y_test, verbose=False)"
      ],
      "execution_count": null,
      "outputs": []
    },
    {
      "cell_type": "code",
      "metadata": {
        "id": "MAyqOzeRQypi"
      },
      "source": [
        "y_pred = np.round(model.predict(X_test))"
      ],
      "execution_count": null,
      "outputs": []
    },
    {
      "cell_type": "code",
      "metadata": {
        "colab": {
          "base_uri": "https://localhost:8080/",
          "height": 284
        },
        "id": "3WdwPMfaQ0zs",
        "outputId": "40d3b787-4115-4bc8-d897-6656589d6daa"
      },
      "source": [
        "import matplotlib.pyplot as plt\r\n",
        "plt.scatter(y_test, y_pred)"
      ],
      "execution_count": null,
      "outputs": [
        {
          "output_type": "execute_result",
          "data": {
            "text/plain": [
              "<matplotlib.collections.PathCollection at 0x7fd5fbfc59b0>"
            ]
          },
          "metadata": {
            "tags": []
          },
          "execution_count": 68
        },
        {
          "output_type": "display_data",
          "data": {
            "image/png": "[encoded data removed]",
            "text/plain": [
              "<Figure size 432x288 with 1 Axes>"
            ]
          },
          "metadata": {
            "tags": [],
            "needs_background": "light"
          }
        }
      ]
    }
  ]
}