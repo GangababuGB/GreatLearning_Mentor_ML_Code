{
  "nbformat": 4,
  "nbformat_minor": 0,
  "metadata": {
    "colab": {
      "name": "MLS_week_2_NLP_Sahil.ipynb",
      "provenance": [],
      "collapsed_sections": [],
      "machine_shape": "hm"
    },
    "kernelspec": {
      "name": "python3",
      "display_name": "Python 3"
    },
    "accelerator": "GPU"
  },
  "cells": [
    {
      "cell_type": "markdown",
      "metadata": {
        "id": "IshOqZNB6POh"
      },
      "source": [
        "# MLS Case Study: Amazon Fine Food Reviews\n"
      ]
    },
    {
      "cell_type": "markdown",
      "metadata": {
        "id": "N4Eouxvz5Rb3"
      },
      "source": [
        "## **Context:**\n",
        "\n",
        "- This dataset consists of reviews of fine foods from amazon.\n",
        "- The data span a period of more than 10 years, including all ~500,000 reviews up to October 2012. Reviews include a plain text review.\n",
        "- It also includes reviews from all other Amazon categories."
      ]
    },
    {
      "cell_type": "markdown",
      "metadata": {
        "id": "jaP-CPyF5Ndl"
      },
      "source": [
        "#### The purpose of this analysis is to make up a prediction model where we will be able to predict whether a recommendation is positive or negative. In this analysis, we will focus the positive/negative sentiment of the recommendation.\n",
        "\n"
      ]
    },
    {
      "cell_type": "code",
      "metadata": {
        "id": "ZjnXaaLV5Qff",
        "colab": {
          "base_uri": "https://localhost:8080/"
        },
        "outputId": "e52e22a5-db98-4ef1-9b15-6dce14849639"
      },
      "source": [
        "# install and import necessary libraries.\n",
        "\n",
        "!pip install contractions\n",
        "\n",
        "import re, string, unicodedata                          # Import Regex, string and unicodedata.\n",
        "import contractions                                     # Import contractions library.\n",
        "from bs4 import BeautifulSoup                           # Import BeautifulSoup.\n",
        "\n",
        "import numpy as np                                      # Import numpy.\n",
        "import pandas as pd                                     # Import pandas.\n",
        "import nltk                                             # Import Natural Language Tool-Kit.\n",
        "\n",
        "nltk.download('stopwords')                              # Download Stopwords.\n",
        "nltk.download('punkt')\n",
        "nltk.download('wordnet')\n",
        "\n",
        "from nltk.corpus import stopwords                       # Import stopwords.\n",
        "from nltk.tokenize import word_tokenize, sent_tokenize  # Import Tokenizer.\n",
        "from nltk.stem.wordnet import WordNetLemmatizer         # Import Lemmatizer."
      ],
      "execution_count": 3,
      "outputs": [
        {
          "output_type": "stream",
          "text": [
            "Collecting contractions\n",
            "  Downloading https://files.pythonhosted.org/packages/0a/04/d5e0bb9f2cef5d15616ebf68087a725c5dbdd71bd422bcfb35d709f98ce7/contractions-0.0.48-py2.py3-none-any.whl\n",
            "Collecting textsearch>=0.0.21\n",
            "  Downloading https://files.pythonhosted.org/packages/d3/fe/021d7d76961b5ceb9f8d022c4138461d83beff36c3938dc424586085e559/textsearch-0.0.21-py2.py3-none-any.whl\n",
            "Collecting anyascii\n",
            "\u001b[?25l  Downloading https://files.pythonhosted.org/packages/09/c7/61370d9e3c349478e89a5554c1e5d9658e1e3116cc4f2528f568909ebdf1/anyascii-0.1.7-py3-none-any.whl (260kB)\n",
            "\u001b[K     |████████████████████████████████| 266kB 13.2MB/s \n",
            "\u001b[?25hCollecting pyahocorasick\n",
            "\u001b[?25l  Downloading https://files.pythonhosted.org/packages/7f/c2/eae730037ae1cbbfaa229d27030d1d5e34a1e41114b21447d1202ae9c220/pyahocorasick-1.4.2.tar.gz (321kB)\n",
            "\u001b[K     |████████████████████████████████| 327kB 26.2MB/s \n",
            "\u001b[?25hBuilding wheels for collected packages: pyahocorasick\n",
            "  Building wheel for pyahocorasick (setup.py) ... \u001b[?25l\u001b[?25hdone\n",
            "  Created wheel for pyahocorasick: filename=pyahocorasick-1.4.2-cp37-cp37m-linux_x86_64.whl size=85392 sha256=fd8aabea6e19251e0af78640e800361db07bdb625bff1fb0d3857bdaac99a812\n",
            "  Stored in directory: /root/.cache/pip/wheels/3a/03/34/77e3ece0bba8b86bfac88a79f923b36d805cad63caeba38842\n",
            "Successfully built pyahocorasick\n",
            "Installing collected packages: anyascii, pyahocorasick, textsearch, contractions\n",
            "Successfully installed anyascii-0.1.7 contractions-0.0.48 pyahocorasick-1.4.2 textsearch-0.0.21\n",
            "[nltk_data] Downloading package stopwords to /root/nltk_data...\n",
            "[nltk_data]   Unzipping corpora/stopwords.zip.\n",
            "[nltk_data] Downloading package punkt to /root/nltk_data...\n",
            "[nltk_data]   Unzipping tokenizers/punkt.zip.\n",
            "[nltk_data] Downloading package wordnet to /root/nltk_data...\n",
            "[nltk_data]   Unzipping corpora/wordnet.zip.\n"
          ],
          "name": "stdout"
        }
      ]
    },
    {
      "cell_type": "code",
      "metadata": {
        "colab": {
          "base_uri": "https://localhost:8080/"
        },
        "id": "_BgAm2xFFUHp",
        "outputId": "73fcd210-3322-463d-817e-48c66fb3c244"
      },
      "source": [
        "from google.colab import drive\n",
        "drive.mount('/content/drive')"
      ],
      "execution_count": 1,
      "outputs": [
        {
          "output_type": "stream",
          "text": [
            "Mounted at /content/drive\n"
          ],
          "name": "stdout"
        }
      ]
    },
    {
      "cell_type": "code",
      "metadata": {
        "id": "iqIcJMJw7MAE"
      },
      "source": [
        "# Loading data into pandas dataframe\n",
        "data = pd.read_csv(\"/content/drive/My Drive/GL_Mentor/Data/Reviews.csv\")"
      ],
      "execution_count": 4,
      "outputs": []
    },
    {
      "cell_type": "code",
      "metadata": {
        "id": "QAxBWyO29Qb6",
        "colab": {
          "base_uri": "https://localhost:8080/"
        },
        "outputId": "5b975a5e-70b5-451a-a44d-e9da440755bd"
      },
      "source": [
        "data.shape                                               # print shape of data."
      ],
      "execution_count": 5,
      "outputs": [
        {
          "output_type": "execute_result",
          "data": {
            "text/plain": [
              "(568454, 10)"
            ]
          },
          "metadata": {
            "tags": []
          },
          "execution_count": 5
        }
      ]
    },
    {
      "cell_type": "code",
      "metadata": {
        "id": "LAJWb__77ZNu",
        "colab": {
          "base_uri": "https://localhost:8080/",
          "height": 685
        },
        "outputId": "66234706-7046-445b-d79b-40c54d5d8796"
      },
      "source": [
        "data.head()                                              # Print first 5 rows of data."
      ],
      "execution_count": 6,
      "outputs": [
        {
          "output_type": "execute_result",
          "data": {
            "text/html": [
              "<div>\n",
              "<style scoped>\n",
              "    .dataframe tbody tr th:only-of-type {\n",
              "        vertical-align: middle;\n",
              "    }\n",
              "\n",
              "    .dataframe tbody tr th {\n",
              "        vertical-align: top;\n",
              "    }\n",
              "\n",
              "    .dataframe thead th {\n",
              "        text-align: right;\n",
              "    }\n",
              "</style>\n",
              "<table border=\"1\" class=\"dataframe\">\n",
              "  <thead>\n",
              "    <tr style=\"text-align: right;\">\n",
              "      <th></th>\n",
              "      <th>Id</th>\n",
              "      <th>ProductId</th>\n",
              "      <th>UserId</th>\n",
              "      <th>ProfileName</th>\n",
              "      <th>HelpfulnessNumerator</th>\n",
              "      <th>HelpfulnessDenominator</th>\n",
              "      <th>Score</th>\n",
              "      <th>Time</th>\n",
              "      <th>Summary</th>\n",
              "      <th>Text</th>\n",
              "    </tr>\n",
              "  </thead>\n",
              "  <tbody>\n",
              "    <tr>\n",
              "      <th>0</th>\n",
              "      <td>1</td>\n",
              "      <td>B001E4KFG0</td>\n",
              "      <td>A3SGXH7AUHU8GW</td>\n",
              "      <td>delmartian</td>\n",
              "      <td>1</td>\n",
              "      <td>1</td>\n",
              "      <td>5</td>\n",
              "      <td>1303862400</td>\n",
              "      <td>Good Quality Dog Food</td>\n",
              "      <td>I have bought several of the Vitality canned d...</td>\n",
              "    </tr>\n",
              "    <tr>\n",
              "      <th>1</th>\n",
              "      <td>2</td>\n",
              "      <td>B00813GRG4</td>\n",
              "      <td>A1D87F6ZCVE5NK</td>\n",
              "      <td>dll pa</td>\n",
              "      <td>0</td>\n",
              "      <td>0</td>\n",
              "      <td>1</td>\n",
              "      <td>1346976000</td>\n",
              "      <td>Not as Advertised</td>\n",
              "      <td>Product arrived labeled as Jumbo Salted Peanut...</td>\n",
              "    </tr>\n",
              "    <tr>\n",
              "      <th>2</th>\n",
              "      <td>3</td>\n",
              "      <td>B000LQOCH0</td>\n",
              "      <td>ABXLMWJIXXAIN</td>\n",
              "      <td>Natalia Corres \"Natalia Corres\"</td>\n",
              "      <td>1</td>\n",
              "      <td>1</td>\n",
              "      <td>4</td>\n",
              "      <td>1219017600</td>\n",
              "      <td>\"Delight\" says it all</td>\n",
              "      <td>This is a confection that has been around a fe...</td>\n",
              "    </tr>\n",
              "    <tr>\n",
              "      <th>3</th>\n",
              "      <td>4</td>\n",
              "      <td>B000UA0QIQ</td>\n",
              "      <td>A395BORC6FGVXV</td>\n",
              "      <td>Karl</td>\n",
              "      <td>3</td>\n",
              "      <td>3</td>\n",
              "      <td>2</td>\n",
              "      <td>1307923200</td>\n",
              "      <td>Cough Medicine</td>\n",
              "      <td>If you are looking for the secret ingredient i...</td>\n",
              "    </tr>\n",
              "    <tr>\n",
              "      <th>4</th>\n",
              "      <td>5</td>\n",
              "      <td>B006K2ZZ7K</td>\n",
              "      <td>A1UQRSCLF8GW1T</td>\n",
              "      <td>Michael D. Bigham \"M. Wassir\"</td>\n",
              "      <td>0</td>\n",
              "      <td>0</td>\n",
              "      <td>5</td>\n",
              "      <td>1350777600</td>\n",
              "      <td>Great taffy</td>\n",
              "      <td>Great taffy at a great price.  There was a wid...</td>\n",
              "    </tr>\n",
              "  </tbody>\n",
              "</table>\n",
              "</div>"
            ],
            "text/plain": [
              "   Id  ...                                               Text\n",
              "0   1  ...  I have bought several of the Vitality canned d...\n",
              "1   2  ...  Product arrived labeled as Jumbo Salted Peanut...\n",
              "2   3  ...  This is a confection that has been around a fe...\n",
              "3   4  ...  If you are looking for the secret ingredient i...\n",
              "4   5  ...  Great taffy at a great price.  There was a wid...\n",
              "\n",
              "[5 rows x 10 columns]"
            ]
          },
          "metadata": {
            "tags": []
          },
          "execution_count": 6
        }
      ]
    },
    {
      "cell_type": "code",
      "metadata": {
        "id": "4m_zUuoDzu1s"
      },
      "source": [
        "# Taking only 50000 entries for demonstration purpose. As full data will take more time to process.\n",
        "# Only keeping score and Text columns from the data, as these are useful for our analysis.\n",
        "\n",
        "data = data.loc[:99999, ['Score', 'Text']]"
      ],
      "execution_count": 7,
      "outputs": []
    },
    {
      "cell_type": "code",
      "metadata": {
        "id": "-Fi1xVk_0g1v",
        "colab": {
          "base_uri": "https://localhost:8080/"
        },
        "outputId": "98f53878-1f53-42c8-c6be-3138bc954799"
      },
      "source": [
        "data.isnull().sum(axis=0)                                # Check for NULL values."
      ],
      "execution_count": 8,
      "outputs": [
        {
          "output_type": "execute_result",
          "data": {
            "text/plain": [
              "Score    0\n",
              "Text     0\n",
              "dtype: int64"
            ]
          },
          "metadata": {
            "tags": []
          },
          "execution_count": 8
        }
      ]
    },
    {
      "cell_type": "code",
      "metadata": {
        "id": "YeIScfrX7sCd",
        "colab": {
          "base_uri": "https://localhost:8080/",
          "height": 336
        },
        "outputId": "3a273f4d-8169-4c72-d451-1db52f881bd9"
      },
      "source": [
        "pd.set_option('display.max_colwidth', None) # Display full dataframe information (Non-turncated Text column.)\n",
        "\n",
        "data.head()                                 # Check first 5 rows of data"
      ],
      "execution_count": 9,
      "outputs": [
        {
          "output_type": "execute_result",
          "data": {
            "text/html": [
              "<div>\n",
              "<style scoped>\n",
              "    .dataframe tbody tr th:only-of-type {\n",
              "        vertical-align: middle;\n",
              "    }\n",
              "\n",
              "    .dataframe tbody tr th {\n",
              "        vertical-align: top;\n",
              "    }\n",
              "\n",
              "    .dataframe thead th {\n",
              "        text-align: right;\n",
              "    }\n",
              "</style>\n",
              "<table border=\"1\" class=\"dataframe\">\n",
              "  <thead>\n",
              "    <tr style=\"text-align: right;\">\n",
              "      <th></th>\n",
              "      <th>Score</th>\n",
              "      <th>Text</th>\n",
              "    </tr>\n",
              "  </thead>\n",
              "  <tbody>\n",
              "    <tr>\n",
              "      <th>0</th>\n",
              "      <td>5</td>\n",
              "      <td>I have bought several of the Vitality canned dog food products and have found them all to be of good quality. The product looks more like a stew than a processed meat and it smells better. My Labrador is finicky and she appreciates this product better than  most.</td>\n",
              "    </tr>\n",
              "    <tr>\n",
              "      <th>1</th>\n",
              "      <td>1</td>\n",
              "      <td>Product arrived labeled as Jumbo Salted Peanuts...the peanuts were actually small sized unsalted. Not sure if this was an error or if the vendor intended to represent the product as \"Jumbo\".</td>\n",
              "    </tr>\n",
              "    <tr>\n",
              "      <th>2</th>\n",
              "      <td>4</td>\n",
              "      <td>This is a confection that has been around a few centuries.  It is a light, pillowy citrus gelatin with nuts - in this case Filberts. And it is cut into tiny squares and then liberally coated with powdered sugar.  And it is a tiny mouthful of heaven.  Not too chewy, and very flavorful.  I highly recommend this yummy treat.  If you are familiar with the story of C.S. Lewis' \"The Lion, The Witch, and The Wardrobe\" - this is the treat that seduces Edmund into selling out his Brother and Sisters to the Witch.</td>\n",
              "    </tr>\n",
              "    <tr>\n",
              "      <th>3</th>\n",
              "      <td>2</td>\n",
              "      <td>If you are looking for the secret ingredient in Robitussin I believe I have found it.  I got this in addition to the Root Beer Extract I ordered (which was good) and made some cherry soda.  The flavor is very medicinal.</td>\n",
              "    </tr>\n",
              "    <tr>\n",
              "      <th>4</th>\n",
              "      <td>5</td>\n",
              "      <td>Great taffy at a great price.  There was a wide assortment of yummy taffy.  Delivery was very quick.  If your a taffy lover, this is a deal.</td>\n",
              "    </tr>\n",
              "  </tbody>\n",
              "</table>\n",
              "</div>"
            ],
            "text/plain": [
              "   Score                                                                                                                                                                                                                                                                                                                                                                                                                                                                                                                           Text\n",
              "0      5                                                                                                                                                                                                                                                        I have bought several of the Vitality canned dog food products and have found them all to be of good quality. The product looks more like a stew than a processed meat and it smells better. My Labrador is finicky and she appreciates this product better than  most.\n",
              "1      1                                                                                                                                                                                                                                                                                                                                 Product arrived labeled as Jumbo Salted Peanuts...the peanuts were actually small sized unsalted. Not sure if this was an error or if the vendor intended to represent the product as \"Jumbo\".\n",
              "2      4  This is a confection that has been around a few centuries.  It is a light, pillowy citrus gelatin with nuts - in this case Filberts. And it is cut into tiny squares and then liberally coated with powdered sugar.  And it is a tiny mouthful of heaven.  Not too chewy, and very flavorful.  I highly recommend this yummy treat.  If you are familiar with the story of C.S. Lewis' \"The Lion, The Witch, and The Wardrobe\" - this is the treat that seduces Edmund into selling out his Brother and Sisters to the Witch.\n",
              "3      2                                                                                                                                                                                                                                                                                                    If you are looking for the secret ingredient in Robitussin I believe I have found it.  I got this in addition to the Root Beer Extract I ordered (which was good) and made some cherry soda.  The flavor is very medicinal.\n",
              "4      5                                                                                                                                                                                                                                                                                                                                                                                   Great taffy at a great price.  There was a wide assortment of yummy taffy.  Delivery was very quick.  If your a taffy lover, this is a deal."
            ]
          },
          "metadata": {
            "tags": []
          },
          "execution_count": 9
        }
      ]
    },
    {
      "cell_type": "code",
      "metadata": {
        "id": "qtWdbYiL79M6",
        "colab": {
          "base_uri": "https://localhost:8080/"
        },
        "outputId": "9981df84-c1d7-4b1a-9373-c1fe8a8f6669"
      },
      "source": [
        "data.shape                                # Shape of data"
      ],
      "execution_count": 31,
      "outputs": [
        {
          "output_type": "execute_result",
          "data": {
            "text/plain": [
              "(100000, 2)"
            ]
          },
          "metadata": {
            "tags": []
          },
          "execution_count": 31
        }
      ]
    },
    {
      "cell_type": "markdown",
      "metadata": {
        "id": "377IfFic-Ihk"
      },
      "source": [
        "### Data Pre-processing:\n",
        "\n",
        "- Remove html tags.\n",
        "- Replace contractions in string. (e.g. replace I'm --> I am) and so on.\\\n",
        "- Remove numbers.\n",
        "- Tokenization\n",
        "- To remove Stopwords.\n",
        "- Lemmatized data\n",
        "\n",
        "We have used NLTK library to tokenize words , remove stopwords and lemmatize the remaining words."
      ]
    },
    {
      "cell_type": "code",
      "metadata": {
        "colab": {
          "base_uri": "https://localhost:8080/"
        },
        "id": "JVJXKoY0FuE0",
        "outputId": "fdb75755-d67d-4156-d273-8a2cf2f23ddc"
      },
      "source": [
        "data[\"Text\"][data[\"Text\"].str.contains(\"http\")].head()\n",
        "# Look for http tags then clean up"
      ],
      "execution_count": 10,
      "outputs": [
        {
          "output_type": "execute_result",
          "data": {
            "text/plain": [
              "21                                                                                                                                                                                                                                                                  I bought these for my husband who is currently overseas. He loves these, and apparently his staff likes them also.<br />There are generous amounts of Twizzlers in each 16-ounce bag, and this was well worth the price. <a href=\"http://www.amazon.com/gp/product/B001GVISJM\">Twizzlers, Strawberry, 16-Ounce Bags (Pack of 6)</a>\n",
              "25                                                                                                                                                                                                                                                                                                                                                                                                                                             Product received is as advertised.<br /><br /><a href=\"http://www.amazon.com/gp/product/B001GVISJM\">Twizzlers, Strawberry, 16-Ounce Bags (Pack of 6)</a>\n",
              "39                                                                                                                                                                                                                                                I ordered this for my wife as it was reccomended by our daughter.  She has this almost every morning and likes all flavors.  She's happy, I'm happy!!!<br /><a href=\"http://www.amazon.com/gp/product/B001EO5QW8\">McCANN'S Instant Irish Oatmeal, Variety Pack of Regular, Apples & Cinnamon, and Maple & Brown Sugar, 10-Count Boxes (Pack of 6)</a>\n",
              "348                                                                                                                                                                                                                                                                                                                                                          \"These are delicious! The chocolate is excellent and the espresso bean was the perfect roast for this purpose. Crunchy and not bitter.\"<a href=\"http://www.amazon.com/gp/product/B00067AD4U\">Chocolate Covered Espresso Beans 5 Pounds</a>\n",
              "369    Green Mountain \"Nantucket Blend\" K-Cups make a very good cup of coffee in my <a href=\"http://www.amazon.com/gp/product/B000AQPMHA\">Keurig B-40 B40 Elite Gourmet Single-Cup Home-Brewing System</a>. This is a very smooth tasting brew that my wife prefers over the <a href=\"http://www.amazon.com/gp/product/B0029XDZIK\">Coffee People, Donut Shop K-Cups for Keurig Brewers (Pack of 50) [Amazon Frustration-Free Packaging</a>] I generally drink in the morning.<br /><br />These are good on both \"Small\" and \"Large\" cup settings as well.<br /><br />Highly Recommended!<br /><br />CFH\n",
              "Name: Text, dtype: object"
            ]
          },
          "metadata": {
            "tags": []
          },
          "execution_count": 10
        }
      ]
    },
    {
      "cell_type": "code",
      "metadata": {
        "id": "vf3kMpGN7Lp9",
        "colab": {
          "base_uri": "https://localhost:8080/",
          "height": 336
        },
        "outputId": "8d96e906-3c9d-47a8-d591-bd37e98daed8"
      },
      "source": [
        "def strip_html(text):\n",
        "    soup = BeautifulSoup(text, \"html.parser\")\n",
        "    return soup.get_text()\n",
        "\n",
        "data['Text'] = data['Text'].apply(lambda x: strip_html(x))\n",
        "data.head()\n",
        "# remove html to get text, very useful for web scrapping , quality assurance in diff problems, "
      ],
      "execution_count": 13,
      "outputs": [
        {
          "output_type": "execute_result",
          "data": {
            "text/html": [
              "<div>\n",
              "<style scoped>\n",
              "    .dataframe tbody tr th:only-of-type {\n",
              "        vertical-align: middle;\n",
              "    }\n",
              "\n",
              "    .dataframe tbody tr th {\n",
              "        vertical-align: top;\n",
              "    }\n",
              "\n",
              "    .dataframe thead th {\n",
              "        text-align: right;\n",
              "    }\n",
              "</style>\n",
              "<table border=\"1\" class=\"dataframe\">\n",
              "  <thead>\n",
              "    <tr style=\"text-align: right;\">\n",
              "      <th></th>\n",
              "      <th>Score</th>\n",
              "      <th>Text</th>\n",
              "    </tr>\n",
              "  </thead>\n",
              "  <tbody>\n",
              "    <tr>\n",
              "      <th>0</th>\n",
              "      <td>5</td>\n",
              "      <td>I have bought several of the Vitality canned dog food products and have found them all to be of good quality. The product looks more like a stew than a processed meat and it smells better. My Labrador is finicky and she appreciates this product better than  most.</td>\n",
              "    </tr>\n",
              "    <tr>\n",
              "      <th>1</th>\n",
              "      <td>1</td>\n",
              "      <td>Product arrived labeled as Jumbo Salted Peanuts...the peanuts were actually small sized unsalted. Not sure if this was an error or if the vendor intended to represent the product as \"Jumbo\".</td>\n",
              "    </tr>\n",
              "    <tr>\n",
              "      <th>2</th>\n",
              "      <td>4</td>\n",
              "      <td>This is a confection that has been around a few centuries.  It is a light, pillowy citrus gelatin with nuts - in this case Filberts. And it is cut into tiny squares and then liberally coated with powdered sugar.  And it is a tiny mouthful of heaven.  Not too chewy, and very flavorful.  I highly recommend this yummy treat.  If you are familiar with the story of C.S. Lewis' \"The Lion, The Witch, and The Wardrobe\" - this is the treat that seduces Edmund into selling out his Brother and Sisters to the Witch.</td>\n",
              "    </tr>\n",
              "    <tr>\n",
              "      <th>3</th>\n",
              "      <td>2</td>\n",
              "      <td>If you are looking for the secret ingredient in Robitussin I believe I have found it.  I got this in addition to the Root Beer Extract I ordered (which was good) and made some cherry soda.  The flavor is very medicinal.</td>\n",
              "    </tr>\n",
              "    <tr>\n",
              "      <th>4</th>\n",
              "      <td>5</td>\n",
              "      <td>Great taffy at a great price.  There was a wide assortment of yummy taffy.  Delivery was very quick.  If your a taffy lover, this is a deal.</td>\n",
              "    </tr>\n",
              "  </tbody>\n",
              "</table>\n",
              "</div>"
            ],
            "text/plain": [
              "   Score                                                                                                                                                                                                                                                                                                                                                                                                                                                                                                                           Text\n",
              "0      5                                                                                                                                                                                                                                                        I have bought several of the Vitality canned dog food products and have found them all to be of good quality. The product looks more like a stew than a processed meat and it smells better. My Labrador is finicky and she appreciates this product better than  most.\n",
              "1      1                                                                                                                                                                                                                                                                                                                                 Product arrived labeled as Jumbo Salted Peanuts...the peanuts were actually small sized unsalted. Not sure if this was an error or if the vendor intended to represent the product as \"Jumbo\".\n",
              "2      4  This is a confection that has been around a few centuries.  It is a light, pillowy citrus gelatin with nuts - in this case Filberts. And it is cut into tiny squares and then liberally coated with powdered sugar.  And it is a tiny mouthful of heaven.  Not too chewy, and very flavorful.  I highly recommend this yummy treat.  If you are familiar with the story of C.S. Lewis' \"The Lion, The Witch, and The Wardrobe\" - this is the treat that seduces Edmund into selling out his Brother and Sisters to the Witch.\n",
              "3      2                                                                                                                                                                                                                                                                                                    If you are looking for the secret ingredient in Robitussin I believe I have found it.  I got this in addition to the Root Beer Extract I ordered (which was good) and made some cherry soda.  The flavor is very medicinal.\n",
              "4      5                                                                                                                                                                                                                                                                                                                                                                                   Great taffy at a great price.  There was a wide assortment of yummy taffy.  Delivery was very quick.  If your a taffy lover, this is a deal."
            ]
          },
          "metadata": {
            "tags": []
          },
          "execution_count": 13
        }
      ]
    },
    {
      "cell_type": "code",
      "metadata": {
        "id": "f7NgnYq77Puy",
        "colab": {
          "base_uri": "https://localhost:8080/",
          "height": 336
        },
        "outputId": "e48b3e53-6e2c-40e9-dc1e-90caf61970e1"
      },
      "source": [
        "def replace_contractions(text):\n",
        "    \"\"\"Replace contractions in string of text\"\"\"\n",
        "    return contractions.fix(text)\n",
        "\n",
        "data['Text'] = data['Text'].apply(lambda x: replace_contractions(x))\n",
        "data.head()"
      ],
      "execution_count": 14,
      "outputs": [
        {
          "output_type": "execute_result",
          "data": {
            "text/html": [
              "<div>\n",
              "<style scoped>\n",
              "    .dataframe tbody tr th:only-of-type {\n",
              "        vertical-align: middle;\n",
              "    }\n",
              "\n",
              "    .dataframe tbody tr th {\n",
              "        vertical-align: top;\n",
              "    }\n",
              "\n",
              "    .dataframe thead th {\n",
              "        text-align: right;\n",
              "    }\n",
              "</style>\n",
              "<table border=\"1\" class=\"dataframe\">\n",
              "  <thead>\n",
              "    <tr style=\"text-align: right;\">\n",
              "      <th></th>\n",
              "      <th>Score</th>\n",
              "      <th>Text</th>\n",
              "    </tr>\n",
              "  </thead>\n",
              "  <tbody>\n",
              "    <tr>\n",
              "      <th>0</th>\n",
              "      <td>5</td>\n",
              "      <td>I have bought several of the Vitality canned dog food products and have found them all to be of good quality. The product looks more like a stew than a processed meat and it smells better. My Labrador is finicky and she appreciates this product better than  most.</td>\n",
              "    </tr>\n",
              "    <tr>\n",
              "      <th>1</th>\n",
              "      <td>1</td>\n",
              "      <td>Product arrived labeled as Jumbo Salted Peanuts...the peanuts were actually small sized unsalted. Not sure if this was an error or if the vendor intended to represent the product as \"Jumbo\".</td>\n",
              "    </tr>\n",
              "    <tr>\n",
              "      <th>2</th>\n",
              "      <td>4</td>\n",
              "      <td>This is a confection that has been around a few centuries.  It is a light, pillowy citrus gelatin with nuts - in this case Filberts. And it is cut into tiny squares and then liberally coated with powdered sugar.  And it is a tiny mouthful of heaven.  Not too chewy, and very flavorful.  I highly recommend this yummy treat.  If you are familiar with the story of C.S. Lewis' \"The Lion, The Witch, and The Wardrobe\" - this is the treat that seduces Edmund into selling out his Brother and Sisters to the Witch.</td>\n",
              "    </tr>\n",
              "    <tr>\n",
              "      <th>3</th>\n",
              "      <td>2</td>\n",
              "      <td>If you are looking for the secret ingredient in Robitussin I believe I have found it.  I got this in addition to the Root Beer Extract I ordered (which was good) and made some cherry soda.  The flavor is very medicinal.</td>\n",
              "    </tr>\n",
              "    <tr>\n",
              "      <th>4</th>\n",
              "      <td>5</td>\n",
              "      <td>Great taffy at a great price.  There was a wide assortment of yummy taffy.  Delivery was very quick.  If your a taffy lover, this is a deal.</td>\n",
              "    </tr>\n",
              "  </tbody>\n",
              "</table>\n",
              "</div>"
            ],
            "text/plain": [
              "   Score                                                                                                                                                                                                                                                                                                                                                                                                                                                                                                                           Text\n",
              "0      5                                                                                                                                                                                                                                                        I have bought several of the Vitality canned dog food products and have found them all to be of good quality. The product looks more like a stew than a processed meat and it smells better. My Labrador is finicky and she appreciates this product better than  most.\n",
              "1      1                                                                                                                                                                                                                                                                                                                                 Product arrived labeled as Jumbo Salted Peanuts...the peanuts were actually small sized unsalted. Not sure if this was an error or if the vendor intended to represent the product as \"Jumbo\".\n",
              "2      4  This is a confection that has been around a few centuries.  It is a light, pillowy citrus gelatin with nuts - in this case Filberts. And it is cut into tiny squares and then liberally coated with powdered sugar.  And it is a tiny mouthful of heaven.  Not too chewy, and very flavorful.  I highly recommend this yummy treat.  If you are familiar with the story of C.S. Lewis' \"The Lion, The Witch, and The Wardrobe\" - this is the treat that seduces Edmund into selling out his Brother and Sisters to the Witch.\n",
              "3      2                                                                                                                                                                                                                                                                                                    If you are looking for the secret ingredient in Robitussin I believe I have found it.  I got this in addition to the Root Beer Extract I ordered (which was good) and made some cherry soda.  The flavor is very medicinal.\n",
              "4      5                                                                                                                                                                                                                                                                                                                                                                                   Great taffy at a great price.  There was a wide assortment of yummy taffy.  Delivery was very quick.  If your a taffy lover, this is a deal."
            ]
          },
          "metadata": {
            "tags": []
          },
          "execution_count": 14
        }
      ]
    },
    {
      "cell_type": "code",
      "metadata": {
        "id": "ga8ArYYxAB_1",
        "colab": {
          "base_uri": "https://localhost:8080/",
          "height": 336
        },
        "outputId": "c92a7725-3412-4dff-8012-2fa78b596a6a"
      },
      "source": [
        "def remove_numbers(text):\n",
        "  text = re.sub(r'\\d+', '', text)\n",
        "  return text\n",
        "\n",
        "data['Text'] = data['Text'].apply(lambda x: remove_numbers(x))\n",
        "data.head()\n",
        "\n",
        "# Why remove numbers here - based on problem statement as numbers arent useful for Sentiment Analysis"
      ],
      "execution_count": 15,
      "outputs": [
        {
          "output_type": "execute_result",
          "data": {
            "text/html": [
              "<div>\n",
              "<style scoped>\n",
              "    .dataframe tbody tr th:only-of-type {\n",
              "        vertical-align: middle;\n",
              "    }\n",
              "\n",
              "    .dataframe tbody tr th {\n",
              "        vertical-align: top;\n",
              "    }\n",
              "\n",
              "    .dataframe thead th {\n",
              "        text-align: right;\n",
              "    }\n",
              "</style>\n",
              "<table border=\"1\" class=\"dataframe\">\n",
              "  <thead>\n",
              "    <tr style=\"text-align: right;\">\n",
              "      <th></th>\n",
              "      <th>Score</th>\n",
              "      <th>Text</th>\n",
              "    </tr>\n",
              "  </thead>\n",
              "  <tbody>\n",
              "    <tr>\n",
              "      <th>0</th>\n",
              "      <td>5</td>\n",
              "      <td>I have bought several of the Vitality canned dog food products and have found them all to be of good quality. The product looks more like a stew than a processed meat and it smells better. My Labrador is finicky and she appreciates this product better than  most.</td>\n",
              "    </tr>\n",
              "    <tr>\n",
              "      <th>1</th>\n",
              "      <td>1</td>\n",
              "      <td>Product arrived labeled as Jumbo Salted Peanuts...the peanuts were actually small sized unsalted. Not sure if this was an error or if the vendor intended to represent the product as \"Jumbo\".</td>\n",
              "    </tr>\n",
              "    <tr>\n",
              "      <th>2</th>\n",
              "      <td>4</td>\n",
              "      <td>This is a confection that has been around a few centuries.  It is a light, pillowy citrus gelatin with nuts - in this case Filberts. And it is cut into tiny squares and then liberally coated with powdered sugar.  And it is a tiny mouthful of heaven.  Not too chewy, and very flavorful.  I highly recommend this yummy treat.  If you are familiar with the story of C.S. Lewis' \"The Lion, The Witch, and The Wardrobe\" - this is the treat that seduces Edmund into selling out his Brother and Sisters to the Witch.</td>\n",
              "    </tr>\n",
              "    <tr>\n",
              "      <th>3</th>\n",
              "      <td>2</td>\n",
              "      <td>If you are looking for the secret ingredient in Robitussin I believe I have found it.  I got this in addition to the Root Beer Extract I ordered (which was good) and made some cherry soda.  The flavor is very medicinal.</td>\n",
              "    </tr>\n",
              "    <tr>\n",
              "      <th>4</th>\n",
              "      <td>5</td>\n",
              "      <td>Great taffy at a great price.  There was a wide assortment of yummy taffy.  Delivery was very quick.  If your a taffy lover, this is a deal.</td>\n",
              "    </tr>\n",
              "  </tbody>\n",
              "</table>\n",
              "</div>"
            ],
            "text/plain": [
              "   Score                                                                                                                                                                                                                                                                                                                                                                                                                                                                                                                           Text\n",
              "0      5                                                                                                                                                                                                                                                        I have bought several of the Vitality canned dog food products and have found them all to be of good quality. The product looks more like a stew than a processed meat and it smells better. My Labrador is finicky and she appreciates this product better than  most.\n",
              "1      1                                                                                                                                                                                                                                                                                                                                 Product arrived labeled as Jumbo Salted Peanuts...the peanuts were actually small sized unsalted. Not sure if this was an error or if the vendor intended to represent the product as \"Jumbo\".\n",
              "2      4  This is a confection that has been around a few centuries.  It is a light, pillowy citrus gelatin with nuts - in this case Filberts. And it is cut into tiny squares and then liberally coated with powdered sugar.  And it is a tiny mouthful of heaven.  Not too chewy, and very flavorful.  I highly recommend this yummy treat.  If you are familiar with the story of C.S. Lewis' \"The Lion, The Witch, and The Wardrobe\" - this is the treat that seduces Edmund into selling out his Brother and Sisters to the Witch.\n",
              "3      2                                                                                                                                                                                                                                                                                                    If you are looking for the secret ingredient in Robitussin I believe I have found it.  I got this in addition to the Root Beer Extract I ordered (which was good) and made some cherry soda.  The flavor is very medicinal.\n",
              "4      5                                                                                                                                                                                                                                                                                                                                                                                   Great taffy at a great price.  There was a wide assortment of yummy taffy.  Delivery was very quick.  If your a taffy lover, this is a deal."
            ]
          },
          "metadata": {
            "tags": []
          },
          "execution_count": 15
        }
      ]
    },
    {
      "cell_type": "code",
      "metadata": {
        "id": "q0-yYsx68DxT"
      },
      "source": [
        "data['Text'] = data.apply(lambda row: nltk.word_tokenize(row['Text']), axis=1) # Tokenization of data"
      ],
      "execution_count": 16,
      "outputs": []
    },
    {
      "cell_type": "code",
      "metadata": {
        "id": "EcHbJJFfAlM2",
        "colab": {
          "base_uri": "https://localhost:8080/",
          "height": 354
        },
        "outputId": "66e2797e-d602-41c7-87b3-470a178d61d9"
      },
      "source": [
        "data.head()                                                                    # Look at how tokenized data looks."
      ],
      "execution_count": 17,
      "outputs": [
        {
          "output_type": "execute_result",
          "data": {
            "text/html": [
              "<div>\n",
              "<style scoped>\n",
              "    .dataframe tbody tr th:only-of-type {\n",
              "        vertical-align: middle;\n",
              "    }\n",
              "\n",
              "    .dataframe tbody tr th {\n",
              "        vertical-align: top;\n",
              "    }\n",
              "\n",
              "    .dataframe thead th {\n",
              "        text-align: right;\n",
              "    }\n",
              "</style>\n",
              "<table border=\"1\" class=\"dataframe\">\n",
              "  <thead>\n",
              "    <tr style=\"text-align: right;\">\n",
              "      <th></th>\n",
              "      <th>Score</th>\n",
              "      <th>Text</th>\n",
              "    </tr>\n",
              "  </thead>\n",
              "  <tbody>\n",
              "    <tr>\n",
              "      <th>0</th>\n",
              "      <td>5</td>\n",
              "      <td>[I, have, bought, several, of, the, Vitality, canned, dog, food, products, and, have, found, them, all, to, be, of, good, quality, ., The, product, looks, more, like, a, stew, than, a, processed, meat, and, it, smells, better, ., My, Labrador, is, finicky, and, she, appreciates, this, product, better, than, most, .]</td>\n",
              "    </tr>\n",
              "    <tr>\n",
              "      <th>1</th>\n",
              "      <td>1</td>\n",
              "      <td>[Product, arrived, labeled, as, Jumbo, Salted, Peanuts, ..., the, peanuts, were, actually, small, sized, unsalted, ., Not, sure, if, this, was, an, error, or, if, the, vendor, intended, to, represent, the, product, as, ``, Jumbo, '', .]</td>\n",
              "    </tr>\n",
              "    <tr>\n",
              "      <th>2</th>\n",
              "      <td>4</td>\n",
              "      <td>[This, is, a, confection, that, has, been, around, a, few, centuries, ., It, is, a, light, ,, pillowy, citrus, gelatin, with, nuts, -, in, this, case, Filberts, ., And, it, is, cut, into, tiny, squares, and, then, liberally, coated, with, powdered, sugar, ., And, it, is, a, tiny, mouthful, of, heaven, ., Not, too, chewy, ,, and, very, flavorful, ., I, highly, recommend, this, yummy, treat, ., If, you, are, familiar, with, the, story, of, C.S, ., Lewis, ', ``, The, Lion, ,, The, Witch, ,, and, The, Wardrobe, '', -, this, is, the, treat, that, seduces, Edmund, into, selling, ...]</td>\n",
              "    </tr>\n",
              "    <tr>\n",
              "      <th>3</th>\n",
              "      <td>2</td>\n",
              "      <td>[If, you, are, looking, for, the, secret, ingredient, in, Robitussin, I, believe, I, have, found, it, ., I, got, this, in, addition, to, the, Root, Beer, Extract, I, ordered, (, which, was, good, ), and, made, some, cherry, soda, ., The, flavor, is, very, medicinal, .]</td>\n",
              "    </tr>\n",
              "    <tr>\n",
              "      <th>4</th>\n",
              "      <td>5</td>\n",
              "      <td>[Great, taffy, at, a, great, price, ., There, was, a, wide, assortment, of, yummy, taffy, ., Delivery, was, very, quick, ., If, your, a, taffy, lover, ,, this, is, a, deal, .]</td>\n",
              "    </tr>\n",
              "  </tbody>\n",
              "</table>\n",
              "</div>"
            ],
            "text/plain": [
              "   Score                                                                                                                                                                                                                                                                                                                                                                                                                                                                                                                                                                                                      Text\n",
              "0      5                                                                                                                                                                                                                                                                             [I, have, bought, several, of, the, Vitality, canned, dog, food, products, and, have, found, them, all, to, be, of, good, quality, ., The, product, looks, more, like, a, stew, than, a, processed, meat, and, it, smells, better, ., My, Labrador, is, finicky, and, she, appreciates, this, product, better, than, most, .]\n",
              "1      1                                                                                                                                                                                                                                                                                                                                                              [Product, arrived, labeled, as, Jumbo, Salted, Peanuts, ..., the, peanuts, were, actually, small, sized, unsalted, ., Not, sure, if, this, was, an, error, or, if, the, vendor, intended, to, represent, the, product, as, ``, Jumbo, '', .]\n",
              "2      4  [This, is, a, confection, that, has, been, around, a, few, centuries, ., It, is, a, light, ,, pillowy, citrus, gelatin, with, nuts, -, in, this, case, Filberts, ., And, it, is, cut, into, tiny, squares, and, then, liberally, coated, with, powdered, sugar, ., And, it, is, a, tiny, mouthful, of, heaven, ., Not, too, chewy, ,, and, very, flavorful, ., I, highly, recommend, this, yummy, treat, ., If, you, are, familiar, with, the, story, of, C.S, ., Lewis, ', ``, The, Lion, ,, The, Witch, ,, and, The, Wardrobe, '', -, this, is, the, treat, that, seduces, Edmund, into, selling, ...]\n",
              "3      2                                                                                                                                                                                                                                                                                                                             [If, you, are, looking, for, the, secret, ingredient, in, Robitussin, I, believe, I, have, found, it, ., I, got, this, in, addition, to, the, Root, Beer, Extract, I, ordered, (, which, was, good, ), and, made, some, cherry, soda, ., The, flavor, is, very, medicinal, .]\n",
              "4      5                                                                                                                                                                                                                                                                                                                                                                                                                           [Great, taffy, at, a, great, price, ., There, was, a, wide, assortment, of, yummy, taffy, ., Delivery, was, very, quick, ., If, your, a, taffy, lover, ,, this, is, a, deal, .]"
            ]
          },
          "metadata": {
            "tags": []
          },
          "execution_count": 17
        }
      ]
    },
    {
      "cell_type": "code",
      "metadata": {
        "id": "zWZwuXaC-4qy"
      },
      "source": [
        "stopwords = stopwords.words('english')\n",
        "\n",
        "customlist = ['not', \"couldn't\", 'didn', \"didn't\", 'doesn', \"doesn't\", 'hadn', \"hadn't\", 'hasn',\n",
        "        \"hasn't\", 'haven', \"haven't\", 'isn', \"isn't\", 'ma', 'mightn', \"mightn't\", 'mustn',\n",
        "        \"mustn't\", 'needn', \"needn't\", 'shan', \"shan't\", 'shouldn', \"shouldn't\", 'wasn',\n",
        "        \"wasn't\", 'weren', \"weren't\", 'won', \"won't\", 'wouldn', \"wouldn't\"]\n",
        "\n",
        "# Set custom stop-word's list as not, couldn't etc. words matter in Sentiment, so not removing them from original data.\n",
        "\n",
        "stopwords = list(set(stopwords) - set(customlist))           \n",
        "# Extra stop words beyond nltk that we want to leverage, Use set operations to reduce stop words -> or add as well.                    "
      ],
      "execution_count": 18,
      "outputs": []
    },
    {
      "cell_type": "code",
      "metadata": {
        "id": "JZjCxefg7Et3",
        "colab": {
          "base_uri": "https://localhost:8080/",
          "height": 250
        },
        "outputId": "8432107e-8ecb-4a52-bb5b-9e0f799fad8d"
      },
      "source": [
        "lemmatizer = WordNetLemmatizer()\n",
        "\n",
        "def remove_non_ascii(words):\n",
        "    \"\"\"Remove non-ASCII characters from list of tokenized words\"\"\"\n",
        "    new_words = []\n",
        "    for word in words:\n",
        "        new_word = unicodedata.normalize('NFKD', word).encode('ascii', 'ignore').decode('utf-8', 'ignore')\n",
        "        new_words.append(new_word)\n",
        "    return new_words\n",
        "\n",
        "def to_lowercase(words):\n",
        "    \"\"\"Convert all characters to lowercase from list of tokenized words\"\"\"\n",
        "    new_words = []\n",
        "    for word in words:\n",
        "        new_word = word.lower()\n",
        "        new_words.append(new_word)\n",
        "    return new_words\n",
        "\n",
        "def remove_punctuation(words):\n",
        "    \"\"\"Remove punctuation from list of tokenized words\"\"\"\n",
        "    new_words = []\n",
        "    for word in words:\n",
        "        new_word = re.sub(r'[^\\w\\s]', '', word)\n",
        "        if new_word != '':\n",
        "            new_words.append(new_word)\n",
        "    return new_words\n",
        "\n",
        "def remove_stopwords(words):\n",
        "    \"\"\"Remove stop words from list of tokenized words\"\"\"\n",
        "    new_words = []\n",
        "    for word in words:\n",
        "        if word not in stopwords:\n",
        "            new_words.append(word)\n",
        "    return new_words\n",
        "\n",
        "def lemmatize_list(words):\n",
        "    new_words = []\n",
        "    for word in words:\n",
        "      new_words.append(lemmatizer.lemmatize(word, pos='v'))\n",
        "    return new_words\n",
        "\n",
        "def normalize(words):\n",
        "    words = remove_non_ascii(words)\n",
        "    words = to_lowercase(words)\n",
        "    words = remove_punctuation(words)\n",
        "    words = remove_stopwords(words)\n",
        "    words = lemmatize_list(words)\n",
        "    return ' '.join(words)\n",
        "\n",
        "data['Text'] = data.apply(lambda row: normalize(row['Text']), axis=1)\n",
        "data.head()\n",
        "\n",
        "# Apply all steps together on the dataset and joined words again for count and tf idf vectorizer expect document together; "
      ],
      "execution_count": 19,
      "outputs": [
        {
          "output_type": "execute_result",
          "data": {
            "text/html": [
              "<div>\n",
              "<style scoped>\n",
              "    .dataframe tbody tr th:only-of-type {\n",
              "        vertical-align: middle;\n",
              "    }\n",
              "\n",
              "    .dataframe tbody tr th {\n",
              "        vertical-align: top;\n",
              "    }\n",
              "\n",
              "    .dataframe thead th {\n",
              "        text-align: right;\n",
              "    }\n",
              "</style>\n",
              "<table border=\"1\" class=\"dataframe\">\n",
              "  <thead>\n",
              "    <tr style=\"text-align: right;\">\n",
              "      <th></th>\n",
              "      <th>Score</th>\n",
              "      <th>Text</th>\n",
              "    </tr>\n",
              "  </thead>\n",
              "  <tbody>\n",
              "    <tr>\n",
              "      <th>0</th>\n",
              "      <td>5</td>\n",
              "      <td>buy several vitality can dog food products find good quality product look like stew process meat smell better labrador finicky appreciate product better</td>\n",
              "    </tr>\n",
              "    <tr>\n",
              "      <th>1</th>\n",
              "      <td>1</td>\n",
              "      <td>product arrive label jumbo salt peanuts peanuts actually small size unsalted not sure error vendor intend represent product jumbo</td>\n",
              "    </tr>\n",
              "    <tr>\n",
              "      <th>2</th>\n",
              "      <td>4</td>\n",
              "      <td>confection around centuries light pillowy citrus gelatin nut case filberts cut tiny square liberally coat powder sugar tiny mouthful heaven not chewy flavorful highly recommend yummy treat familiar story cs lewis lion witch wardrobe treat seduce edmund sell brother sisters witch</td>\n",
              "    </tr>\n",
              "    <tr>\n",
              "      <th>3</th>\n",
              "      <td>2</td>\n",
              "      <td>look secret ingredient robitussin believe find get addition root beer extract order good make cherry soda flavor medicinal</td>\n",
              "    </tr>\n",
              "    <tr>\n",
              "      <th>4</th>\n",
              "      <td>5</td>\n",
              "      <td>great taffy great price wide assortment yummy taffy delivery quick taffy lover deal</td>\n",
              "    </tr>\n",
              "  </tbody>\n",
              "</table>\n",
              "</div>"
            ],
            "text/plain": [
              "   Score                                                                                                                                                                                                                                                                                     Text\n",
              "0      5                                                                                                                                 buy several vitality can dog food products find good quality product look like stew process meat smell better labrador finicky appreciate product better\n",
              "1      1                                                                                                                                                        product arrive label jumbo salt peanuts peanuts actually small size unsalted not sure error vendor intend represent product jumbo\n",
              "2      4  confection around centuries light pillowy citrus gelatin nut case filberts cut tiny square liberally coat powder sugar tiny mouthful heaven not chewy flavorful highly recommend yummy treat familiar story cs lewis lion witch wardrobe treat seduce edmund sell brother sisters witch\n",
              "3      2                                                                                                                                                               look secret ingredient robitussin believe find get addition root beer extract order good make cherry soda flavor medicinal\n",
              "4      5                                                                                                                                                                                                      great taffy great price wide assortment yummy taffy delivery quick taffy lover deal"
            ]
          },
          "metadata": {
            "tags": []
          },
          "execution_count": 19
        }
      ]
    },
    {
      "cell_type": "code",
      "metadata": {
        "id": "7HZD9MMYG_Qy"
      },
      "source": [
        "data.shape\n",
        "labels = data['Score']\n",
        "labels = labels.astype('int')"
      ],
      "execution_count": 20,
      "outputs": []
    },
    {
      "cell_type": "code",
      "metadata": {
        "id": "K47Jm6aVHv5x"
      },
      "source": [
        "data_features_text = np.array(data[\"Text\"])                        # Convert the data features to array."
      ],
      "execution_count": 21,
      "outputs": []
    },
    {
      "cell_type": "code",
      "metadata": {
        "id": "l7A3TPnHG2e4"
      },
      "source": [
        "# Split data into training and testing set.\n",
        "\n",
        "from sklearn.model_selection import train_test_split\n",
        "X_train, X_test, y_train, y_test = train_test_split(data_features_text, labels, test_size=0.2, random_state=42,stratify=labels)"
      ],
      "execution_count": 166,
      "outputs": []
    },
    {
      "cell_type": "code",
      "metadata": {
        "colab": {
          "base_uri": "https://localhost:8080/"
        },
        "id": "_5uPjIHmYMJa",
        "outputId": "a4410d7f-01ab-4d04-cc64-4a425cb299e1"
      },
      "source": [
        "y_train.value_counts()\n",
        "# Data is more skewed towards positive labels"
      ],
      "execution_count": 167,
      "outputs": [
        {
          "output_type": "execute_result",
          "data": {
            "text/plain": [
              "5    49930\n",
              "4    11714\n",
              "1     7455\n",
              "3     6447\n",
              "2     4454\n",
              "Name: Score, dtype: int64"
            ]
          },
          "metadata": {
            "tags": []
          },
          "execution_count": 167
        }
      ]
    },
    {
      "cell_type": "code",
      "metadata": {
        "colab": {
          "base_uri": "https://localhost:8080/"
        },
        "id": "XS0TRPAEYePi",
        "outputId": "d048c4d5-3347-47b9-b007-d3c7d0242ee3"
      },
      "source": [
        "y_test.value_counts()"
      ],
      "execution_count": 168,
      "outputs": [
        {
          "output_type": "execute_result",
          "data": {
            "text/plain": [
              "5    12482\n",
              "4     2929\n",
              "1     1863\n",
              "3     1612\n",
              "2     1114\n",
              "Name: Score, dtype: int64"
            ]
          },
          "metadata": {
            "tags": []
          },
          "execution_count": 168
        }
      ]
    },
    {
      "cell_type": "code",
      "metadata": {
        "colab": {
          "base_uri": "https://localhost:8080/"
        },
        "id": "kozt6ve2JWKw",
        "outputId": "ba3ff706-593f-4562-ab90-960900113817"
      },
      "source": [
        "print(X_train.shape)\n",
        "print(y_train.shape)"
      ],
      "execution_count": 169,
      "outputs": [
        {
          "output_type": "stream",
          "text": [
            "(80000,)\n",
            "(80000,)\n"
          ],
          "name": "stdout"
        }
      ]
    },
    {
      "cell_type": "code",
      "metadata": {
        "colab": {
          "base_uri": "https://localhost:8080/"
        },
        "id": "_JDEmvu5KXPx",
        "outputId": "1faba04c-dcef-4750-cb31-20fa8f9cd903"
      },
      "source": [
        "print(X_train[9])\n",
        "print(y_train[9])"
      ],
      "execution_count": 171,
      "outputs": [
        {
          "output_type": "stream",
          "text": [
            "lupo cortese restaurant peoplethese guy correct make spiedies lupo marinade thing remember lupo always crowd didnttake long country boy get addict chicken pork spiediesi try duplicate stuff give try use state fairmarinade reasonable substitute sauce lupo magicdoes spiedie chiavetta grill chicken pork awesome\n",
            "5\n"
          ],
          "name": "stdout"
        }
      ]
    },
    {
      "cell_type": "code",
      "metadata": {
        "colab": {
          "base_uri": "https://localhost:8080/"
        },
        "id": "SYJOBwkwJW0x",
        "outputId": "51b5ed2a-0f54-4266-d928-6b3284b676b7"
      },
      "source": [
        "print(X_test.shape)\n",
        "print(y_test.shape)"
      ],
      "execution_count": 172,
      "outputs": [
        {
          "output_type": "stream",
          "text": [
            "(20000,)\n",
            "(20000,)\n"
          ],
          "name": "stdout"
        }
      ]
    },
    {
      "cell_type": "code",
      "metadata": {
        "id": "9JqH_4JWOurH"
      },
      "source": [
        "# Vectorization (Convert text data to numbers).\n",
        "from sklearn.feature_extraction.text import CountVectorizer\n",
        "\n",
        "vectorizer = CountVectorizer(max_features=1000)                # Keep only 1000 features as number of features will increase the processing time.\n",
        "X_train_vec = vectorizer.fit_transform(X_train)\n",
        "\n",
        "#Qn - MAX FEATURES?\n",
        "# Can i do here vectorizer.fit_transform(data_features_text)"
      ],
      "execution_count": 173,
      "outputs": []
    },
    {
      "cell_type": "code",
      "metadata": {
        "colab": {
          "base_uri": "https://localhost:8080/"
        },
        "id": "XphSor7u8Tgu",
        "outputId": "fd720519-8670-4e08-c22d-2fa1d9324927"
      },
      "source": [
        "vectorizer.get_feature_names()[:20]"
      ],
      "execution_count": 174,
      "outputs": [
        {
          "output_type": "execute_result",
          "data": {
            "text/plain": [
              "['able',\n",
              " 'absolutely',\n",
              " 'acid',\n",
              " 'across',\n",
              " 'actual',\n",
              " 'actually',\n",
              " 'add',\n",
              " 'addict',\n",
              " 'addition',\n",
              " 'admit',\n",
              " 'adult',\n",
              " 'advertise',\n",
              " 'afternoon',\n",
              " 'aftertaste',\n",
              " 'age',\n",
              " 'ago',\n",
              " 'agree',\n",
              " 'air',\n",
              " 'allergies',\n",
              " 'allow']"
            ]
          },
          "metadata": {
            "tags": []
          },
          "execution_count": 174
        }
      ]
    },
    {
      "cell_type": "code",
      "metadata": {
        "colab": {
          "base_uri": "https://localhost:8080/",
          "height": 104
        },
        "id": "TDMBS6SQXhXy",
        "outputId": "b4f3cbbd-a6bc-4e64-bd3c-05b53a18d46c"
      },
      "source": [
        "X_train[5]"
      ],
      "execution_count": 175,
      "outputs": [
        {
          "output_type": "execute_result",
          "data": {
            "application/vnd.google.colaboratory.intrinsic+json": {
              "type": "string"
            },
            "text/plain": [
              "'vegetarian love gummi candy ecstatic see vegetarian gummi bear available arrive yesterday immediately rip open bagthey good texture not quite gummi bear animalbased gelatin something chewiness not quite right could easily slice dull side knife regular gummi hand would require stroke serrate blade consistency however good not hard soft flavor even better many brand regular gummi bearsoverall definitely best vegetarian alternative traditional gummi candy find much better ones bulk bin whole foods'"
            ]
          },
          "metadata": {
            "tags": []
          },
          "execution_count": 175
        }
      ]
    },
    {
      "cell_type": "code",
      "metadata": {
        "id": "LrRKfuzXXyPS",
        "colab": {
          "base_uri": "https://localhost:8080/"
        },
        "outputId": "576f3c60-520f-4807-89e6-9493702d6ce9"
      },
      "source": [
        "# Using Random Forest to build model for the classification of reviews.\n",
        "# Also calculating the cross validation score.\n",
        "\n",
        "from sklearn.ensemble import RandomForestClassifier\n",
        "from sklearn.model_selection import cross_val_score\n",
        "\n",
        "forest = RandomForestClassifier(n_estimators=10, n_jobs=4)\n",
        "\n",
        "forest = forest.fit(X_train_vec, y_train)\n",
        "\n",
        "print(forest)"
      ],
      "execution_count": 176,
      "outputs": [
        {
          "output_type": "stream",
          "text": [
            "RandomForestClassifier(bootstrap=True, ccp_alpha=0.0, class_weight=None,\n",
            "                       criterion='gini', max_depth=None, max_features='auto',\n",
            "                       max_leaf_nodes=None, max_samples=None,\n",
            "                       min_impurity_decrease=0.0, min_impurity_split=None,\n",
            "                       min_samples_leaf=1, min_samples_split=2,\n",
            "                       min_weight_fraction_leaf=0.0, n_estimators=10, n_jobs=4,\n",
            "                       oob_score=False, random_state=None, verbose=0,\n",
            "                       warm_start=False)\n"
          ],
          "name": "stdout"
        }
      ]
    },
    {
      "cell_type": "code",
      "metadata": {
        "colab": {
          "base_uri": "https://localhost:8080/"
        },
        "id": "W8MnMSQdK9cL",
        "outputId": "4311a9da-335e-4b20-fd20-8d327b17ea16"
      },
      "source": [
        "print(np.mean(cross_val_score(forest, X_train_vec, y_train, cv=10)))"
      ],
      "execution_count": 177,
      "outputs": [
        {
          "output_type": "stream",
          "text": [
            "0.6957875\n"
          ],
          "name": "stdout"
        }
      ]
    },
    {
      "cell_type": "code",
      "metadata": {
        "id": "zuwujDwkZIW7"
      },
      "source": [
        "# Predict the result for test data using the model built above.\n",
        "X_test_vec = vectorizer.fit_transform(X_test)\n",
        "result = forest.predict(X_test_vec)"
      ],
      "execution_count": 178,
      "outputs": []
    },
    {
      "cell_type": "code",
      "metadata": {
        "id": "vLRfUCOlaaHH",
        "colab": {
          "base_uri": "https://localhost:8080/",
          "height": 532
        },
        "outputId": "2a24f6ea-ab82-42ba-f397-4fba8c659a5b"
      },
      "source": [
        "# Print and plot Confusion matirx to get an idea of how the distribution of the prediction is, among all the classes.\n",
        "\n",
        "import matplotlib.pyplot as plt\n",
        "import seaborn as sns\n",
        "from sklearn.metrics import confusion_matrix\n",
        "\n",
        "conf_mat = confusion_matrix(y_test, result)\n",
        "\n",
        "print(conf_mat)\n",
        "\n",
        "df_cm = pd.DataFrame(conf_mat, index = [i for i in \"12345\"],\n",
        "                  columns = [i for i in \"12345\"])\n",
        "plt.figure(figsize = (10,7))\n",
        "sns.heatmap(df_cm, annot=True, fmt='g')"
      ],
      "execution_count": 179,
      "outputs": [
        {
          "output_type": "stream",
          "text": [
            "[[ 382   34   57  205 1185]\n",
            " [ 224   24   50  146  670]\n",
            " [ 329   41   72  242  928]\n",
            " [ 441   42  118  425 1903]\n",
            " [1817  170  314 1145 9036]]\n"
          ],
          "name": "stdout"
        },
        {
          "output_type": "execute_result",
          "data": {
            "text/plain": [
              "<matplotlib.axes._subplots.AxesSubplot at 0x7f1883ad6850>"
            ]
          },
          "metadata": {
            "tags": []
          },
          "execution_count": 179
        },
        {
          "output_type": "display_data",
          "data": {
            "image/png": "[encoded data removed]",
            "text/plain": [
              "<Figure size 720x504 with 2 Axes>"
            ]
          },
          "metadata": {
            "tags": [],
            "needs_background": "light"
          }
        }
      ]
    },
    {
      "cell_type": "code",
      "metadata": {
        "id": "JyWqFm4Bu8gX"
      },
      "source": [
        "# Using TfidfVectorizer to convert text data to numbers.\n",
        "\n",
        "from sklearn.feature_extraction.text import TfidfVectorizer\n",
        "\n",
        "vectorizer_tfidf = TfidfVectorizer(max_features=2000, ngram_range=(1, 2))\n",
        "X_train_tfidf = vectorizer_tfidf.fit_transform(X_train)\n"
      ],
      "execution_count": 180,
      "outputs": []
    },
    {
      "cell_type": "code",
      "metadata": {
        "colab": {
          "base_uri": "https://localhost:8080/"
        },
        "id": "zFhYW10KX3x4",
        "outputId": "274b68e6-8db2-4e35-877b-655f8eb6c3ad"
      },
      "source": [
        "vectorizer_tfidf.get_feature_names()[:20]"
      ],
      "execution_count": 182,
      "outputs": [
        {
          "output_type": "execute_result",
          "data": {
            "text/plain": [
              "['able',\n",
              " 'able find',\n",
              " 'absolute',\n",
              " 'absolutely',\n",
              " 'absolutely love',\n",
              " 'accord',\n",
              " 'acid',\n",
              " 'acidic',\n",
              " 'across',\n",
              " 'actual',\n",
              " 'actually',\n",
              " 'actually taste',\n",
              " 'add',\n",
              " 'add little',\n",
              " 'add sugar',\n",
              " 'add water',\n",
              " 'addict',\n",
              " 'addictive',\n",
              " 'addition',\n",
              " 'additional']"
            ]
          },
          "metadata": {
            "tags": []
          },
          "execution_count": 182
        }
      ]
    },
    {
      "cell_type": "code",
      "metadata": {
        "id": "7223wy58vjJn",
        "colab": {
          "base_uri": "https://localhost:8080/"
        },
        "outputId": "1f9a691f-86c5-48f3-ad81-697c297c7fef"
      },
      "source": [
        "# Using Random Forest to build model for the classification of reviews.\n",
        "# Also calculating the cross validation score.\n",
        "\n",
        "from sklearn.ensemble import RandomForestClassifier\n",
        "from sklearn.model_selection import cross_val_score\n",
        "\n",
        "import numpy as np\n",
        "\n",
        "forest = RandomForestClassifier(n_estimators=10, n_jobs=4)\n",
        "\n",
        "forest = forest.fit(X_train_tfidf, y_train)\n",
        "\n",
        "print(forest)\n",
        "\n",
        "print(np.mean(cross_val_score(forest, X_train_tfidf, y_train, cv=10)))"
      ],
      "execution_count": 183,
      "outputs": [
        {
          "output_type": "stream",
          "text": [
            "RandomForestClassifier(bootstrap=True, ccp_alpha=0.0, class_weight=None,\n",
            "                       criterion='gini', max_depth=None, max_features='auto',\n",
            "                       max_leaf_nodes=None, max_samples=None,\n",
            "                       min_impurity_decrease=0.0, min_impurity_split=None,\n",
            "                       min_samples_leaf=1, min_samples_split=2,\n",
            "                       min_weight_fraction_leaf=0.0, n_estimators=10, n_jobs=4,\n",
            "                       oob_score=False, random_state=None, verbose=0,\n",
            "                       warm_start=False)\n",
            "0.7058625\n"
          ],
          "name": "stdout"
        }
      ]
    },
    {
      "cell_type": "code",
      "metadata": {
        "id": "vxMaBRnLvl_A"
      },
      "source": [
        "X_test_tfidf = vectorizer_tfidf.fit_transform(X_test)\n",
        "result = forest.predict(X_test_tfidf)"
      ],
      "execution_count": 184,
      "outputs": []
    },
    {
      "cell_type": "code",
      "metadata": {
        "colab": {
          "base_uri": "https://localhost:8080/"
        },
        "id": "2a6g36Cia5Hx",
        "outputId": "8e88e650-b124-41d5-cfe8-91a6ed49ae1e"
      },
      "source": [
        "print('Accuracy on Test Data Set',sum(result == y_test) / len(y_test))"
      ],
      "execution_count": 189,
      "outputs": [
        {
          "output_type": "stream",
          "text": [
            "Accuracy on Test Data Set 0.5394\n"
          ],
          "name": "stdout"
        }
      ]
    },
    {
      "cell_type": "code",
      "metadata": {
        "id": "qFkEFqU3vnbw",
        "colab": {
          "base_uri": "https://localhost:8080/",
          "height": 445
        },
        "outputId": "95dfb46c-1cc0-4b63-b733-1203338b04c6"
      },
      "source": [
        "import matplotlib.pyplot as plt\n",
        "import seaborn as sns\n",
        "from sklearn.metrics import confusion_matrix\n",
        "\n",
        "conf_mat = confusion_matrix(y_test, result)\n",
        "\n",
        "df_cm = pd.DataFrame(conf_mat, index = [i for i in \"12345\"],\n",
        "                  columns = [i for i in \"12345\"])\n",
        "plt.figure(figsize = (10,7))\n",
        "sns.heatmap(df_cm, annot=True, fmt='g')\n",
        "# Model performs best at 5s and worst at 0s - error analysis to see why negative sentiment words arent being picked up\n"
      ],
      "execution_count": 185,
      "outputs": [
        {
          "output_type": "execute_result",
          "data": {
            "text/plain": [
              "<matplotlib.axes._subplots.AxesSubplot at 0x7f18830d2850>"
            ]
          },
          "metadata": {
            "tags": []
          },
          "execution_count": 185
        },
        {
          "output_type": "display_data",
          "data": {
            "image/png": "[encoded data removed]",
            "text/plain": [
              "<Figure size 720x504 with 2 Axes>"
            ]
          },
          "metadata": {
            "tags": [],
            "needs_background": "light"
          }
        }
      ]
    },
    {
      "cell_type": "markdown",
      "metadata": {
        "id": "LwxfFdwhc-9o"
      },
      "source": [
        "Summary:\n",
        "\n",
        "- We used dataset which has reviews in text format and their sentiment score on the scale of 1 to 5.\n",
        "- The goal was to build a model for text-classification.\n",
        "- We Pre-processed the data using variuos techniques and libraries.\n",
        "- The pre-precessed data is converted to numbers, so that we can feed the data in the model.\n",
        "- After building the classification model, we predicted the result for the test data.\n",
        "- After that we saw that using the above techniques, our model performed good in perspective of how the text classification models perform.\n",
        "- However, we can still increase the accuracy of our model by increasing the dataset we took into account for the model building (As the time was constraint here so we only used 50000 entries out of around 500000 entries, which means we built our model using 10% of dataset.)\n",
        "- One more way to increase accuracy is to use different variations of Pre-processing techniques."
      ]
    },
    {
      "cell_type": "code",
      "metadata": {
        "id": "mNKwpQ3Rv6u4"
      },
      "source": [
        "## What try after this \n",
        "# Better Word vectors   3\n",
        "# Error analysis and better data preprocessing   1  \n",
        "# Better models  2\n"
      ],
      "execution_count": null,
      "outputs": []
    },
    {
      "cell_type": "markdown",
      "metadata": {
        "id": "_Y5FeA5AiY2_"
      },
      "source": [
        "# Deep Neural Network"
      ]
    },
    {
      "cell_type": "code",
      "metadata": {
        "id": "WfCZ3CRkNA5x"
      },
      "source": [
        "# Deep Neural Network with Word Embeddings layer\n",
        "import tensorflow as tf\n",
        "from tensorflow.keras.preprocessing.text import Tokenizer\n",
        "from tensorflow.keras.preprocessing.sequence import pad_sequences"
      ],
      "execution_count": 190,
      "outputs": []
    },
    {
      "cell_type": "code",
      "metadata": {
        "id": "uP3t9sqdNBCP"
      },
      "source": [
        "#Split Training and Test data - performed before"
      ],
      "execution_count": 191,
      "outputs": []
    },
    {
      "cell_type": "code",
      "metadata": {
        "colab": {
          "base_uri": "https://localhost:8080/"
        },
        "id": "ItaSEsdFaFlQ",
        "outputId": "33ce4387-ea82-431f-f371-0b616a66ed33"
      },
      "source": [
        "length = 0\n",
        "for i in range(0,len(X_train)):\n",
        "  length = length + len(X_train[i])\n",
        "print('Avg Length of Sequences',length/X_train.shape[0])"
      ],
      "execution_count": 195,
      "outputs": [
        {
          "output_type": "stream",
          "text": [
            "Avg Length of Sequences 257.5393125\n"
          ],
          "name": "stdout"
        }
      ]
    },
    {
      "cell_type": "code",
      "metadata": {
        "id": "VRrJ_4vnNBK4"
      },
      "source": [
        "embedding_dim = 16\n",
        "max_length = 300\n",
        "trunc_type='post'\n",
        "oov_tok = \"<OOV>\"\n",
        "\n",
        "tokenizer = Tokenizer(num_words = 50000,oov_token=oov_tok)  # Keras Tokenizer\n",
        "tokenizer.fit_on_texts(X_train)\n",
        "\n",
        "vocab_size = len(tokenizer.word_index) + 1\n",
        "\n",
        "word_index = tokenizer.word_index\n",
        "X_train_tokenize = tokenizer.texts_to_sequences(X_train)\n",
        "padded = pad_sequences(X_train_tokenize,maxlen=max_length,truncating=trunc_type, padding='post')\n",
        "\n",
        "X_test_tokenize = tokenizer.texts_to_sequences(X_test)\n",
        "testing_padded = pad_sequences(X_test_tokenize,maxlen=max_length,truncating=trunc_type, padding='post')"
      ],
      "execution_count": 196,
      "outputs": []
    },
    {
      "cell_type": "code",
      "metadata": {
        "colab": {
          "base_uri": "https://localhost:8080/"
        },
        "id": "X0SCyLuLLPBL",
        "outputId": "ad7b3eb8-0f08-446e-8a3b-ac0233c270b2"
      },
      "source": [
        "#Vocab size\n",
        "len(tokenizer.word_index) + 1"
      ],
      "execution_count": 202,
      "outputs": [
        {
          "output_type": "execute_result",
          "data": {
            "text/plain": [
              "76375"
            ]
          },
          "metadata": {
            "tags": []
          },
          "execution_count": 202
        }
      ]
    },
    {
      "cell_type": "code",
      "metadata": {
        "colab": {
          "base_uri": "https://localhost:8080/"
        },
        "id": "818qJp1-ouPt",
        "outputId": "2805d1ff-483e-4800-ecef-c88629583a89"
      },
      "source": [
        "#Padded sequence used as input to Keras Model\n",
        "print(X_train[2])\n",
        "print(X_train_tokenize[2])\n",
        "print(padded[2])"
      ],
      "execution_count": 198,
      "outputs": [
        {
          "output_type": "stream",
          "text": [
            "enjoy taste tai peanut noodles rock peanutty flavor mmm decide try um ginger not much nothing really distinguish noodle flavor ginger bite overpoweringtake review stride though ginger lover not talk gilligan island may right alley bite outside though may mix metaphors\n",
            "[72, 4, 13237, 243, 342, 1252, 5681, 5, 4124, 242, 12, 5569, 256, 2, 26, 233, 24, 4215, 1033, 5, 256, 56, 31296, 88, 9440, 121, 256, 988, 2, 972, 8969, 2318, 157, 96, 6063, 56, 851, 121, 157, 50, 31297]\n",
            "[   72     4 13237   243   342  1252  5681     5  4124   242    12  5569\n",
            "   256     2    26   233    24  4215  1033     5   256    56 31296    88\n",
            "  9440   121   256   988     2   972  8969  2318   157    96  6063    56\n",
            "   851   121   157    50 31297     0     0     0     0     0     0     0\n",
            "     0     0     0     0     0     0     0     0     0     0     0     0\n",
            "     0     0     0     0     0     0     0     0     0     0     0     0\n",
            "     0     0     0     0     0     0     0     0     0     0     0     0\n",
            "     0     0     0     0     0     0     0     0     0     0     0     0\n",
            "     0     0     0     0     0     0     0     0     0     0     0     0\n",
            "     0     0     0     0     0     0     0     0     0     0     0     0\n",
            "     0     0     0     0     0     0     0     0     0     0     0     0\n",
            "     0     0     0     0     0     0     0     0     0     0     0     0\n",
            "     0     0     0     0     0     0     0     0     0     0     0     0\n",
            "     0     0     0     0     0     0     0     0     0     0     0     0\n",
            "     0     0     0     0     0     0     0     0     0     0     0     0\n",
            "     0     0     0     0     0     0     0     0     0     0     0     0\n",
            "     0     0     0     0     0     0     0     0     0     0     0     0\n",
            "     0     0     0     0     0     0     0     0     0     0     0     0\n",
            "     0     0     0     0     0     0     0     0     0     0     0     0\n",
            "     0     0     0     0     0     0     0     0     0     0     0     0\n",
            "     0     0     0     0     0     0     0     0     0     0     0     0\n",
            "     0     0     0     0     0     0     0     0     0     0     0     0\n",
            "     0     0     0     0     0     0     0     0     0     0     0     0\n",
            "     0     0     0     0     0     0     0     0     0     0     0     0\n",
            "     0     0     0     0     0     0     0     0     0     0     0     0]\n"
          ],
          "name": "stdout"
        }
      ]
    },
    {
      "cell_type": "code",
      "metadata": {
        "colab": {
          "base_uri": "https://localhost:8080/"
        },
        "id": "K_QYCfidplzQ",
        "outputId": "edea97c2-ac99-48c2-bfe0-7879c9ee7ffb"
      },
      "source": [
        "for word in ['cat', 'care', 'happy', 'sad']:\n",
        "    print('{}: {}'.format(word, tokenizer.word_index[word]))"
      ],
      "execution_count": 199,
      "outputs": [
        {
          "output_type": "stream",
          "text": [
            "cat: 63\n",
            "care: 384\n",
            "happy: 151\n",
            "sad: 1587\n"
          ],
          "name": "stdout"
        }
      ]
    },
    {
      "cell_type": "code",
      "metadata": {
        "colab": {
          "base_uri": "https://localhost:8080/",
          "height": 856
        },
        "id": "zkRoexcyOiH-",
        "outputId": "b4a72a0f-5d5d-4f82-c779-ac106698769c"
      },
      "source": [
        "#First Model - Word Embedding Vector with Dense Layers\n",
        "embedding_dim = 16\n",
        "model = tf.keras.Sequential([\n",
        "                             tf.keras.layers.Embedding(vocab_size,embedding_dim,input_length = max_length),\n",
        "                             tf.keras.layers.GlobalMaxPool1D(),\n",
        "                             tf.keras.layers.Dense(12,activation='relu'),\n",
        "                             tf.keras.layers.Dense(6,activation='softmax')\n",
        "])\n",
        "model.compile(loss='sparse_categorical_crossentropy',optimizer='adam',metrics=['accuracy'])\n",
        "model.summary()\n",
        "\n",
        "num_epochs = 8\n",
        "history = model.fit(padded,y_train,epochs = num_epochs,validation_data=(testing_padded,y_test))\n",
        "\n",
        "plt.plot(history.history['accuracy'], label='accuracy')\n",
        "plt.plot(history.history['val_accuracy'], label = 'val_accuracy')\n",
        "plt.xlabel('Epoch')\n",
        "plt.ylabel('Accuracy')\n",
        "plt.ylim([0, 1])\n",
        "plt.legend(loc='lower right');"
      ],
      "execution_count": 203,
      "outputs": [
        {
          "output_type": "stream",
          "text": [
            "Model: \"sequential_23\"\n",
            "_________________________________________________________________\n",
            "Layer (type)                 Output Shape              Param #   \n",
            "=================================================================\n",
            "embedding_25 (Embedding)     (None, 300, 16)           1222000   \n",
            "_________________________________________________________________\n",
            "global_max_pooling1d_11 (Glo (None, 16)                0         \n",
            "_________________________________________________________________\n",
            "dense_46 (Dense)             (None, 12)                204       \n",
            "_________________________________________________________________\n",
            "dense_47 (Dense)             (None, 6)                 78        \n",
            "=================================================================\n",
            "Total params: 1,222,282\n",
            "Trainable params: 1,222,282\n",
            "Non-trainable params: 0\n",
            "_________________________________________________________________\n",
            "Epoch 1/8\n",
            "2500/2500 [==============================] - 24s 9ms/step - loss: 1.1660 - accuracy: 0.6072 - val_loss: 0.8966 - val_accuracy: 0.6682\n",
            "Epoch 2/8\n",
            "2500/2500 [==============================] - 23s 9ms/step - loss: 0.8632 - accuracy: 0.6771 - val_loss: 0.8604 - val_accuracy: 0.6823\n",
            "Epoch 3/8\n",
            "2500/2500 [==============================] - 23s 9ms/step - loss: 0.8052 - accuracy: 0.6953 - val_loss: 0.8520 - val_accuracy: 0.6858\n",
            "Epoch 4/8\n",
            "2500/2500 [==============================] - 23s 9ms/step - loss: 0.7687 - accuracy: 0.7080 - val_loss: 0.8525 - val_accuracy: 0.6893\n",
            "Epoch 5/8\n",
            "2500/2500 [==============================] - 22s 9ms/step - loss: 0.7428 - accuracy: 0.7139 - val_loss: 0.8566 - val_accuracy: 0.6852\n",
            "Epoch 6/8\n",
            "2500/2500 [==============================] - 23s 9ms/step - loss: 0.7111 - accuracy: 0.7278 - val_loss: 0.8604 - val_accuracy: 0.6877\n",
            "Epoch 7/8\n",
            "2500/2500 [==============================] - 23s 9ms/step - loss: 0.6949 - accuracy: 0.7346 - val_loss: 0.8678 - val_accuracy: 0.6846\n",
            "Epoch 8/8\n",
            "2500/2500 [==============================] - 23s 9ms/step - loss: 0.6695 - accuracy: 0.7432 - val_loss: 0.8832 - val_accuracy: 0.6864\n"
          ],
          "name": "stdout"
        },
        {
          "output_type": "display_data",
          "data": {
            "image/png": "[encoded data removed]",
            "text/plain": [
              "<Figure size 432x288 with 1 Axes>"
            ]
          },
          "metadata": {
            "tags": [],
            "needs_background": "light"
          }
        }
      ]
    },
    {
      "cell_type": "code",
      "metadata": {
        "colab": {
          "base_uri": "https://localhost:8080/"
        },
        "id": "yFzeJKn-X0dB",
        "outputId": "d13bba8b-38f0-41dc-c259-c9250acc3aee"
      },
      "source": [
        "# Each word in Vocab with embedding vector\n",
        "e =model.layers[0]\n",
        "weights = e.get_weights()[0]\n",
        "print(weights.shape) #shape:(vocab_size,embedding_dim)"
      ],
      "execution_count": 206,
      "outputs": [
        {
          "output_type": "stream",
          "text": [
            "(76375, 16)\n"
          ],
          "name": "stdout"
        }
      ]
    },
    {
      "cell_type": "code",
      "metadata": {
        "colab": {
          "base_uri": "https://localhost:8080/"
        },
        "id": "dx0XJMWAcenI",
        "outputId": "ff78684e-a01d-40cc-a58f-447db29cddc3"
      },
      "source": [
        "#Vector of 16 for each word\n",
        "weights[0]"
      ],
      "execution_count": 207,
      "outputs": [
        {
          "output_type": "execute_result",
          "data": {
            "text/plain": [
              "array([ 0.45196706, -0.14275515, -0.15789297, -0.15244631, -0.15752545,\n",
              "       -0.14327328, -0.20716304,  0.07475207, -0.13036925, -0.14821813,\n",
              "       -0.24239212,  0.15213083, -0.29318622, -0.11901312, -0.22929327,\n",
              "       -0.24422161], dtype=float32)"
            ]
          },
          "metadata": {
            "tags": []
          },
          "execution_count": 207
        }
      ]
    },
    {
      "cell_type": "code",
      "metadata": {
        "id": "LMOe2wuChlMA"
      },
      "source": [
        "## Model using Pretrained Embedding Weights - Glove Method\n",
        "\n",
        "def create_embedding_matrix(filepath, word_index, embedding_dim):\n",
        "    vocab_size = len(word_index) + 1  # Adding again 1 because of reserved 0 index\n",
        "    embedding_matrix = np.zeros((vocab_size, embedding_dim))\n",
        "\n",
        "    with open(filepath) as f:\n",
        "        for line in f:\n",
        "            word, *vector = line.split()\n",
        "            if word in word_index:\n",
        "                idx = word_index[word] \n",
        "                embedding_matrix[idx] = np.array(\n",
        "                    vector, dtype=np.float32)[:embedding_dim]\n",
        "\n",
        "    return embedding_matrix"
      ],
      "execution_count": 208,
      "outputs": []
    },
    {
      "cell_type": "code",
      "metadata": {
        "id": "ESDBU0bWn4bO"
      },
      "source": [
        "filepath = \"/content/drive/My Drive/GL_Mentor/Data/glove.6B/glove.6B.300d.txt\"\n",
        "embedding_matrix = create_embedding_matrix(filepath,tokenizer.word_index, embedding_dim)"
      ],
      "execution_count": 209,
      "outputs": []
    },
    {
      "cell_type": "code",
      "metadata": {
        "colab": {
          "base_uri": "https://localhost:8080/",
          "height": 925
        },
        "id": "q3BY7ugGq4kU",
        "outputId": "90f32d39-17eb-45f9-8204-a855c83bc446"
      },
      "source": [
        "#Model 2 - Keras model with pretrained embedding vectors\n",
        "#The glove file can be obtained at https://github.com/stanfordnlp/GloVe\n",
        "embedding_dim = 16\n",
        "model_glove = tf.keras.Sequential([\n",
        "                             tf.keras.layers.Embedding(vocab_size,embedding_dim,weights=[embedding_matrix],input_length = max_length),\n",
        "                             tf.keras.layers.GlobalMaxPool1D(),\n",
        "                             tf.keras.layers.Dense(12,activation='relu'),\n",
        "                             tf.keras.layers.Dense(6,activation='softmax')\n",
        "])\n",
        "model_glove.compile(loss='sparse_categorical_crossentropy',optimizer='adam',metrics=['accuracy'])\n",
        "model_glove.summary()\n",
        "\n",
        "num_epochs = 10\n",
        "history_glove = model_glove.fit(padded,y_train,epochs = num_epochs,validation_data=(testing_padded,y_test))\n",
        "\n",
        "plt.plot(history_glove.history['accuracy'], label='accuracy')\n",
        "plt.plot(history_glove.history['val_accuracy'], label = 'val_accuracy')\n",
        "plt.xlabel('Epoch')\n",
        "plt.ylabel('Accuracy')\n",
        "plt.ylim([0, 1])\n",
        "plt.legend(loc='lower right');"
      ],
      "execution_count": 212,
      "outputs": [
        {
          "output_type": "stream",
          "text": [
            "Model: \"sequential_24\"\n",
            "_________________________________________________________________\n",
            "Layer (type)                 Output Shape              Param #   \n",
            "=================================================================\n",
            "embedding_26 (Embedding)     (None, 300, 16)           1222000   \n",
            "_________________________________________________________________\n",
            "global_max_pooling1d_12 (Glo (None, 16)                0         \n",
            "_________________________________________________________________\n",
            "dense_48 (Dense)             (None, 12)                204       \n",
            "_________________________________________________________________\n",
            "dense_49 (Dense)             (None, 6)                 78        \n",
            "=================================================================\n",
            "Total params: 1,222,282\n",
            "Trainable params: 1,222,282\n",
            "Non-trainable params: 0\n",
            "_________________________________________________________________\n",
            "Epoch 1/10\n",
            "2500/2500 [==============================] - 23s 9ms/step - loss: 1.2256 - accuracy: 0.5731 - val_loss: 0.9728 - val_accuracy: 0.6532\n",
            "Epoch 2/10\n",
            "2500/2500 [==============================] - 23s 9ms/step - loss: 0.9349 - accuracy: 0.6581 - val_loss: 0.9113 - val_accuracy: 0.6665\n",
            "Epoch 3/10\n",
            "2500/2500 [==============================] - 23s 9ms/step - loss: 0.8660 - accuracy: 0.6758 - val_loss: 0.8857 - val_accuracy: 0.6751\n",
            "Epoch 4/10\n",
            "2500/2500 [==============================] - 23s 9ms/step - loss: 0.8242 - accuracy: 0.6901 - val_loss: 0.8744 - val_accuracy: 0.6784\n",
            "Epoch 5/10\n",
            "2500/2500 [==============================] - 22s 9ms/step - loss: 0.7947 - accuracy: 0.6979 - val_loss: 0.8684 - val_accuracy: 0.6809\n",
            "Epoch 6/10\n",
            "2500/2500 [==============================] - 22s 9ms/step - loss: 0.7704 - accuracy: 0.7064 - val_loss: 0.8676 - val_accuracy: 0.6820\n",
            "Epoch 7/10\n",
            "2500/2500 [==============================] - 22s 9ms/step - loss: 0.7513 - accuracy: 0.7102 - val_loss: 0.8697 - val_accuracy: 0.6833\n",
            "Epoch 8/10\n",
            "2500/2500 [==============================] - 22s 9ms/step - loss: 0.7360 - accuracy: 0.7175 - val_loss: 0.8751 - val_accuracy: 0.6825\n",
            "Epoch 9/10\n",
            "2500/2500 [==============================] - 23s 9ms/step - loss: 0.7238 - accuracy: 0.7216 - val_loss: 0.8811 - val_accuracy: 0.6822\n",
            "Epoch 10/10\n",
            "2500/2500 [==============================] - 22s 9ms/step - loss: 0.7021 - accuracy: 0.7301 - val_loss: 0.8852 - val_accuracy: 0.6811\n"
          ],
          "name": "stdout"
        },
        {
          "output_type": "display_data",
          "data": {
            "image/png": "[encoded data removed]",
            "text/plain": [
              "<Figure size 432x288 with 1 Axes>"
            ]
          },
          "metadata": {
            "tags": [],
            "needs_background": "light"
          }
        }
      ]
    },
    {
      "cell_type": "code",
      "metadata": {
        "colab": {
          "base_uri": "https://localhost:8080/"
        },
        "id": "AJTBt3IBrU7L",
        "outputId": "cda2f181-daf9-4735-f475-05f3bc73a6d9"
      },
      "source": [
        "#Lof of word vectors in current Vocab not in Glove Pretrained vector list\n",
        "nonzero_elements = np.count_nonzero(np.count_nonzero(embedding_matrix, axis=1))\n",
        "print(nonzero_elements / vocab_size)"
      ],
      "execution_count": 213,
      "outputs": [
        {
          "output_type": "stream",
          "text": [
            "0.35948936170212764\n"
          ],
          "name": "stdout"
        }
      ]
    },
    {
      "cell_type": "code",
      "metadata": {
        "colab": {
          "base_uri": "https://localhost:8080/",
          "height": 925
        },
        "id": "Fq8TbWE8r3P8",
        "outputId": "a6be85fb-975e-4a1d-9fc3-4255d1e480df"
      },
      "source": [
        "#Model using LSTM - No performance model using LSTM and other similar models\n",
        "model_lstm = tf.keras.Sequential([\n",
        "                             tf.keras.layers.Embedding(vocab_size,embedding_dim,input_length = max_length),\n",
        "                             tf.keras.layers.LSTM(16),\n",
        "                             tf.keras.layers.Dense(12,activation='relu'),\n",
        "                             tf.keras.layers.Dense(6,activation='softmax')\n",
        "])\n",
        "model_lstm.compile(loss='sparse_categorical_crossentropy',optimizer='adam',metrics=['accuracy'])\n",
        "model_lstm.summary()\n",
        "\n",
        "num_epochs = 10\n",
        "history_lstm = model_lstm.fit(padded,y_train,epochs = num_epochs,validation_data=(testing_padded,y_test))\n",
        "\n",
        "plt.plot(history_lstm.history['accuracy'], label='accuracy')\n",
        "plt.plot(history_lstm.history['val_accuracy'], label = 'val_accuracy')\n",
        "plt.xlabel('Epoch')\n",
        "plt.ylabel('Accuracy')\n",
        "plt.ylim([0, 1])\n",
        "plt.legend(loc='lower right');"
      ],
      "execution_count": 214,
      "outputs": [
        {
          "output_type": "stream",
          "text": [
            "Model: \"sequential_25\"\n",
            "_________________________________________________________________\n",
            "Layer (type)                 Output Shape              Param #   \n",
            "=================================================================\n",
            "embedding_27 (Embedding)     (None, 300, 16)           1222000   \n",
            "_________________________________________________________________\n",
            "lstm_11 (LSTM)               (None, 16)                2112      \n",
            "_________________________________________________________________\n",
            "dense_50 (Dense)             (None, 12)                204       \n",
            "_________________________________________________________________\n",
            "dense_51 (Dense)             (None, 6)                 78        \n",
            "=================================================================\n",
            "Total params: 1,224,394\n",
            "Trainable params: 1,224,394\n",
            "Non-trainable params: 0\n",
            "_________________________________________________________________\n",
            "Epoch 1/10\n",
            "2500/2500 [==============================] - 51s 20ms/step - loss: 1.2273 - accuracy: 0.6119 - val_loss: 1.1613 - val_accuracy: 0.6245\n",
            "Epoch 2/10\n",
            "2500/2500 [==============================] - 50s 20ms/step - loss: 1.1613 - accuracy: 0.6246 - val_loss: 1.1616 - val_accuracy: 0.6245\n",
            "Epoch 3/10\n",
            "2500/2500 [==============================] - 49s 19ms/step - loss: 1.1563 - accuracy: 0.6267 - val_loss: 1.1597 - val_accuracy: 0.6245\n",
            "Epoch 4/10\n",
            "2500/2500 [==============================] - 49s 20ms/step - loss: 1.1574 - accuracy: 0.6257 - val_loss: 1.1600 - val_accuracy: 0.6245\n",
            "Epoch 5/10\n",
            "2500/2500 [==============================] - 50s 20ms/step - loss: 1.1588 - accuracy: 0.6248 - val_loss: 1.1619 - val_accuracy: 0.6248\n",
            "Epoch 6/10\n",
            "2500/2500 [==============================] - 50s 20ms/step - loss: 1.1575 - accuracy: 0.6264 - val_loss: 1.1607 - val_accuracy: 0.6246\n",
            "Epoch 7/10\n",
            "2500/2500 [==============================] - 49s 19ms/step - loss: 1.1603 - accuracy: 0.6249 - val_loss: 1.1595 - val_accuracy: 0.6247\n",
            "Epoch 8/10\n",
            "2500/2500 [==============================] - 48s 19ms/step - loss: 1.1521 - accuracy: 0.6282 - val_loss: 1.1608 - val_accuracy: 0.6245\n",
            "Epoch 9/10\n",
            "2500/2500 [==============================] - 49s 19ms/step - loss: 1.1687 - accuracy: 0.6208 - val_loss: 1.1596 - val_accuracy: 0.6246\n",
            "Epoch 10/10\n",
            "2500/2500 [==============================] - 49s 20ms/step - loss: 1.1562 - accuracy: 0.6258 - val_loss: 1.1599 - val_accuracy: 0.6245\n"
          ],
          "name": "stdout"
        },
        {
          "output_type": "display_data",
          "data": {
            "image/png": "[encoded data removed]",
            "text/plain": [
              "<Figure size 432x288 with 1 Axes>"
            ]
          },
          "metadata": {
            "tags": [],
            "needs_background": "light"
          }
        }
      ]
    },
    {
      "cell_type": "code",
      "metadata": {
        "colab": {
          "base_uri": "https://localhost:8080/",
          "height": 994
        },
        "id": "H7v396Su0KmY",
        "outputId": "1b55de82-a74e-4920-a7cc-a04f0f8d2f6f"
      },
      "source": [
        "#Model using Bidirectional LSTM \n",
        "model_bilstm = tf.keras.Sequential([\n",
        "                             tf.keras.layers.Embedding(vocab_size,embedding_dim,input_length = max_length),\n",
        "                             tf.keras.layers.Bidirectional(tf.keras.layers.LSTM(32)),\n",
        "                             tf.keras.layers.Dense(12,activation='relu'),\n",
        "                             tf.keras.layers.Dense(6,activation='softmax')\n",
        "])\n",
        "model_bilstm.compile(loss='sparse_categorical_crossentropy',optimizer='adam',metrics=['accuracy'])\n",
        "model_bilstm.summary()\n",
        "num_epochs = 12\n",
        "history_bilstm = model_lstm.fit(padded,y_train,epochs = num_epochs,validation_data=(testing_padded,y_test))\n",
        "\n",
        "plt.plot(history_bilstm.history['accuracy'], label='accuracy')\n",
        "plt.plot(history_bilstm.history['val_accuracy'], label = 'val_accuracy')\n",
        "plt.xlabel('Epoch')\n",
        "plt.ylabel('Accuracy')\n",
        "plt.ylim([0, 1])\n",
        "plt.legend(loc='lower right');"
      ],
      "execution_count": 135,
      "outputs": [
        {
          "output_type": "stream",
          "text": [
            "Model: \"sequential_19\"\n",
            "_________________________________________________________________\n",
            "Layer (type)                 Output Shape              Param #   \n",
            "=================================================================\n",
            "embedding_21 (Embedding)     (None, 500, 16)           1221584   \n",
            "_________________________________________________________________\n",
            "bidirectional (Bidirectional (None, 64)                12544     \n",
            "_________________________________________________________________\n",
            "dense_38 (Dense)             (None, 12)                780       \n",
            "_________________________________________________________________\n",
            "dense_39 (Dense)             (None, 6)                 78        \n",
            "=================================================================\n",
            "Total params: 1,234,986\n",
            "Trainable params: 1,234,986\n",
            "Non-trainable params: 0\n",
            "_________________________________________________________________\n",
            "Epoch 1/12\n",
            "2500/2500 [==============================] - 60s 24ms/step - loss: 1.1609 - accuracy: 0.6241 - val_loss: 1.1626 - val_accuracy: 0.6231\n",
            "Epoch 2/12\n",
            "2500/2500 [==============================] - 59s 24ms/step - loss: 1.1604 - accuracy: 0.6245 - val_loss: 1.1622 - val_accuracy: 0.6231\n",
            "Epoch 3/12\n",
            "2500/2500 [==============================] - 60s 24ms/step - loss: 1.1605 - accuracy: 0.6245 - val_loss: 1.1629 - val_accuracy: 0.6231\n",
            "Epoch 4/12\n",
            "2500/2500 [==============================] - 59s 24ms/step - loss: 1.1603 - accuracy: 0.6245 - val_loss: 1.1620 - val_accuracy: 0.6231\n",
            "Epoch 5/12\n",
            "2500/2500 [==============================] - 60s 24ms/step - loss: 1.1603 - accuracy: 0.6245 - val_loss: 1.1624 - val_accuracy: 0.6231\n",
            "Epoch 6/12\n",
            "2500/2500 [==============================] - 61s 24ms/step - loss: 1.1603 - accuracy: 0.6245 - val_loss: 1.1623 - val_accuracy: 0.6231\n",
            "Epoch 7/12\n",
            "2500/2500 [==============================] - 60s 24ms/step - loss: 1.1602 - accuracy: 0.6245 - val_loss: 1.1621 - val_accuracy: 0.6231\n",
            "Epoch 8/12\n",
            "2500/2500 [==============================] - 60s 24ms/step - loss: 1.1603 - accuracy: 0.6245 - val_loss: 1.1620 - val_accuracy: 0.6230\n",
            "Epoch 9/12\n",
            "2500/2500 [==============================] - 60s 24ms/step - loss: 1.1569 - accuracy: 0.6245 - val_loss: 1.1572 - val_accuracy: 0.6230\n",
            "Epoch 10/12\n",
            "2500/2500 [==============================] - 59s 24ms/step - loss: 1.1549 - accuracy: 0.6243 - val_loss: 1.1564 - val_accuracy: 0.6230\n",
            "Epoch 11/12\n",
            "2500/2500 [==============================] - 59s 24ms/step - loss: 1.1534 - accuracy: 0.6246 - val_loss: 1.1559 - val_accuracy: 0.6230\n",
            "Epoch 12/12\n",
            "2500/2500 [==============================] - 59s 24ms/step - loss: 1.1531 - accuracy: 0.6246 - val_loss: 1.1559 - val_accuracy: 0.6230\n"
          ],
          "name": "stdout"
        },
        {
          "output_type": "display_data",
          "data": {
            "image/png": "[encoded data removed]",
            "text/plain": [
              "<Figure size 432x288 with 1 Axes>"
            ]
          },
          "metadata": {
            "tags": [],
            "needs_background": "light"
          }
        }
      ]
    },
    {
      "cell_type": "code",
      "metadata": {
        "colab": {
          "base_uri": "https://localhost:8080/",
          "height": 959
        },
        "id": "lq3H0EfnejYU",
        "outputId": "fa8b2644-f561-4492-f0c1-cb82f6c9b00b"
      },
      "source": [
        "#Model using Conv1D & LSTM\n",
        "model_conv1d_lstm = tf.keras.Sequential([\n",
        "                             tf.keras.layers.Embedding(vocab_size,embedding_dim,input_length = max_length),\n",
        "                             tf.keras.layers.Conv1D(20, 6, activation='relu'), # 20 filters\n",
        "                             tf.keras.layers.LSTM(16),\n",
        "                             tf.keras.layers.Dense(12,activation='relu'),\n",
        "                             tf.keras.layers.Dense(6,activation='softmax')\n",
        "])\n",
        "model_conv1d_lstm.compile(loss='sparse_categorical_crossentropy',optimizer='adam',metrics=['accuracy'])\n",
        "model_conv1d_lstm.summary()\n",
        "\n",
        "num_epochs = 10\n",
        "history_conv1d_lstm = model_conv1d_lstm.fit(padded,y_train,epochs = num_epochs,validation_data=(testing_padded,y_test))\n",
        "\n",
        "plt.plot(history_conv1d_lstm.history['accuracy'], label='accuracy')\n",
        "plt.plot(history_conv1d_lstm.history['val_accuracy'], label = 'val_accuracy')\n",
        "plt.xlabel('Epoch')\n",
        "plt.ylabel('Accuracy')\n",
        "plt.ylim([0, 1])\n",
        "plt.legend(loc='lower right');"
      ],
      "execution_count": 215,
      "outputs": [
        {
          "output_type": "stream",
          "text": [
            "Model: \"sequential_26\"\n",
            "_________________________________________________________________\n",
            "Layer (type)                 Output Shape              Param #   \n",
            "=================================================================\n",
            "embedding_28 (Embedding)     (None, 300, 16)           1222000   \n",
            "_________________________________________________________________\n",
            "conv1d (Conv1D)              (None, 295, 20)           1940      \n",
            "_________________________________________________________________\n",
            "lstm_12 (LSTM)               (None, 16)                2368      \n",
            "_________________________________________________________________\n",
            "dense_52 (Dense)             (None, 12)                204       \n",
            "_________________________________________________________________\n",
            "dense_53 (Dense)             (None, 6)                 78        \n",
            "=================================================================\n",
            "Total params: 1,226,590\n",
            "Trainable params: 1,226,590\n",
            "Non-trainable params: 0\n",
            "_________________________________________________________________\n",
            "Epoch 1/10\n",
            "2500/2500 [==============================] - 51s 20ms/step - loss: 1.2039 - accuracy: 0.6246 - val_loss: 1.1606 - val_accuracy: 0.6246\n",
            "Epoch 2/10\n",
            "2500/2500 [==============================] - 48s 19ms/step - loss: 1.1583 - accuracy: 0.6264 - val_loss: 1.1623 - val_accuracy: 0.6246\n",
            "Epoch 3/10\n",
            "2500/2500 [==============================] - 49s 20ms/step - loss: 1.1735 - accuracy: 0.6131 - val_loss: 1.1594 - val_accuracy: 0.6246\n",
            "Epoch 4/10\n",
            "2500/2500 [==============================] - 49s 20ms/step - loss: 1.1611 - accuracy: 0.6237 - val_loss: 1.1593 - val_accuracy: 0.6248\n",
            "Epoch 5/10\n",
            "2500/2500 [==============================] - 49s 20ms/step - loss: 1.1567 - accuracy: 0.6263 - val_loss: 1.1594 - val_accuracy: 0.6246\n",
            "Epoch 6/10\n",
            "2500/2500 [==============================] - 49s 20ms/step - loss: 1.1614 - accuracy: 0.6234 - val_loss: 1.1596 - val_accuracy: 0.6245\n",
            "Epoch 7/10\n",
            "2500/2500 [==============================] - 49s 20ms/step - loss: 1.1578 - accuracy: 0.6255 - val_loss: 1.1595 - val_accuracy: 0.6245\n",
            "Epoch 8/10\n",
            "2500/2500 [==============================] - 49s 20ms/step - loss: 1.1575 - accuracy: 0.6251 - val_loss: 1.1600 - val_accuracy: 0.6242\n",
            "Epoch 9/10\n",
            "2500/2500 [==============================] - 50s 20ms/step - loss: 1.1408 - accuracy: 0.6248 - val_loss: 1.0240 - val_accuracy: 0.6245\n",
            "Epoch 10/10\n",
            "2500/2500 [==============================] - 51s 20ms/step - loss: 0.9971 - accuracy: 0.6374 - val_loss: 1.0028 - val_accuracy: 0.6603\n"
          ],
          "name": "stdout"
        },
        {
          "output_type": "display_data",
          "data": {
            "image/png": "[encoded data removed]",
            "text/plain": [
              "<Figure size 432x288 with 1 Axes>"
            ]
          },
          "metadata": {
            "tags": [],
            "needs_background": "light"
          }
        }
      ]
    },
    {
      "cell_type": "code",
      "metadata": {
        "colab": {
          "base_uri": "https://localhost:8080/",
          "height": 959
        },
        "id": "_r6_TwcH4vXB",
        "outputId": "3e991871-bd7e-4a51-b37b-b1e9dc9ec833"
      },
      "source": [
        "#Model using Deep LSTM - 2 LSTM layers\n",
        "model_deeplstm = tf.keras.Sequential([\n",
        "                             tf.keras.layers.Embedding(vocab_size,embedding_dim,input_length = max_length),\n",
        "                             tf.keras.layers.LSTM(32,return_sequences=True),\n",
        "                             tf.keras.layers.LSTM(16),\n",
        "                             tf.keras.layers.Dense(12,activation='relu'),\n",
        "                             tf.keras.layers.Dense(6,activation='softmax')\n",
        "])\n",
        "model_deeplstm.compile(loss='sparse_categorical_crossentropy',optimizer='adam',metrics=['accuracy'])\n",
        "model_deeplstm.summary()\n",
        "\n",
        "num_epochs = 10\n",
        "history_deeplstm = model_deeplstm.fit(padded,y_train,epochs = num_epochs,validation_data=(testing_padded,y_test))\n",
        "\n",
        "plt.plot(history_deeplstm.history['accuracy'], label='accuracy')\n",
        "plt.plot(history_deeplstm.history['val_accuracy'], label = 'val_accuracy')\n",
        "plt.xlabel('Epoch')\n",
        "plt.ylabel('Accuracy')\n",
        "plt.ylim([0, 1])\n",
        "plt.legend(loc='lower right');"
      ],
      "execution_count": 137,
      "outputs": [
        {
          "output_type": "stream",
          "text": [
            "Model: \"sequential_21\"\n",
            "_________________________________________________________________\n",
            "Layer (type)                 Output Shape              Param #   \n",
            "=================================================================\n",
            "embedding_23 (Embedding)     (None, 500, 16)           1221584   \n",
            "_________________________________________________________________\n",
            "lstm_9 (LSTM)                (None, 500, 32)           6272      \n",
            "_________________________________________________________________\n",
            "lstm_10 (LSTM)               (None, 16)                3136      \n",
            "_________________________________________________________________\n",
            "dense_42 (Dense)             (None, 12)                204       \n",
            "_________________________________________________________________\n",
            "dense_43 (Dense)             (None, 6)                 78        \n",
            "=================================================================\n",
            "Total params: 1,231,274\n",
            "Trainable params: 1,231,274\n",
            "Non-trainable params: 0\n",
            "_________________________________________________________________\n",
            "Epoch 1/10\n",
            "2500/2500 [==============================] - 102s 40ms/step - loss: 1.2105 - accuracy: 0.6164 - val_loss: 1.1624 - val_accuracy: 0.6231\n",
            "Epoch 2/10\n",
            "2500/2500 [==============================] - 97s 39ms/step - loss: 1.1586 - accuracy: 0.6251 - val_loss: 1.1627 - val_accuracy: 0.6231\n",
            "Epoch 3/10\n",
            "2500/2500 [==============================] - 96s 38ms/step - loss: 1.1655 - accuracy: 0.6223 - val_loss: 1.1629 - val_accuracy: 0.6231\n",
            "Epoch 4/10\n",
            "2500/2500 [==============================] - 97s 39ms/step - loss: 1.1566 - accuracy: 0.6271 - val_loss: 1.1674 - val_accuracy: 0.6231\n",
            "Epoch 5/10\n",
            "2500/2500 [==============================] - 96s 39ms/step - loss: 1.1646 - accuracy: 0.6229 - val_loss: 1.1633 - val_accuracy: 0.6231\n",
            "Epoch 6/10\n",
            "2500/2500 [==============================] - 96s 38ms/step - loss: 1.1633 - accuracy: 0.6237 - val_loss: 1.1626 - val_accuracy: 0.6231\n",
            "Epoch 7/10\n",
            "2500/2500 [==============================] - 97s 39ms/step - loss: 1.1626 - accuracy: 0.6233 - val_loss: 1.1622 - val_accuracy: 0.6231\n",
            "Epoch 8/10\n",
            "2500/2500 [==============================] - 97s 39ms/step - loss: 1.1634 - accuracy: 0.6224 - val_loss: 1.1652 - val_accuracy: 0.6231\n",
            "Epoch 9/10\n",
            "2500/2500 [==============================] - 100s 40ms/step - loss: 1.1657 - accuracy: 0.6219 - val_loss: 1.1621 - val_accuracy: 0.6231\n",
            "Epoch 10/10\n",
            "2500/2500 [==============================] - 99s 40ms/step - loss: 1.1614 - accuracy: 0.6247 - val_loss: 1.1629 - val_accuracy: 0.6231\n"
          ],
          "name": "stdout"
        },
        {
          "output_type": "display_data",
          "data": {
            "image/png": "[encoded data removed]",
            "text/plain": [
              "<Figure size 432x288 with 1 Axes>"
            ]
          },
          "metadata": {
            "tags": [],
            "needs_background": "light"
          }
        }
      ]
    },
    {
      "cell_type": "code",
      "metadata": {
        "id": "W61CN0QH-C2Y"
      },
      "source": [
        ""
      ],
      "execution_count": null,
      "outputs": []
    }
  ]
}