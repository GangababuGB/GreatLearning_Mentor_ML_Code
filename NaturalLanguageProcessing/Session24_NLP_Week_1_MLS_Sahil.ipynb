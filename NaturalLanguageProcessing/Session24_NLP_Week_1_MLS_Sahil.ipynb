{
  "nbformat": 4,
  "nbformat_minor": 0,
  "metadata": {
    "colab": {
      "name": "NLP_Week_1_MLS_Sahil.ipynb",
      "provenance": [],
      "collapsed_sections": []
    },
    "kernelspec": {
      "display_name": "Python 3",
      "language": "python",
      "name": "python3"
    },
    "language_info": {
      "codemirror_mode": {
        "name": "ipython",
        "version": 3
      },
      "file_extension": ".py",
      "mimetype": "text/x-python",
      "name": "python",
      "nbconvert_exporter": "python",
      "pygments_lexer": "ipython3",
      "version": "3.8.5"
    }
  },
  "cells": [
    {
      "cell_type": "markdown",
      "metadata": {
        "id": "ZeKZ7nX1_1uv"
      },
      "source": [
        "# Need for Pre-processing:\n",
        "\n",
        "- Inconsistent results from the NLP applications can be minimized if we use right kind of preprocessing on text.\n",
        "- One type of pre-processing may not be suitable for other, so it's task dependent.\n",
        "- Let’s say you are trying to discover commonly used words in a news dataset. If your pre-processing step involves removing stop words because some other task used it, then you are probably going to miss out on some of the common words as you have ALREADY eliminated it. So really, it’s not a one-size-fits-all approach.\n",
        "\n"
      ]
    },
    {
      "cell_type": "markdown",
      "metadata": {
        "id": "CcOcSW6UBYQC"
      },
      "source": [
        "# Dataset:\n",
        "\n",
        "- A data which contains what corporations actually talk about on social media. The dataset has statements classified as information (objective statements about the company or it's activities), dialog (replies to users, etc.), or action (messages that ask for votes or ask users to click on links, etc.).\n",
        "- Our interest is in the text column of dataset, so we can apply pre-processing on it."
      ]
    },
    {
      "cell_type": "markdown",
      "metadata": {
        "id": "QXW3I0lZEWvf"
      },
      "source": [
        "# Types of text preprocessing techniques\n",
        "\n",
        "- There are different ways to preprocess your text. Here are some of the approaches that you should know about and I will highlight the importance of each."
      ]
    },
    {
      "cell_type": "code",
      "metadata": {
        "colab": {
          "base_uri": "https://localhost:8080/"
        },
        "id": "vUXKncQV8ipt",
        "outputId": "a1a813dd-07d2-436c-c76f-36e88d6351c2"
      },
      "source": [
        "!pip install contractions"
      ],
      "execution_count": 2,
      "outputs": [
        {
          "output_type": "stream",
          "text": [
            "Collecting contractions\n",
            "  Downloading https://files.pythonhosted.org/packages/0a/04/d5e0bb9f2cef5d15616ebf68087a725c5dbdd71bd422bcfb35d709f98ce7/contractions-0.0.48-py2.py3-none-any.whl\n",
            "Collecting textsearch>=0.0.21\n",
            "  Downloading https://files.pythonhosted.org/packages/d3/fe/021d7d76961b5ceb9f8d022c4138461d83beff36c3938dc424586085e559/textsearch-0.0.21-py2.py3-none-any.whl\n",
            "Collecting anyascii\n",
            "\u001b[?25l  Downloading https://files.pythonhosted.org/packages/09/c7/61370d9e3c349478e89a5554c1e5d9658e1e3116cc4f2528f568909ebdf1/anyascii-0.1.7-py3-none-any.whl (260kB)\n",
            "\u001b[K     |████████████████████████████████| 266kB 4.6MB/s \n",
            "\u001b[?25hCollecting pyahocorasick\n",
            "\u001b[?25l  Downloading https://files.pythonhosted.org/packages/4a/92/b3c70b8cf2b76f7e3e8b7243d6f06f7cb3bab6ada237b1bce57604c5c519/pyahocorasick-1.4.1.tar.gz (321kB)\n",
            "\u001b[K     |████████████████████████████████| 327kB 7.9MB/s \n",
            "\u001b[?25hBuilding wheels for collected packages: pyahocorasick\n",
            "  Building wheel for pyahocorasick (setup.py) ... \u001b[?25l\u001b[?25hdone\n",
            "  Created wheel for pyahocorasick: filename=pyahocorasick-1.4.1-cp37-cp37m-linux_x86_64.whl size=85249 sha256=7467cc09613074502ee478ba1d6506e73f1fbec5dac20ddb97b53938b93bba95\n",
            "  Stored in directory: /root/.cache/pip/wheels/e4/ab/f7/cb39270df8f6126f3dd4c33d302357167086db460968cfc80c\n",
            "Successfully built pyahocorasick\n",
            "Installing collected packages: anyascii, pyahocorasick, textsearch, contractions\n",
            "Successfully installed anyascii-0.1.7 contractions-0.0.48 pyahocorasick-1.4.1 textsearch-0.0.21\n"
          ],
          "name": "stdout"
        }
      ]
    },
    {
      "cell_type": "code",
      "metadata": {
        "colab": {
          "base_uri": "https://localhost:8080/"
        },
        "id": "TxY2eWSrJuBk",
        "outputId": "6d3ca1ad-f205-4c04-bed1-c34e1123cb8e"
      },
      "source": [
        "# Import necessary libraries.\n",
        "import re, string, unicodedata\n",
        "import pandas as pd\n",
        "import nltk           \n",
        "                        # Natural language processing tool-kit\n",
        "nltk.download('punkt')\n",
        "nltk.download('stopwords')\n",
        "nltk.download('wordnet')\n",
        "\n",
        "\n",
        "import contractions\n",
        "\n",
        "\n",
        "from bs4 import BeautifulSoup                 # Beautiful soup is a parsing library that can use different parsers.\n",
        "from nltk import word_tokenize, sent_tokenize\n",
        "from nltk.corpus import stopwords, wordnet    # Stopwords, and wordnet corpus\n",
        "from nltk.stem import LancasterStemmer, WordNetLemmatizer"
      ],
      "execution_count": 3,
      "outputs": [
        {
          "output_type": "stream",
          "text": [
            "[nltk_data] Downloading package punkt to /root/nltk_data...\n",
            "[nltk_data]   Package punkt is already up-to-date!\n",
            "[nltk_data] Downloading package stopwords to /root/nltk_data...\n",
            "[nltk_data]   Package stopwords is already up-to-date!\n",
            "[nltk_data] Downloading package wordnet to /root/nltk_data...\n",
            "[nltk_data]   Package wordnet is already up-to-date!\n"
          ],
          "name": "stdout"
        }
      ]
    },
    {
      "cell_type": "code",
      "metadata": {
        "colab": {
          "base_uri": "https://localhost:8080/"
        },
        "id": "o0xyAAkt9jgM",
        "outputId": "13f058b8-1107-426d-cca4-fbaa78918d28"
      },
      "source": [
        "from google.colab import drive\n",
        "drive.mount('/content/drive')"
      ],
      "execution_count": 4,
      "outputs": [
        {
          "output_type": "stream",
          "text": [
            "Mounted at /content/drive\n"
          ],
          "name": "stdout"
        }
      ]
    },
    {
      "cell_type": "code",
      "metadata": {
        "id": "qJhEqCzyK8vS"
      },
      "source": [
        "# Load dataset.\n",
        "dataset = pd.read_csv('/content/drive/My Drive/GL_Mentor/Data/corporate_messaging_dfe.csv')"
      ],
      "execution_count": 5,
      "outputs": []
    },
    {
      "cell_type": "code",
      "metadata": {
        "colab": {
          "base_uri": "https://localhost:8080/",
          "height": 633
        },
        "id": "jVErYTrcLMvj",
        "outputId": "1067da1e-aa76-467f-a3e1-64588473d2e2"
      },
      "source": [
        "# Chect first 5 rows of data.\n",
        "dataset.head()"
      ],
      "execution_count": 6,
      "outputs": [
        {
          "output_type": "execute_result",
          "data": {
            "text/html": [
              "<div>\n",
              "<style scoped>\n",
              "    .dataframe tbody tr th:only-of-type {\n",
              "        vertical-align: middle;\n",
              "    }\n",
              "\n",
              "    .dataframe tbody tr th {\n",
              "        vertical-align: top;\n",
              "    }\n",
              "\n",
              "    .dataframe thead th {\n",
              "        text-align: right;\n",
              "    }\n",
              "</style>\n",
              "<table border=\"1\" class=\"dataframe\">\n",
              "  <thead>\n",
              "    <tr style=\"text-align: right;\">\n",
              "      <th></th>\n",
              "      <th>unit_id</th>\n",
              "      <th>golden</th>\n",
              "      <th>unit_state</th>\n",
              "      <th>trusted_judgments</th>\n",
              "      <th>last_judgment_at</th>\n",
              "      <th>category</th>\n",
              "      <th>category_confidence</th>\n",
              "      <th>category_gold</th>\n",
              "      <th>id</th>\n",
              "      <th>screenname</th>\n",
              "      <th>text</th>\n",
              "    </tr>\n",
              "  </thead>\n",
              "  <tbody>\n",
              "    <tr>\n",
              "      <th>0</th>\n",
              "      <td>662822308</td>\n",
              "      <td>False</td>\n",
              "      <td>finalized</td>\n",
              "      <td>3</td>\n",
              "      <td>2015-02-18T04:31:00</td>\n",
              "      <td>Information</td>\n",
              "      <td>1.0</td>\n",
              "      <td>NaN</td>\n",
              "      <td>436528000000000000</td>\n",
              "      <td>Barclays</td>\n",
              "      <td>Barclays CEO stresses the importance of regula...</td>\n",
              "    </tr>\n",
              "    <tr>\n",
              "      <th>1</th>\n",
              "      <td>662822309</td>\n",
              "      <td>False</td>\n",
              "      <td>finalized</td>\n",
              "      <td>3</td>\n",
              "      <td>2015-02-18T13:55:00</td>\n",
              "      <td>Information</td>\n",
              "      <td>1.0</td>\n",
              "      <td>NaN</td>\n",
              "      <td>386013000000000000</td>\n",
              "      <td>Barclays</td>\n",
              "      <td>Barclays announces result of Rights Issue http...</td>\n",
              "    </tr>\n",
              "    <tr>\n",
              "      <th>2</th>\n",
              "      <td>662822310</td>\n",
              "      <td>False</td>\n",
              "      <td>finalized</td>\n",
              "      <td>3</td>\n",
              "      <td>2015-02-18T08:43:00</td>\n",
              "      <td>Information</td>\n",
              "      <td>1.0</td>\n",
              "      <td>NaN</td>\n",
              "      <td>379580000000000000</td>\n",
              "      <td>Barclays</td>\n",
              "      <td>Barclays publishes its prospectus for its �5.8...</td>\n",
              "    </tr>\n",
              "    <tr>\n",
              "      <th>3</th>\n",
              "      <td>662822311</td>\n",
              "      <td>False</td>\n",
              "      <td>finalized</td>\n",
              "      <td>3</td>\n",
              "      <td>2015-02-18T09:13:00</td>\n",
              "      <td>Information</td>\n",
              "      <td>1.0</td>\n",
              "      <td>NaN</td>\n",
              "      <td>367530000000000000</td>\n",
              "      <td>Barclays</td>\n",
              "      <td>Barclays Group Finance Director Chris Lucas is...</td>\n",
              "    </tr>\n",
              "    <tr>\n",
              "      <th>4</th>\n",
              "      <td>662822312</td>\n",
              "      <td>False</td>\n",
              "      <td>finalized</td>\n",
              "      <td>3</td>\n",
              "      <td>2015-02-18T06:48:00</td>\n",
              "      <td>Information</td>\n",
              "      <td>1.0</td>\n",
              "      <td>NaN</td>\n",
              "      <td>360385000000000000</td>\n",
              "      <td>Barclays</td>\n",
              "      <td>Barclays announces that Irene McDermott Brown ...</td>\n",
              "    </tr>\n",
              "  </tbody>\n",
              "</table>\n",
              "</div>"
            ],
            "text/plain": [
              "     unit_id  ...                                               text\n",
              "0  662822308  ...  Barclays CEO stresses the importance of regula...\n",
              "1  662822309  ...  Barclays announces result of Rights Issue http...\n",
              "2  662822310  ...  Barclays publishes its prospectus for its �5.8...\n",
              "3  662822311  ...  Barclays Group Finance Director Chris Lucas is...\n",
              "4  662822312  ...  Barclays announces that Irene McDermott Brown ...\n",
              "\n",
              "[5 rows x 11 columns]"
            ]
          },
          "metadata": {
            "tags": []
          },
          "execution_count": 6
        }
      ]
    },
    {
      "cell_type": "code",
      "metadata": {
        "id": "NjKyaKs8LOLE"
      },
      "source": [
        "# Here we are going to deal with text data, so we seperate out the text column in a new dataframe: data\n",
        "data = dataset.drop(['golden', 'unit_state', 'trusted_judgments', 'last_judgment_at', 'category', 'category_confidence', 'category_gold', 'screenname'], axis=1)\n",
        "# Ignore columns other than text"
      ],
      "execution_count": 7,
      "outputs": []
    },
    {
      "cell_type": "code",
      "metadata": {
        "colab": {
          "base_uri": "https://localhost:8080/",
          "height": 198
        },
        "id": "LnfR_ovoLYt6",
        "outputId": "3872bde1-5977-4508-ecb6-1e697eea64a0"
      },
      "source": [
        "# Check first 5 rows of dataframe.\n",
        "data.head()"
      ],
      "execution_count": 8,
      "outputs": [
        {
          "output_type": "execute_result",
          "data": {
            "text/html": [
              "<div>\n",
              "<style scoped>\n",
              "    .dataframe tbody tr th:only-of-type {\n",
              "        vertical-align: middle;\n",
              "    }\n",
              "\n",
              "    .dataframe tbody tr th {\n",
              "        vertical-align: top;\n",
              "    }\n",
              "\n",
              "    .dataframe thead th {\n",
              "        text-align: right;\n",
              "    }\n",
              "</style>\n",
              "<table border=\"1\" class=\"dataframe\">\n",
              "  <thead>\n",
              "    <tr style=\"text-align: right;\">\n",
              "      <th></th>\n",
              "      <th>unit_id</th>\n",
              "      <th>id</th>\n",
              "      <th>text</th>\n",
              "    </tr>\n",
              "  </thead>\n",
              "  <tbody>\n",
              "    <tr>\n",
              "      <th>0</th>\n",
              "      <td>662822308</td>\n",
              "      <td>436528000000000000</td>\n",
              "      <td>Barclays CEO stresses the importance of regula...</td>\n",
              "    </tr>\n",
              "    <tr>\n",
              "      <th>1</th>\n",
              "      <td>662822309</td>\n",
              "      <td>386013000000000000</td>\n",
              "      <td>Barclays announces result of Rights Issue http...</td>\n",
              "    </tr>\n",
              "    <tr>\n",
              "      <th>2</th>\n",
              "      <td>662822310</td>\n",
              "      <td>379580000000000000</td>\n",
              "      <td>Barclays publishes its prospectus for its �5.8...</td>\n",
              "    </tr>\n",
              "    <tr>\n",
              "      <th>3</th>\n",
              "      <td>662822311</td>\n",
              "      <td>367530000000000000</td>\n",
              "      <td>Barclays Group Finance Director Chris Lucas is...</td>\n",
              "    </tr>\n",
              "    <tr>\n",
              "      <th>4</th>\n",
              "      <td>662822312</td>\n",
              "      <td>360385000000000000</td>\n",
              "      <td>Barclays announces that Irene McDermott Brown ...</td>\n",
              "    </tr>\n",
              "  </tbody>\n",
              "</table>\n",
              "</div>"
            ],
            "text/plain": [
              "     unit_id  ...                                               text\n",
              "0  662822308  ...  Barclays CEO stresses the importance of regula...\n",
              "1  662822309  ...  Barclays announces result of Rights Issue http...\n",
              "2  662822310  ...  Barclays publishes its prospectus for its �5.8...\n",
              "3  662822311  ...  Barclays Group Finance Director Chris Lucas is...\n",
              "4  662822312  ...  Barclays announces that Irene McDermott Brown ...\n",
              "\n",
              "[5 rows x 3 columns]"
            ]
          },
          "metadata": {
            "tags": []
          },
          "execution_count": 8
        }
      ]
    },
    {
      "cell_type": "code",
      "metadata": {
        "colab": {
          "base_uri": "https://localhost:8080/",
          "height": 95
        },
        "id": "T2y92bo0LaCw",
        "outputId": "d04849f2-a34c-4793-ba15-9788d6ff8505"
      },
      "source": [
        "# First row of data.\n",
        "pd.set_option('display.max_colwidth', None) # It will enable the entire row visible with truncation of the text. (We can see full text.)\n",
        "data.loc[[0]]\n",
        "# Tranforms dataframe to see whole size for visualization"
      ],
      "execution_count": 9,
      "outputs": [
        {
          "output_type": "execute_result",
          "data": {
            "text/html": [
              "<div>\n",
              "<style scoped>\n",
              "    .dataframe tbody tr th:only-of-type {\n",
              "        vertical-align: middle;\n",
              "    }\n",
              "\n",
              "    .dataframe tbody tr th {\n",
              "        vertical-align: top;\n",
              "    }\n",
              "\n",
              "    .dataframe thead th {\n",
              "        text-align: right;\n",
              "    }\n",
              "</style>\n",
              "<table border=\"1\" class=\"dataframe\">\n",
              "  <thead>\n",
              "    <tr style=\"text-align: right;\">\n",
              "      <th></th>\n",
              "      <th>unit_id</th>\n",
              "      <th>id</th>\n",
              "      <th>text</th>\n",
              "    </tr>\n",
              "  </thead>\n",
              "  <tbody>\n",
              "    <tr>\n",
              "      <th>0</th>\n",
              "      <td>662822308</td>\n",
              "      <td>436528000000000000</td>\n",
              "      <td>Barclays CEO stresses the importance of regulatory and cultural reform in financial services at Brussels conference  http://t.co/Ge9Lp7hpyG</td>\n",
              "    </tr>\n",
              "  </tbody>\n",
              "</table>\n",
              "</div>"
            ],
            "text/plain": [
              "     unit_id  ...                                                                                                                                         text\n",
              "0  662822308  ...  Barclays CEO stresses the importance of regulatory and cultural reform in financial services at Brussels conference  http://t.co/Ge9Lp7hpyG\n",
              "\n",
              "[1 rows x 3 columns]"
            ]
          },
          "metadata": {
            "tags": []
          },
          "execution_count": 9
        }
      ]
    },
    {
      "cell_type": "code",
      "metadata": {
        "id": "znIvp1u2-Shr"
      },
      "source": [
        "# Keep copy of original data\n",
        "data_orig = data.copy()"
      ],
      "execution_count": 10,
      "outputs": []
    },
    {
      "cell_type": "code",
      "metadata": {
        "colab": {
          "base_uri": "https://localhost:8080/",
          "height": 198
        },
        "id": "QBJvqaRULdH8",
        "outputId": "05b980e6-df7c-49d6-a644-61c73fcd8c69"
      },
      "source": [
        "# Removal of the http link using Regular Expression.\n",
        "for i, row in data.iterrows():\n",
        "    clean_text = re.sub(r\"http\\S+\", \"\", data.at[i, 'text'])\n",
        "    data.at[i,'text'] = clean_text\n",
        "data.head()\n",
        "# Use regex to delete special words from our dataset \n",
        "# efficient and faster way of cleaning "
      ],
      "execution_count": 11,
      "outputs": [
        {
          "output_type": "execute_result",
          "data": {
            "text/html": [
              "<div>\n",
              "<style scoped>\n",
              "    .dataframe tbody tr th:only-of-type {\n",
              "        vertical-align: middle;\n",
              "    }\n",
              "\n",
              "    .dataframe tbody tr th {\n",
              "        vertical-align: top;\n",
              "    }\n",
              "\n",
              "    .dataframe thead th {\n",
              "        text-align: right;\n",
              "    }\n",
              "</style>\n",
              "<table border=\"1\" class=\"dataframe\">\n",
              "  <thead>\n",
              "    <tr style=\"text-align: right;\">\n",
              "      <th></th>\n",
              "      <th>unit_id</th>\n",
              "      <th>id</th>\n",
              "      <th>text</th>\n",
              "    </tr>\n",
              "  </thead>\n",
              "  <tbody>\n",
              "    <tr>\n",
              "      <th>0</th>\n",
              "      <td>662822308</td>\n",
              "      <td>436528000000000000</td>\n",
              "      <td>Barclays CEO stresses the importance of regulatory and cultural reform in financial services at Brussels conference</td>\n",
              "    </tr>\n",
              "    <tr>\n",
              "      <th>1</th>\n",
              "      <td>662822309</td>\n",
              "      <td>386013000000000000</td>\n",
              "      <td>Barclays announces result of Rights Issue</td>\n",
              "    </tr>\n",
              "    <tr>\n",
              "      <th>2</th>\n",
              "      <td>662822310</td>\n",
              "      <td>379580000000000000</td>\n",
              "      <td>Barclays publishes its prospectus for its �5.8bn Rights Issue:</td>\n",
              "    </tr>\n",
              "    <tr>\n",
              "      <th>3</th>\n",
              "      <td>662822311</td>\n",
              "      <td>367530000000000000</td>\n",
              "      <td>Barclays Group Finance Director Chris Lucas is to step down at the end of the week due to ill health</td>\n",
              "    </tr>\n",
              "    <tr>\n",
              "      <th>4</th>\n",
              "      <td>662822312</td>\n",
              "      <td>360385000000000000</td>\n",
              "      <td>Barclays announces that Irene McDermott Brown has been appointed as Group Human Resources Director</td>\n",
              "    </tr>\n",
              "  </tbody>\n",
              "</table>\n",
              "</div>"
            ],
            "text/plain": [
              "     unit_id  ...                                                                                                                   text\n",
              "0  662822308  ...  Barclays CEO stresses the importance of regulatory and cultural reform in financial services at Brussels conference  \n",
              "1  662822309  ...                                                                             Barclays announces result of Rights Issue \n",
              "2  662822310  ...                                                        Barclays publishes its prospectus for its �5.8bn Rights Issue: \n",
              "3  662822311  ...                  Barclays Group Finance Director Chris Lucas is to step down at the end of the week due to ill health \n",
              "4  662822312  ...                    Barclays announces that Irene McDermott Brown has been appointed as Group Human Resources Director \n",
              "\n",
              "[5 rows x 3 columns]"
            ]
          },
          "metadata": {
            "tags": []
          },
          "execution_count": 11
        }
      ]
    },
    {
      "cell_type": "markdown",
      "metadata": {
        "id": "2GPEvpYhKWaX"
      },
      "source": [
        "# cleaning of the text."
      ]
    },
    {
      "cell_type": "code",
      "metadata": {
        "colab": {
          "base_uri": "https://localhost:8080/",
          "height": 198
        },
        "id": "PippNlR7iOFX",
        "outputId": "7090a5a6-b5e8-4053-fb98-821d378e1997"
      },
      "source": [
        "def replace_contractions(text):\n",
        "    \"\"\"Replace contractions in string of text\"\"\"\n",
        "    return contractions.fix(text)\n",
        "\n",
        "# Perform the above operation over all the rows of text column of the dataframe.\n",
        "for i, row in data.iterrows():\n",
        "    text = data.at[i, 'text']\n",
        "    clean_text = replace_contractions(text)\n",
        "    data.at[i,'text'] = clean_text\n",
        "data.head()\n",
        "\n",
        "# "
      ],
      "execution_count": 12,
      "outputs": [
        {
          "output_type": "execute_result",
          "data": {
            "text/html": [
              "<div>\n",
              "<style scoped>\n",
              "    .dataframe tbody tr th:only-of-type {\n",
              "        vertical-align: middle;\n",
              "    }\n",
              "\n",
              "    .dataframe tbody tr th {\n",
              "        vertical-align: top;\n",
              "    }\n",
              "\n",
              "    .dataframe thead th {\n",
              "        text-align: right;\n",
              "    }\n",
              "</style>\n",
              "<table border=\"1\" class=\"dataframe\">\n",
              "  <thead>\n",
              "    <tr style=\"text-align: right;\">\n",
              "      <th></th>\n",
              "      <th>unit_id</th>\n",
              "      <th>id</th>\n",
              "      <th>text</th>\n",
              "    </tr>\n",
              "  </thead>\n",
              "  <tbody>\n",
              "    <tr>\n",
              "      <th>0</th>\n",
              "      <td>662822308</td>\n",
              "      <td>436528000000000000</td>\n",
              "      <td>Barclays CEO stresses the importance of regulatory and cultural reform in financial services at Brussels conference</td>\n",
              "    </tr>\n",
              "    <tr>\n",
              "      <th>1</th>\n",
              "      <td>662822309</td>\n",
              "      <td>386013000000000000</td>\n",
              "      <td>Barclays announces result of Rights Issue</td>\n",
              "    </tr>\n",
              "    <tr>\n",
              "      <th>2</th>\n",
              "      <td>662822310</td>\n",
              "      <td>379580000000000000</td>\n",
              "      <td>Barclays publishes its prospectus for its �5.8bn Rights Issue:</td>\n",
              "    </tr>\n",
              "    <tr>\n",
              "      <th>3</th>\n",
              "      <td>662822311</td>\n",
              "      <td>367530000000000000</td>\n",
              "      <td>Barclays Group Finance Director Chris Lucas is to step down at the end of the week due to ill health</td>\n",
              "    </tr>\n",
              "    <tr>\n",
              "      <th>4</th>\n",
              "      <td>662822312</td>\n",
              "      <td>360385000000000000</td>\n",
              "      <td>Barclays announces that Irene McDermott Brown has been appointed as Group Human Resources Director</td>\n",
              "    </tr>\n",
              "  </tbody>\n",
              "</table>\n",
              "</div>"
            ],
            "text/plain": [
              "     unit_id  ...                                                                                                                   text\n",
              "0  662822308  ...  Barclays CEO stresses the importance of regulatory and cultural reform in financial services at Brussels conference  \n",
              "1  662822309  ...                                                                             Barclays announces result of Rights Issue \n",
              "2  662822310  ...                                                        Barclays publishes its prospectus for its �5.8bn Rights Issue: \n",
              "3  662822311  ...                  Barclays Group Finance Director Chris Lucas is to step down at the end of the week due to ill health \n",
              "4  662822312  ...                    Barclays announces that Irene McDermott Brown has been appointed as Group Human Resources Director \n",
              "\n",
              "[5 rows x 3 columns]"
            ]
          },
          "metadata": {
            "tags": []
          },
          "execution_count": 12
        }
      ]
    },
    {
      "cell_type": "code",
      "metadata": {
        "colab": {
          "base_uri": "https://localhost:8080/",
          "height": 52
        },
        "id": "59P8-ajf8ipy",
        "outputId": "a526413b-5e42-42c5-c5d1-9c10b99b03e7"
      },
      "source": [
        "test_sentence = data_orig['text'][3106]\n",
        "print(test_sentence)\n",
        "replace_contractions(test_sentence)\n",
        "# Overlooked many times"
      ],
      "execution_count": 13,
      "outputs": [
        {
          "output_type": "stream",
          "text": [
            "We think it's a shame \"Cake to Bake\" didn't make it through. #Eurovision #GoodFoodGoodLife\n"
          ],
          "name": "stdout"
        },
        {
          "output_type": "execute_result",
          "data": {
            "application/vnd.google.colaboratory.intrinsic+json": {
              "type": "string"
            },
            "text/plain": [
              "'We think it is a shame \"Cake to Bake\" did not make it through. #Eurovision #GoodFoodGoodLife'"
            ]
          },
          "metadata": {
            "tags": []
          },
          "execution_count": 13
        }
      ]
    },
    {
      "cell_type": "code",
      "metadata": {
        "colab": {
          "base_uri": "https://localhost:8080/"
        },
        "id": "air4Ogoa8ipy",
        "outputId": "39f95ffe-4da5-4101-8816-4be509bc002b"
      },
      "source": [
        "nltk.word_tokenize(test_sentence)\n",
        "# split words"
      ],
      "execution_count": 14,
      "outputs": [
        {
          "output_type": "execute_result",
          "data": {
            "text/plain": [
              "['We',\n",
              " 'think',\n",
              " 'it',\n",
              " \"'s\",\n",
              " 'a',\n",
              " 'shame',\n",
              " '``',\n",
              " 'Cake',\n",
              " 'to',\n",
              " 'Bake',\n",
              " \"''\",\n",
              " 'did',\n",
              " \"n't\",\n",
              " 'make',\n",
              " 'it',\n",
              " 'through',\n",
              " '.',\n",
              " '#',\n",
              " 'Eurovision',\n",
              " '#',\n",
              " 'GoodFoodGoodLife']"
            ]
          },
          "metadata": {
            "tags": []
          },
          "execution_count": 14
        }
      ]
    },
    {
      "cell_type": "code",
      "metadata": {
        "colab": {
          "base_uri": "https://localhost:8080/"
        },
        "id": "Y4r0B_kpvYT1",
        "outputId": "edfc5390-7bf9-4827-fe19-39b078c9b4de"
      },
      "source": [
        "lst = pd.DataFrame(['a',2,3])\n",
        "for i, row in lst.iterrows():\n",
        "  print(i)\n",
        "  print(row)\n",
        "\n",
        "enumerate()"
      ],
      "execution_count": 38,
      "outputs": [
        {
          "output_type": "stream",
          "text": [
            "0\n",
            "0    a\n",
            "Name: 0, dtype: object\n",
            "1\n",
            "0    2\n",
            "Name: 1, dtype: object\n",
            "2\n",
            "0    3\n",
            "Name: 2, dtype: object\n"
          ],
          "name": "stdout"
        }
      ]
    },
    {
      "cell_type": "code",
      "metadata": {
        "colab": {
          "base_uri": "https://localhost:8080/",
          "height": 198
        },
        "id": "sJ-XiOgNiuF8",
        "outputId": "43a6a031-4a8b-4b30-f15d-6bdd188a3a87"
      },
      "source": [
        "# Tokenize the words of whole dataframe.\n",
        "for i, row in data.iterrows():\n",
        "    text = data.at[i, 'text']\n",
        "    words = nltk.word_tokenize(text)\n",
        "    data.at[i,'text'] = words\n",
        "data.head()\n",
        "# Loop through dataset and fix"
      ],
      "execution_count": 15,
      "outputs": [
        {
          "output_type": "execute_result",
          "data": {
            "text/html": [
              "<div>\n",
              "<style scoped>\n",
              "    .dataframe tbody tr th:only-of-type {\n",
              "        vertical-align: middle;\n",
              "    }\n",
              "\n",
              "    .dataframe tbody tr th {\n",
              "        vertical-align: top;\n",
              "    }\n",
              "\n",
              "    .dataframe thead th {\n",
              "        text-align: right;\n",
              "    }\n",
              "</style>\n",
              "<table border=\"1\" class=\"dataframe\">\n",
              "  <thead>\n",
              "    <tr style=\"text-align: right;\">\n",
              "      <th></th>\n",
              "      <th>unit_id</th>\n",
              "      <th>id</th>\n",
              "      <th>text</th>\n",
              "    </tr>\n",
              "  </thead>\n",
              "  <tbody>\n",
              "    <tr>\n",
              "      <th>0</th>\n",
              "      <td>662822308</td>\n",
              "      <td>436528000000000000</td>\n",
              "      <td>[Barclays, CEO, stresses, the, importance, of, regulatory, and, cultural, reform, in, financial, services, at, Brussels, conference]</td>\n",
              "    </tr>\n",
              "    <tr>\n",
              "      <th>1</th>\n",
              "      <td>662822309</td>\n",
              "      <td>386013000000000000</td>\n",
              "      <td>[Barclays, announces, result, of, Rights, Issue]</td>\n",
              "    </tr>\n",
              "    <tr>\n",
              "      <th>2</th>\n",
              "      <td>662822310</td>\n",
              "      <td>379580000000000000</td>\n",
              "      <td>[Barclays, publishes, its, prospectus, for, its, �5.8bn, Rights, Issue, :]</td>\n",
              "    </tr>\n",
              "    <tr>\n",
              "      <th>3</th>\n",
              "      <td>662822311</td>\n",
              "      <td>367530000000000000</td>\n",
              "      <td>[Barclays, Group, Finance, Director, Chris, Lucas, is, to, step, down, at, the, end, of, the, week, due, to, ill, health]</td>\n",
              "    </tr>\n",
              "    <tr>\n",
              "      <th>4</th>\n",
              "      <td>662822312</td>\n",
              "      <td>360385000000000000</td>\n",
              "      <td>[Barclays, announces, that, Irene, McDermott, Brown, has, been, appointed, as, Group, Human, Resources, Director]</td>\n",
              "    </tr>\n",
              "  </tbody>\n",
              "</table>\n",
              "</div>"
            ],
            "text/plain": [
              "     unit_id  ...                                                                                                                                  text\n",
              "0  662822308  ...  [Barclays, CEO, stresses, the, importance, of, regulatory, and, cultural, reform, in, financial, services, at, Brussels, conference]\n",
              "1  662822309  ...                                                                                      [Barclays, announces, result, of, Rights, Issue]\n",
              "2  662822310  ...                                                            [Barclays, publishes, its, prospectus, for, its, �5.8bn, Rights, Issue, :]\n",
              "3  662822311  ...             [Barclays, Group, Finance, Director, Chris, Lucas, is, to, step, down, at, the, end, of, the, week, due, to, ill, health]\n",
              "4  662822312  ...                     [Barclays, announces, that, Irene, McDermott, Brown, has, been, appointed, as, Group, Human, Resources, Director]\n",
              "\n",
              "[5 rows x 3 columns]"
            ]
          },
          "metadata": {
            "tags": []
          },
          "execution_count": 15
        }
      ]
    },
    {
      "cell_type": "code",
      "metadata": {
        "id": "2jADm-rqi235"
      },
      "source": [
        "def remove_non_ascii(words):\n",
        "    \"\"\"Remove non-ASCII characters from list of tokenized words\"\"\"\n",
        "    new_words = []                        # Create empty list to store pre-processed words.\n",
        "    for word in words:\n",
        "        new_word = unicodedata.normalize('NFKD', word).encode('ascii', 'ignore').decode('utf-8', 'ignore')\n",
        "        new_words.append(new_word)        # Append processed words to new list.\n",
        "    return new_words\n",
        "\n",
        "# remove strange characters"
      ],
      "execution_count": 16,
      "outputs": []
    },
    {
      "cell_type": "code",
      "metadata": {
        "colab": {
          "base_uri": "https://localhost:8080/"
        },
        "id": "rs5y9WR38ip0",
        "outputId": "b92550b5-8f1c-4af4-f878-40f4fa93fa85"
      },
      "source": [
        "print(data_orig['text'][2])\n",
        "remove_non_ascii(data['text'][2])"
      ],
      "execution_count": 17,
      "outputs": [
        {
          "output_type": "stream",
          "text": [
            "Barclays publishes its prospectus for its �5.8bn Rights Issue: http://t.co/YZk24iE8G6\n"
          ],
          "name": "stdout"
        },
        {
          "output_type": "execute_result",
          "data": {
            "text/plain": [
              "['Barclays',\n",
              " 'publishes',\n",
              " 'its',\n",
              " 'prospectus',\n",
              " 'for',\n",
              " 'its',\n",
              " '5.8bn',\n",
              " 'Rights',\n",
              " 'Issue',\n",
              " ':']"
            ]
          },
          "metadata": {
            "tags": []
          },
          "execution_count": 17
        }
      ]
    },
    {
      "cell_type": "code",
      "metadata": {
        "id": "CK2HqOZAwxDD"
      },
      "source": [
        "def to_lowercase(words):\n",
        "    \"\"\"Convert all characters to lowercase from list of tokenized words\"\"\"\n",
        "    new_words = []                        # Create empty list to store pre-processed words.\n",
        "    for word in words:\n",
        "        new_word = word.lower()           # Converting to lowercase\n",
        "        new_words.append(new_word)        # Append processed words to new list.\n",
        "    return new_words"
      ],
      "execution_count": 18,
      "outputs": []
    },
    {
      "cell_type": "code",
      "metadata": {
        "colab": {
          "base_uri": "https://localhost:8080/"
        },
        "id": "ypxazcFj8ip0",
        "outputId": "be5ac23a-e5cc-4cb7-c0b0-f2755ab572fa"
      },
      "source": [
        "to_lowercase(remove_non_ascii(data['text'][2]))\n",
        "# All - be careful for Nouns"
      ],
      "execution_count": 19,
      "outputs": [
        {
          "output_type": "execute_result",
          "data": {
            "text/plain": [
              "['barclays',\n",
              " 'publishes',\n",
              " 'its',\n",
              " 'prospectus',\n",
              " 'for',\n",
              " 'its',\n",
              " '5.8bn',\n",
              " 'rights',\n",
              " 'issue',\n",
              " ':']"
            ]
          },
          "metadata": {
            "tags": []
          },
          "execution_count": 19
        }
      ]
    },
    {
      "cell_type": "markdown",
      "metadata": {
        "id": "jYbZ1Sm0Evan"
      },
      "source": [
        "# Lowercasing\n",
        "\n",
        "- Lowercasing ALL your text data, although commonly overlooked, is one of the simplest and most effective form of text preprocessing. It is applicable to most text mining and NLP problems and can help in cases where your dataset is not very large and significantly helps with consistency of expected output.\n",
        "\n",
        "- An example where lowercasing is very useful is for search. Imagine, you are looking for documents containing “usa”. However, no results were showing up because “usa” was indexed as “USA”.\n",
        "\n",
        "- An example where lowercasing may result in inaccuracy is in predicting the programming language of a source code file. The word System in Java is quite different from system in python. Lowercasing the two makes them identical, causing the classifier to lose important predictive features. While lowercasing is generally helpful, it may not be applicable for all tasks."
      ]
    },
    {
      "cell_type": "code",
      "metadata": {
        "id": "4o0ZS7wkwzco"
      },
      "source": [
        "def remove_punctuation(words):\n",
        "    \"\"\"Remove punctuation from list of tokenized words\"\"\"\n",
        "    new_words = []                        # Create empty list to store pre-processed words.\n",
        "    for word in words:\n",
        "        new_word = re.sub(r'[^\\w\\s]', '', word)\n",
        "        if new_word != '':\n",
        "            new_words.append(new_word)    # Append processed words to new list.\n",
        "    return new_words"
      ],
      "execution_count": 20,
      "outputs": []
    },
    {
      "cell_type": "code",
      "metadata": {
        "colab": {
          "base_uri": "https://localhost:8080/"
        },
        "id": "nPXQCmkf8ip1",
        "outputId": "97c538f7-025b-47ef-e1be-f4e193890383"
      },
      "source": [
        "print(data_orig['text'][2])\n",
        "remove_punctuation(to_lowercase(remove_non_ascii(data['text'][2])))\n",
        "# Depends on use case - Sentiment useful, Very Positive, Positive , Neutral, Negative , Very Negative - might want !"
      ],
      "execution_count": 21,
      "outputs": [
        {
          "output_type": "stream",
          "text": [
            "Barclays publishes its prospectus for its �5.8bn Rights Issue: http://t.co/YZk24iE8G6\n"
          ],
          "name": "stdout"
        },
        {
          "output_type": "execute_result",
          "data": {
            "text/plain": [
              "['barclays',\n",
              " 'publishes',\n",
              " 'its',\n",
              " 'prospectus',\n",
              " 'for',\n",
              " 'its',\n",
              " '58bn',\n",
              " 'rights',\n",
              " 'issue']"
            ]
          },
          "metadata": {
            "tags": []
          },
          "execution_count": 21
        }
      ]
    },
    {
      "cell_type": "markdown",
      "metadata": {
        "id": "zWTMQyJjGGqx"
      },
      "source": [
        "# Stopword Removal:\n",
        "- Stop words are a set of commonly used words in a language.\n",
        "- Examples of stop words in English are “a”, “the”, “is”, “are” and etc. The intuition behind using stop words is that, by removing low information words from text, we can focus on the important words instead."
      ]
    },
    {
      "cell_type": "code",
      "metadata": {
        "colab": {
          "base_uri": "https://localhost:8080/"
        },
        "id": "bUA0yMb-8ip2",
        "outputId": "32be7a7d-57b6-4489-98fa-1aa5a0e745f6"
      },
      "source": [
        "# save stop words in a list named stopwords\n",
        "# Download from NLTK Corpus - choose the language you want \n",
        "# save the stopwords in a list named stopwords.\n",
        "stopwords = stopwords.words(\"english\")\n",
        "stopwords[:5]"
      ],
      "execution_count": 22,
      "outputs": [
        {
          "output_type": "execute_result",
          "data": {
            "text/plain": [
              "['i', 'me', 'my', 'myself', 'we']"
            ]
          },
          "metadata": {
            "tags": []
          },
          "execution_count": 22
        }
      ]
    },
    {
      "cell_type": "code",
      "metadata": {
        "id": "Dye7U-Jkw03S"
      },
      "source": [
        "def remove_stopwords(words):\n",
        "    \"\"\"Remove stop words from list of tokenized words\"\"\"\n",
        "    new_words = []                        # Create empty list to store pre-processed words.\n",
        "    for word in words:\n",
        "        if word not in stopwords:\n",
        "            new_words.append(word)        # Append processed words to new list.\n",
        "    return new_words\n"
      ],
      "execution_count": 23,
      "outputs": []
    },
    {
      "cell_type": "code",
      "metadata": {
        "colab": {
          "base_uri": "https://localhost:8080/"
        },
        "id": "l_q8v8UW8ip2",
        "outputId": "c2ba1948-321c-465f-cdc8-a5e94ae6e6c9"
      },
      "source": [
        "print(data_orig['text'][2])\n",
        "remove_stopwords(remove_punctuation(to_lowercase(remove_non_ascii(data['text'][2]))))\n"
      ],
      "execution_count": 24,
      "outputs": [
        {
          "output_type": "stream",
          "text": [
            "Barclays publishes its prospectus for its �5.8bn Rights Issue: http://t.co/YZk24iE8G6\n"
          ],
          "name": "stdout"
        },
        {
          "output_type": "execute_result",
          "data": {
            "text/plain": [
              "['barclays', 'publishes', 'prospectus', '58bn', 'rights', 'issue']"
            ]
          },
          "metadata": {
            "tags": []
          },
          "execution_count": 24
        }
      ]
    },
    {
      "cell_type": "code",
      "metadata": {
        "id": "v7iWcZx38ip2"
      },
      "source": [
        ""
      ],
      "execution_count": 24,
      "outputs": []
    },
    {
      "cell_type": "markdown",
      "metadata": {
        "id": "eVhXK6e-Fi09"
      },
      "source": [
        "# Stemming:\n",
        "\n",
        "- Stemming is the process of reducing inflection in words (e.g. running, runs) to their root form (e.g. run). The “root” in this case may not be a real root word, but just a canonical form of the original word."
      ]
    },
    {
      "cell_type": "code",
      "metadata": {
        "id": "Jo2eo1l-w2FL"
      },
      "source": [
        "def stem_words(words):\n",
        "    \"\"\"Stem words in list of tokenized words\"\"\"\n",
        "    stemmer = LancasterStemmer()\n",
        "    stems = []                            # Create empty list to store pre-processed words.\n",
        "    for word in words:\n",
        "        stem = stemmer.stem(word)\n",
        "        stems.append(stem)                # Append processed words to new list.\n",
        "    return stems"
      ],
      "execution_count": 25,
      "outputs": []
    },
    {
      "cell_type": "code",
      "metadata": {
        "colab": {
          "base_uri": "https://localhost:8080/"
        },
        "id": "yLgIsi2Y8ip4",
        "outputId": "43b1e0de-0e2b-4c4c-c925-505e58a30734"
      },
      "source": [
        "print(data_orig['text'][2])\n",
        "stem_words(remove_stopwords(remove_punctuation(to_lowercase(remove_non_ascii(data['text'][2])))))"
      ],
      "execution_count": 26,
      "outputs": [
        {
          "output_type": "stream",
          "text": [
            "Barclays publishes its prospectus for its �5.8bn Rights Issue: http://t.co/YZk24iE8G6\n"
          ],
          "name": "stdout"
        },
        {
          "output_type": "execute_result",
          "data": {
            "text/plain": [
              "['barclay', 'publ', 'prospect', '58bn', 'right', 'issu']"
            ]
          },
          "metadata": {
            "tags": []
          },
          "execution_count": 26
        }
      ]
    },
    {
      "cell_type": "markdown",
      "metadata": {
        "id": "IeOWBIH2F5ux"
      },
      "source": [
        "# Lemmatization:\n",
        "\n",
        "- Lemmatization on the surface is very similar to stemming, where the goal is to remove inflections and map a word to its root form.\n",
        "- The only difference is that, lemmatization tries to do it the proper way.\n",
        "- It doesn’t just chop things off, it actually transforms words to the actual root. For example, the word “better” would map to “good”."
      ]
    },
    {
      "cell_type": "code",
      "metadata": {
        "id": "pvRgUqZEw3Wm"
      },
      "source": [
        "def lemmatize_verbs(words):\n",
        "    \"\"\"Lemmatize verbs in list of tokenized words\"\"\"\n",
        "    lemmatizer = WordNetLemmatizer()\n",
        "    lemmas = []                           # Create empty list to store pre-processed words.\n",
        "    for word in words:\n",
        "        lemma = lemmatizer.lemmatize(word, pos='v')\n",
        "        lemmas.append(lemma)              # Append processed words to new list.\n",
        "    return lemmas"
      ],
      "execution_count": 27,
      "outputs": []
    },
    {
      "cell_type": "code",
      "metadata": {
        "colab": {
          "base_uri": "https://localhost:8080/"
        },
        "id": "hUHW98FC8ip4",
        "outputId": "799750db-d08b-44d2-b5e0-a10b1a1de328"
      },
      "source": [
        "print(data_orig['text'][2])\n",
        "lemmatize_verbs(remove_stopwords(remove_punctuation(to_lowercase(remove_non_ascii(data['text'][2])))))"
      ],
      "execution_count": 28,
      "outputs": [
        {
          "output_type": "stream",
          "text": [
            "Barclays publishes its prospectus for its �5.8bn Rights Issue: http://t.co/YZk24iE8G6\n"
          ],
          "name": "stdout"
        },
        {
          "output_type": "execute_result",
          "data": {
            "text/plain": [
              "['barclays', 'publish', 'prospectus', '58bn', 'right', 'issue']"
            ]
          },
          "metadata": {
            "tags": []
          },
          "execution_count": 28
        }
      ]
    },
    {
      "cell_type": "markdown",
      "metadata": {
        "id": "mL42FuFXG147"
      },
      "source": [
        "### Now it's time to execute the above functions:\n",
        "\n",
        "### So we define a new function normalize, which processes all the steps together."
      ]
    },
    {
      "cell_type": "code",
      "metadata": {
        "id": "zDryKOgRw5M3"
      },
      "source": [
        "def normalize(words):\n",
        "    words = remove_non_ascii(words)\n",
        "    words = to_lowercase(words)\n",
        "    words = remove_punctuation(words)\n",
        "    words = remove_stopwords(words)\n",
        "    return words\n",
        "\n",
        "# Ideally this is how Text Preprocessing is performed with all functions buncged together"
      ],
      "execution_count": 29,
      "outputs": []
    },
    {
      "cell_type": "code",
      "metadata": {
        "colab": {
          "base_uri": "https://localhost:8080/",
          "height": 198
        },
        "id": "xjKQDlj6w-Dp",
        "outputId": "218ef3ba-e7ea-413b-8103-67518b6f7980"
      },
      "source": [
        "# Iterate the normalize funtion over whole data.\n",
        "for i, row in data.iterrows():\n",
        "    words = data.at[i, 'text']\n",
        "    words = normalize(words)\n",
        "    data.at[i,'text'] = words\n",
        "data.head()\n",
        "\n",
        "# Prefer to use apply and lambda function instead"
      ],
      "execution_count": 30,
      "outputs": [
        {
          "output_type": "execute_result",
          "data": {
            "text/html": [
              "<div>\n",
              "<style scoped>\n",
              "    .dataframe tbody tr th:only-of-type {\n",
              "        vertical-align: middle;\n",
              "    }\n",
              "\n",
              "    .dataframe tbody tr th {\n",
              "        vertical-align: top;\n",
              "    }\n",
              "\n",
              "    .dataframe thead th {\n",
              "        text-align: right;\n",
              "    }\n",
              "</style>\n",
              "<table border=\"1\" class=\"dataframe\">\n",
              "  <thead>\n",
              "    <tr style=\"text-align: right;\">\n",
              "      <th></th>\n",
              "      <th>unit_id</th>\n",
              "      <th>id</th>\n",
              "      <th>text</th>\n",
              "    </tr>\n",
              "  </thead>\n",
              "  <tbody>\n",
              "    <tr>\n",
              "      <th>0</th>\n",
              "      <td>662822308</td>\n",
              "      <td>436528000000000000</td>\n",
              "      <td>[barclays, ceo, stresses, importance, regulatory, cultural, reform, financial, services, brussels, conference]</td>\n",
              "    </tr>\n",
              "    <tr>\n",
              "      <th>1</th>\n",
              "      <td>662822309</td>\n",
              "      <td>386013000000000000</td>\n",
              "      <td>[barclays, announces, result, rights, issue]</td>\n",
              "    </tr>\n",
              "    <tr>\n",
              "      <th>2</th>\n",
              "      <td>662822310</td>\n",
              "      <td>379580000000000000</td>\n",
              "      <td>[barclays, publishes, prospectus, 58bn, rights, issue]</td>\n",
              "    </tr>\n",
              "    <tr>\n",
              "      <th>3</th>\n",
              "      <td>662822311</td>\n",
              "      <td>367530000000000000</td>\n",
              "      <td>[barclays, group, finance, director, chris, lucas, step, end, week, due, ill, health]</td>\n",
              "    </tr>\n",
              "    <tr>\n",
              "      <th>4</th>\n",
              "      <td>662822312</td>\n",
              "      <td>360385000000000000</td>\n",
              "      <td>[barclays, announces, irene, mcdermott, brown, appointed, group, human, resources, director]</td>\n",
              "    </tr>\n",
              "  </tbody>\n",
              "</table>\n",
              "</div>"
            ],
            "text/plain": [
              "     unit_id  ...                                                                                                            text\n",
              "0  662822308  ...  [barclays, ceo, stresses, importance, regulatory, cultural, reform, financial, services, brussels, conference]\n",
              "1  662822309  ...                                                                    [barclays, announces, result, rights, issue]\n",
              "2  662822310  ...                                                          [barclays, publishes, prospectus, 58bn, rights, issue]\n",
              "3  662822311  ...                           [barclays, group, finance, director, chris, lucas, step, end, week, due, ill, health]\n",
              "4  662822312  ...                    [barclays, announces, irene, mcdermott, brown, appointed, group, human, resources, director]\n",
              "\n",
              "[5 rows x 3 columns]"
            ]
          },
          "metadata": {
            "tags": []
          },
          "execution_count": 30
        }
      ]
    },
    {
      "cell_type": "code",
      "metadata": {
        "id": "yD4XT2j8jN1Z"
      },
      "source": [
        "def stem_and_lemmatize(words):\n",
        "    stems = stem_words(words)\n",
        "    lemmas = lemmatize_verbs(words)\n",
        "    return stems, lemmas"
      ],
      "execution_count": 31,
      "outputs": []
    },
    {
      "cell_type": "code",
      "metadata": {
        "colab": {
          "base_uri": "https://localhost:8080/",
          "height": 319
        },
        "id": "6M1IP54aw_eI",
        "outputId": "9286c405-1dda-4f56-899f-2bb3ef2cbc77"
      },
      "source": [
        "data['lemma'] = ''\n",
        "data['stem'] = ''\n",
        "\n",
        "for i, row in data.iterrows():\n",
        "    words = data.at[i, 'text']\n",
        "    stems, lemmas = stem_and_lemmatize(words)\n",
        "    data.at[i,'stem'] = stems\n",
        "    data.at[i, 'lemma'] = lemmas\n",
        "data.head()\n",
        "\n",
        "# Get Main Text, Lemma and Stem and can use all three to run different models to analyze performance\n",
        "\n",
        "#           barclays   ceo   stresses    importance ...........   Predict (Sentiment 0 vs 1, Topic - 0 vs 1 vs 2 vs 3) - categorical\n",
        "#Row1          1        1      0              3   - Features\n",
        "#Row2                \n"
      ],
      "execution_count": 33,
      "outputs": [
        {
          "output_type": "execute_result",
          "data": {
            "text/html": [
              "<div>\n",
              "<style scoped>\n",
              "    .dataframe tbody tr th:only-of-type {\n",
              "        vertical-align: middle;\n",
              "    }\n",
              "\n",
              "    .dataframe tbody tr th {\n",
              "        vertical-align: top;\n",
              "    }\n",
              "\n",
              "    .dataframe thead th {\n",
              "        text-align: right;\n",
              "    }\n",
              "</style>\n",
              "<table border=\"1\" class=\"dataframe\">\n",
              "  <thead>\n",
              "    <tr style=\"text-align: right;\">\n",
              "      <th></th>\n",
              "      <th>unit_id</th>\n",
              "      <th>id</th>\n",
              "      <th>text</th>\n",
              "      <th>lemma</th>\n",
              "      <th>stem</th>\n",
              "    </tr>\n",
              "  </thead>\n",
              "  <tbody>\n",
              "    <tr>\n",
              "      <th>0</th>\n",
              "      <td>662822308</td>\n",
              "      <td>436528000000000000</td>\n",
              "      <td>[barclays, ceo, stresses, importance, regulatory, cultural, reform, financial, services, brussels, conference]</td>\n",
              "      <td>[barclays, ceo, stress, importance, regulatory, cultural, reform, financial, service, brussels, conference]</td>\n",
              "      <td>[barclay, ceo, stresses, import, reg, cult, reform, fin, serv, brussel, conf]</td>\n",
              "    </tr>\n",
              "    <tr>\n",
              "      <th>1</th>\n",
              "      <td>662822309</td>\n",
              "      <td>386013000000000000</td>\n",
              "      <td>[barclays, announces, result, rights, issue]</td>\n",
              "      <td>[barclays, announce, result, right, issue]</td>\n",
              "      <td>[barclay, annount, result, right, issu]</td>\n",
              "    </tr>\n",
              "    <tr>\n",
              "      <th>2</th>\n",
              "      <td>662822310</td>\n",
              "      <td>379580000000000000</td>\n",
              "      <td>[barclays, publishes, prospectus, 58bn, rights, issue]</td>\n",
              "      <td>[barclays, publish, prospectus, 58bn, right, issue]</td>\n",
              "      <td>[barclay, publ, prospect, 58bn, right, issu]</td>\n",
              "    </tr>\n",
              "    <tr>\n",
              "      <th>3</th>\n",
              "      <td>662822311</td>\n",
              "      <td>367530000000000000</td>\n",
              "      <td>[barclays, group, finance, director, chris, lucas, step, end, week, due, ill, health]</td>\n",
              "      <td>[barclays, group, finance, director, chris, lucas, step, end, week, due, ill, health]</td>\n",
              "      <td>[barclay, group, fin, direct, chris, luca, step, end, week, due, il, heal]</td>\n",
              "    </tr>\n",
              "    <tr>\n",
              "      <th>4</th>\n",
              "      <td>662822312</td>\n",
              "      <td>360385000000000000</td>\n",
              "      <td>[barclays, announces, irene, mcdermott, brown, appointed, group, human, resources, director]</td>\n",
              "      <td>[barclays, announce, irene, mcdermott, brown, appoint, group, human, resources, director]</td>\n",
              "      <td>[barclay, annount, ir, mcdermott, brown, appoint, group, hum, resourc, direct]</td>\n",
              "    </tr>\n",
              "  </tbody>\n",
              "</table>\n",
              "</div>"
            ],
            "text/plain": [
              "     unit_id  ...                                                                            stem\n",
              "0  662822308  ...   [barclay, ceo, stresses, import, reg, cult, reform, fin, serv, brussel, conf]\n",
              "1  662822309  ...                                         [barclay, annount, result, right, issu]\n",
              "2  662822310  ...                                    [barclay, publ, prospect, 58bn, right, issu]\n",
              "3  662822311  ...      [barclay, group, fin, direct, chris, luca, step, end, week, due, il, heal]\n",
              "4  662822312  ...  [barclay, annount, ir, mcdermott, brown, appoint, group, hum, resourc, direct]\n",
              "\n",
              "[5 rows x 5 columns]"
            ]
          },
          "metadata": {
            "tags": []
          },
          "execution_count": 33
        }
      ]
    },
    {
      "cell_type": "markdown",
      "metadata": {
        "id": "BHAntwcyHCrp"
      },
      "source": [
        "- As we can see here that, the text column contains tokenized words, lemma contains lemmatized words, and stem column contains the stemmed words.\n",
        "- So, we can use these techniques according to our need of the project as suitable."
      ]
    },
    {
      "cell_type": "markdown",
      "metadata": {
        "id": "rH1xHs2OHfNX"
      },
      "source": [
        "# So, the tasks are:\n",
        "\n",
        "- ### Noise removal (Special character, html tags, accented characters, punctuation removal)\n",
        "- ### Lowercasing (can be task dependent in some cases)\n",
        "- ### Stop-word removal\n",
        "- ### Stemming / lemmatization"
      ]
    },
    {
      "cell_type": "markdown",
      "metadata": {
        "id": "wIODBSjRIkJz"
      },
      "source": [
        "- ### Now that the text cleaning is done, our text data is ready to be converted into the format, which the machine can understand (i.e. numbers).\n",
        "- ### We will see it in the next lectures in Vectorization and after that we can perform the following tasks on that:\n",
        "  - ### Sentiment Analysis\n",
        "  - ### Text Classification\n",
        "### etc. etc."
      ]
    },
    {
      "cell_type": "code",
      "metadata": {
        "id": "iZaWb9BiHX2p"
      },
      "source": [
        ""
      ],
      "execution_count": null,
      "outputs": []
    }
  ]
}